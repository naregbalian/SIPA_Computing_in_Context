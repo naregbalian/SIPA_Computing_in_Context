{
 "cells": [
  {
   "cell_type": "markdown",
   "metadata": {},
   "source": [
    "# Nareg Balian--nsb2165 Project 2"
   ]
  },
  {
   "cell_type": "markdown",
   "metadata": {
    "id": "nrJuyyijuwpA"
   },
   "source": [
    "# Step 1:\n",
    "\n",
    "### I imported the files and imported pandas and matplotlib. I discuss more about the data and my reasoning in the conclusion section.\n",
    "\n",
    "#### These are the links to the data:\n",
    "\n",
    "<https://cde.ucr.cjis.gov/LATEST/webapp/#>\n",
    "\n",
    "#### and:\n",
    "\n",
    "<https://hdpulse.nimhd.nih.gov/data-portal/social/table?age=001&age_options=ageall_1&demo=00007&demo_options=poverty_3&race=00&race_options=race_7&sex=0&sex_options=sexboth_1&socialtopic=080&socialtopic_options=social_6&statefips=00&statefips_options=area_states>"
   ]
  },
  {
   "cell_type": "code",
   "execution_count": 14,
   "metadata": {},
   "outputs": [],
   "source": [
    "import plotly.io as pio\n",
    "\n",
    "pio.renderers.default = \"vscode+jupyterlab+notebook_connected\""
   ]
  },
  {
   "cell_type": "code",
   "execution_count": 15,
   "metadata": {
    "colab": {
     "base_uri": "https://localhost:8080/",
     "height": 424
    },
    "collapsed": true,
    "id": "T6RJ6-3QHWEx",
    "outputId": "93e2667f-31b0-4b4f-c5ce-3b0b80d1627c"
   },
   "outputs": [
    {
     "data": {
      "text/html": [
       "<div>\n",
       "<style scoped>\n",
       "    .dataframe tbody tr th:only-of-type {\n",
       "        vertical-align: middle;\n",
       "    }\n",
       "\n",
       "    .dataframe tbody tr th {\n",
       "        vertical-align: top;\n",
       "    }\n",
       "\n",
       "    .dataframe thead th {\n",
       "        text-align: right;\n",
       "    }\n",
       "</style>\n",
       "<table border=\"1\" class=\"dataframe\">\n",
       "  <thead>\n",
       "    <tr style=\"text-align: right;\">\n",
       "      <th></th>\n",
       "      <th>State</th>\n",
       "      <th>FIPS</th>\n",
       "      <th>Poverty Rate (%)</th>\n",
       "      <th>Families Below Poverty</th>\n",
       "      <th>Rank within US</th>\n",
       "    </tr>\n",
       "  </thead>\n",
       "  <tbody>\n",
       "    <tr>\n",
       "      <th>0</th>\n",
       "      <td>All Races (includes Hispanic/Latino), Both Sex...</td>\n",
       "      <td>NaN</td>\n",
       "      <td>NaN</td>\n",
       "      <td>NaN</td>\n",
       "      <td>NaN</td>\n",
       "    </tr>\n",
       "    <tr>\n",
       "      <th>1</th>\n",
       "      <td>Sorted by Value</td>\n",
       "      <td>NaN</td>\n",
       "      <td>NaN</td>\n",
       "      <td>NaN</td>\n",
       "      <td>NaN</td>\n",
       "    </tr>\n",
       "    <tr>\n",
       "      <th>2</th>\n",
       "      <td>NaN</td>\n",
       "      <td>NaN</td>\n",
       "      <td>NaN</td>\n",
       "      <td>NaN</td>\n",
       "      <td>NaN</td>\n",
       "    </tr>\n",
       "    <tr>\n",
       "      <th>3</th>\n",
       "      <td>State</td>\n",
       "      <td>FIPS</td>\n",
       "      <td>Value (Percent)</td>\n",
       "      <td>Families (Below Poverty)</td>\n",
       "      <td>Rank within US (of 52 states)</td>\n",
       "    </tr>\n",
       "    <tr>\n",
       "      <th>4</th>\n",
       "      <td>United States</td>\n",
       "      <td>0</td>\n",
       "      <td>8.8</td>\n",
       "      <td>7151167</td>\n",
       "      <td>NaN</td>\n",
       "    </tr>\n",
       "    <tr>\n",
       "      <th>...</th>\n",
       "      <td>...</td>\n",
       "      <td>...</td>\n",
       "      <td>...</td>\n",
       "      <td>...</td>\n",
       "      <td>...</td>\n",
       "    </tr>\n",
       "    <tr>\n",
       "      <th>59</th>\n",
       "      <td>HDPulse: An Ecosystem of Minority Health and H...</td>\n",
       "      <td>NaN</td>\n",
       "      <td>NaN</td>\n",
       "      <td>NaN</td>\n",
       "      <td>NaN</td>\n",
       "    </tr>\n",
       "    <tr>\n",
       "      <th>60</th>\n",
       "      <td>NaN</td>\n",
       "      <td>NaN</td>\n",
       "      <td>NaN</td>\n",
       "      <td>NaN</td>\n",
       "      <td>NaN</td>\n",
       "    </tr>\n",
       "    <tr>\n",
       "      <th>61</th>\n",
       "      <td>Notes:</td>\n",
       "      <td>NaN</td>\n",
       "      <td>NaN</td>\n",
       "      <td>NaN</td>\n",
       "      <td>NaN</td>\n",
       "    </tr>\n",
       "    <tr>\n",
       "      <th>62</th>\n",
       "      <td>Source: Demographic data provided by the Censu...</td>\n",
       "      <td>NaN</td>\n",
       "      <td>NaN</td>\n",
       "      <td>NaN</td>\n",
       "      <td>NaN</td>\n",
       "    </tr>\n",
       "    <tr>\n",
       "      <th>63</th>\n",
       "      <td>For more information about Poverty (Families b...</td>\n",
       "      <td>NaN</td>\n",
       "      <td>NaN</td>\n",
       "      <td>NaN</td>\n",
       "      <td>NaN</td>\n",
       "    </tr>\n",
       "  </tbody>\n",
       "</table>\n",
       "<p>64 rows × 5 columns</p>\n",
       "</div>"
      ],
      "text/plain": [
       "                                                State  FIPS Poverty Rate (%)  \\\n",
       "0   All Races (includes Hispanic/Latino), Both Sex...   NaN              NaN   \n",
       "1                                     Sorted by Value   NaN              NaN   \n",
       "2                                                 NaN   NaN              NaN   \n",
       "3                                               State  FIPS  Value (Percent)   \n",
       "4                                       United States     0              8.8   \n",
       "..                                                ...   ...              ...   \n",
       "59  HDPulse: An Ecosystem of Minority Health and H...   NaN              NaN   \n",
       "60                                                NaN   NaN              NaN   \n",
       "61                                             Notes:   NaN              NaN   \n",
       "62  Source: Demographic data provided by the Censu...   NaN              NaN   \n",
       "63  For more information about Poverty (Families b...   NaN              NaN   \n",
       "\n",
       "      Families Below Poverty                 Rank within US  \n",
       "0                        NaN                            NaN  \n",
       "1                        NaN                            NaN  \n",
       "2                        NaN                            NaN  \n",
       "3   Families (Below Poverty)  Rank within US (of 52 states)  \n",
       "4                    7151167                            NaN  \n",
       "..                       ...                            ...  \n",
       "59                       NaN                            NaN  \n",
       "60                       NaN                            NaN  \n",
       "61                       NaN                            NaN  \n",
       "62                       NaN                            NaN  \n",
       "63                       NaN                            NaN  \n",
       "\n",
       "[64 rows x 5 columns]"
      ]
     },
     "execution_count": 15,
     "metadata": {},
     "output_type": "execute_result"
    }
   ],
   "source": [
    "import pandas as pd\n",
    "import matplotlib.pyplot as plt\n",
    "\n",
    "poverty_file = 'poverty_by_state.csv'\n",
    "hate_crime_file = 'Table_12_Agency_Hate_Crime_Reporting_by_State_and_Federal_2023.csv'\n",
    "\n",
    "poverty_data = pd.read_csv(poverty_file)\n",
    "poverty_data.columns = [\"State\", \"FIPS\", \"Poverty Rate (%)\", \"Families Below Poverty\", \"Rank within US\"]\n",
    "\n",
    "poverty_data\n"
   ]
  },
  {
   "cell_type": "markdown",
   "metadata": {
    "id": "rcqpC8tk3Exp"
   },
   "source": [
    "# Step 2:\n",
    "\n",
    "The poverty data was not cleaned, so I cleaned the data by dropping the rows that were not states. I utilized mapping for the states. I then converted the values to numeric values.\n",
    "\n"
   ]
  },
  {
   "cell_type": "code",
   "execution_count": 16,
   "metadata": {
    "colab": {
     "base_uri": "https://localhost:8080/",
     "height": 1000
    },
    "collapsed": true,
    "id": "HqwRWOvRY62Y",
    "outputId": "385f30ad-d8d8-48bc-8be6-17cd6e25fd8d"
   },
   "outputs": [
    {
     "data": {
      "text/html": [
       "<div>\n",
       "<style scoped>\n",
       "    .dataframe tbody tr th:only-of-type {\n",
       "        vertical-align: middle;\n",
       "    }\n",
       "\n",
       "    .dataframe tbody tr th {\n",
       "        vertical-align: top;\n",
       "    }\n",
       "\n",
       "    .dataframe thead th {\n",
       "        text-align: right;\n",
       "    }\n",
       "</style>\n",
       "<table border=\"1\" class=\"dataframe\">\n",
       "  <thead>\n",
       "    <tr style=\"text-align: right;\">\n",
       "      <th></th>\n",
       "      <th>State</th>\n",
       "      <th>FIPS</th>\n",
       "      <th>Poverty Rate (%)</th>\n",
       "      <th>Families Below Poverty</th>\n",
       "      <th>Rank within US</th>\n",
       "    </tr>\n",
       "  </thead>\n",
       "  <tbody>\n",
       "    <tr>\n",
       "      <th>2</th>\n",
       "      <td>Mississippi</td>\n",
       "      <td>28000</td>\n",
       "      <td>14.4</td>\n",
       "      <td>106581</td>\n",
       "      <td>51</td>\n",
       "    </tr>\n",
       "    <tr>\n",
       "      <th>3</th>\n",
       "      <td>Louisiana</td>\n",
       "      <td>22000</td>\n",
       "      <td>13.9</td>\n",
       "      <td>156055</td>\n",
       "      <td>50</td>\n",
       "    </tr>\n",
       "    <tr>\n",
       "      <th>4</th>\n",
       "      <td>New Mexico</td>\n",
       "      <td>35000</td>\n",
       "      <td>13.7</td>\n",
       "      <td>68850</td>\n",
       "      <td>49</td>\n",
       "    </tr>\n",
       "    <tr>\n",
       "      <th>5</th>\n",
       "      <td>West Virginia</td>\n",
       "      <td>54000</td>\n",
       "      <td>11.9</td>\n",
       "      <td>53672</td>\n",
       "      <td>48</td>\n",
       "    </tr>\n",
       "    <tr>\n",
       "      <th>6</th>\n",
       "      <td>Kentucky</td>\n",
       "      <td>21000</td>\n",
       "      <td>11.7</td>\n",
       "      <td>133954</td>\n",
       "      <td>47</td>\n",
       "    </tr>\n",
       "    <tr>\n",
       "      <th>7</th>\n",
       "      <td>Arkansas</td>\n",
       "      <td>5000</td>\n",
       "      <td>11.6</td>\n",
       "      <td>88915</td>\n",
       "      <td>46</td>\n",
       "    </tr>\n",
       "    <tr>\n",
       "      <th>8</th>\n",
       "      <td>Alabama</td>\n",
       "      <td>1000</td>\n",
       "      <td>11.3</td>\n",
       "      <td>141807</td>\n",
       "      <td>45</td>\n",
       "    </tr>\n",
       "    <tr>\n",
       "      <th>9</th>\n",
       "      <td>Oklahoma</td>\n",
       "      <td>40000</td>\n",
       "      <td>11.0</td>\n",
       "      <td>108707</td>\n",
       "      <td>44</td>\n",
       "    </tr>\n",
       "    <tr>\n",
       "      <th>11</th>\n",
       "      <td>Texas</td>\n",
       "      <td>48000</td>\n",
       "      <td>10.7</td>\n",
       "      <td>765437</td>\n",
       "      <td>42</td>\n",
       "    </tr>\n",
       "    <tr>\n",
       "      <th>12</th>\n",
       "      <td>South Carolina</td>\n",
       "      <td>45000</td>\n",
       "      <td>10.2</td>\n",
       "      <td>134309</td>\n",
       "      <td>41</td>\n",
       "    </tr>\n",
       "    <tr>\n",
       "      <th>13</th>\n",
       "      <td>Georgia</td>\n",
       "      <td>13000</td>\n",
       "      <td>10.0</td>\n",
       "      <td>263451</td>\n",
       "      <td>40</td>\n",
       "    </tr>\n",
       "    <tr>\n",
       "      <th>14</th>\n",
       "      <td>Tennessee</td>\n",
       "      <td>47000</td>\n",
       "      <td>10.0</td>\n",
       "      <td>176096</td>\n",
       "      <td>39</td>\n",
       "    </tr>\n",
       "    <tr>\n",
       "      <th>15</th>\n",
       "      <td>New York</td>\n",
       "      <td>36000</td>\n",
       "      <td>9.7</td>\n",
       "      <td>461391</td>\n",
       "      <td>38</td>\n",
       "    </tr>\n",
       "    <tr>\n",
       "      <th>16</th>\n",
       "      <td>North Carolina</td>\n",
       "      <td>37000</td>\n",
       "      <td>9.5</td>\n",
       "      <td>252021</td>\n",
       "      <td>37</td>\n",
       "    </tr>\n",
       "    <tr>\n",
       "      <th>17</th>\n",
       "      <td>Ohio</td>\n",
       "      <td>39000</td>\n",
       "      <td>9.3</td>\n",
       "      <td>274036</td>\n",
       "      <td>36</td>\n",
       "    </tr>\n",
       "    <tr>\n",
       "      <th>18</th>\n",
       "      <td>Arizona</td>\n",
       "      <td>4000</td>\n",
       "      <td>9.2</td>\n",
       "      <td>163902</td>\n",
       "      <td>35</td>\n",
       "    </tr>\n",
       "    <tr>\n",
       "      <th>19</th>\n",
       "      <td>Florida</td>\n",
       "      <td>12000</td>\n",
       "      <td>9.1</td>\n",
       "      <td>492413</td>\n",
       "      <td>34</td>\n",
       "    </tr>\n",
       "    <tr>\n",
       "      <th>20</th>\n",
       "      <td>Nevada</td>\n",
       "      <td>32000</td>\n",
       "      <td>9.0</td>\n",
       "      <td>67110</td>\n",
       "      <td>33</td>\n",
       "    </tr>\n",
       "    <tr>\n",
       "      <th>21</th>\n",
       "      <td>Michigan</td>\n",
       "      <td>26000</td>\n",
       "      <td>8.8</td>\n",
       "      <td>222032</td>\n",
       "      <td>32</td>\n",
       "    </tr>\n",
       "    <tr>\n",
       "      <th>22</th>\n",
       "      <td>California</td>\n",
       "      <td>6000</td>\n",
       "      <td>8.5</td>\n",
       "      <td>776066</td>\n",
       "      <td>31</td>\n",
       "    </tr>\n",
       "    <tr>\n",
       "      <th>23</th>\n",
       "      <td>Missouri</td>\n",
       "      <td>29000</td>\n",
       "      <td>8.5</td>\n",
       "      <td>131020</td>\n",
       "      <td>30</td>\n",
       "    </tr>\n",
       "    <tr>\n",
       "      <th>24</th>\n",
       "      <td>Indiana</td>\n",
       "      <td>18000</td>\n",
       "      <td>8.5</td>\n",
       "      <td>143800</td>\n",
       "      <td>29</td>\n",
       "    </tr>\n",
       "    <tr>\n",
       "      <th>25</th>\n",
       "      <td>Illinois</td>\n",
       "      <td>17000</td>\n",
       "      <td>8.2</td>\n",
       "      <td>256079</td>\n",
       "      <td>28</td>\n",
       "    </tr>\n",
       "    <tr>\n",
       "      <th>26</th>\n",
       "      <td>Pennsylvania</td>\n",
       "      <td>42000</td>\n",
       "      <td>8.0</td>\n",
       "      <td>262184</td>\n",
       "      <td>27</td>\n",
       "    </tr>\n",
       "    <tr>\n",
       "      <th>27</th>\n",
       "      <td>Kansas</td>\n",
       "      <td>20000</td>\n",
       "      <td>7.6</td>\n",
       "      <td>56045</td>\n",
       "      <td>26</td>\n",
       "    </tr>\n",
       "    <tr>\n",
       "      <th>28</th>\n",
       "      <td>South Dakota</td>\n",
       "      <td>46000</td>\n",
       "      <td>7.5</td>\n",
       "      <td>16445</td>\n",
       "      <td>25</td>\n",
       "    </tr>\n",
       "    <tr>\n",
       "      <th>29</th>\n",
       "      <td>Delaware</td>\n",
       "      <td>10000</td>\n",
       "      <td>7.5</td>\n",
       "      <td>18950</td>\n",
       "      <td>24</td>\n",
       "    </tr>\n",
       "    <tr>\n",
       "      <th>30</th>\n",
       "      <td>Montana</td>\n",
       "      <td>30000</td>\n",
       "      <td>7.3</td>\n",
       "      <td>19812</td>\n",
       "      <td>23</td>\n",
       "    </tr>\n",
       "    <tr>\n",
       "      <th>31</th>\n",
       "      <td>Idaho</td>\n",
       "      <td>16000</td>\n",
       "      <td>7.3</td>\n",
       "      <td>33802</td>\n",
       "      <td>22</td>\n",
       "    </tr>\n",
       "    <tr>\n",
       "      <th>32</th>\n",
       "      <td>Oregon</td>\n",
       "      <td>41000</td>\n",
       "      <td>7.3</td>\n",
       "      <td>75694</td>\n",
       "      <td>21</td>\n",
       "    </tr>\n",
       "    <tr>\n",
       "      <th>33</th>\n",
       "      <td>Rhode Island</td>\n",
       "      <td>44000</td>\n",
       "      <td>7.2</td>\n",
       "      <td>19196</td>\n",
       "      <td>20</td>\n",
       "    </tr>\n",
       "    <tr>\n",
       "      <th>34</th>\n",
       "      <td>Alaska</td>\n",
       "      <td>2900</td>\n",
       "      <td>7.2</td>\n",
       "      <td>12256</td>\n",
       "      <td>19</td>\n",
       "    </tr>\n",
       "    <tr>\n",
       "      <th>35</th>\n",
       "      <td>Iowa</td>\n",
       "      <td>19000</td>\n",
       "      <td>7.0</td>\n",
       "      <td>56617</td>\n",
       "      <td>18</td>\n",
       "    </tr>\n",
       "    <tr>\n",
       "      <th>36</th>\n",
       "      <td>New Jersey</td>\n",
       "      <td>34000</td>\n",
       "      <td>6.9</td>\n",
       "      <td>162445</td>\n",
       "      <td>17</td>\n",
       "    </tr>\n",
       "    <tr>\n",
       "      <th>37</th>\n",
       "      <td>Connecticut</td>\n",
       "      <td>9000</td>\n",
       "      <td>6.8</td>\n",
       "      <td>62426</td>\n",
       "      <td>16</td>\n",
       "    </tr>\n",
       "    <tr>\n",
       "      <th>38</th>\n",
       "      <td>Wyoming</td>\n",
       "      <td>56000</td>\n",
       "      <td>6.8</td>\n",
       "      <td>10055</td>\n",
       "      <td>15</td>\n",
       "    </tr>\n",
       "    <tr>\n",
       "      <th>39</th>\n",
       "      <td>Virginia</td>\n",
       "      <td>51000</td>\n",
       "      <td>6.8</td>\n",
       "      <td>145980</td>\n",
       "      <td>14</td>\n",
       "    </tr>\n",
       "    <tr>\n",
       "      <th>40</th>\n",
       "      <td>Nebraska</td>\n",
       "      <td>31000</td>\n",
       "      <td>6.7</td>\n",
       "      <td>32681</td>\n",
       "      <td>13</td>\n",
       "    </tr>\n",
       "    <tr>\n",
       "      <th>41</th>\n",
       "      <td>Wisconsin</td>\n",
       "      <td>55000</td>\n",
       "      <td>6.6</td>\n",
       "      <td>98072</td>\n",
       "      <td>12</td>\n",
       "    </tr>\n",
       "    <tr>\n",
       "      <th>42</th>\n",
       "      <td>Hawaii</td>\n",
       "      <td>15000</td>\n",
       "      <td>6.5</td>\n",
       "      <td>21700</td>\n",
       "      <td>11</td>\n",
       "    </tr>\n",
       "    <tr>\n",
       "      <th>43</th>\n",
       "      <td>Massachusetts</td>\n",
       "      <td>25000</td>\n",
       "      <td>6.5</td>\n",
       "      <td>111966</td>\n",
       "      <td>10</td>\n",
       "    </tr>\n",
       "    <tr>\n",
       "      <th>44</th>\n",
       "      <td>Maine</td>\n",
       "      <td>23000</td>\n",
       "      <td>6.4</td>\n",
       "      <td>22666</td>\n",
       "      <td>9</td>\n",
       "    </tr>\n",
       "    <tr>\n",
       "      <th>45</th>\n",
       "      <td>Washington</td>\n",
       "      <td>53000</td>\n",
       "      <td>6.3</td>\n",
       "      <td>121312</td>\n",
       "      <td>8</td>\n",
       "    </tr>\n",
       "    <tr>\n",
       "      <th>46</th>\n",
       "      <td>Maryland</td>\n",
       "      <td>24000</td>\n",
       "      <td>6.2</td>\n",
       "      <td>94779</td>\n",
       "      <td>7</td>\n",
       "    </tr>\n",
       "    <tr>\n",
       "      <th>47</th>\n",
       "      <td>North Dakota</td>\n",
       "      <td>38000</td>\n",
       "      <td>6.1</td>\n",
       "      <td>11567</td>\n",
       "      <td>6</td>\n",
       "    </tr>\n",
       "    <tr>\n",
       "      <th>48</th>\n",
       "      <td>Colorado</td>\n",
       "      <td>8000</td>\n",
       "      <td>6.0</td>\n",
       "      <td>84990</td>\n",
       "      <td>5</td>\n",
       "    </tr>\n",
       "    <tr>\n",
       "      <th>49</th>\n",
       "      <td>Vermont</td>\n",
       "      <td>50000</td>\n",
       "      <td>5.9</td>\n",
       "      <td>9229</td>\n",
       "      <td>4</td>\n",
       "    </tr>\n",
       "    <tr>\n",
       "      <th>50</th>\n",
       "      <td>Utah</td>\n",
       "      <td>49000</td>\n",
       "      <td>5.7</td>\n",
       "      <td>44250</td>\n",
       "      <td>3</td>\n",
       "    </tr>\n",
       "    <tr>\n",
       "      <th>51</th>\n",
       "      <td>Minnesota</td>\n",
       "      <td>27000</td>\n",
       "      <td>5.5</td>\n",
       "      <td>78687</td>\n",
       "      <td>2</td>\n",
       "    </tr>\n",
       "    <tr>\n",
       "      <th>52</th>\n",
       "      <td>New Hampshire</td>\n",
       "      <td>33000</td>\n",
       "      <td>4.4</td>\n",
       "      <td>15526</td>\n",
       "      <td>1</td>\n",
       "    </tr>\n",
       "  </tbody>\n",
       "</table>\n",
       "</div>"
      ],
      "text/plain": [
       "             State   FIPS  Poverty Rate (%)  Families Below Poverty  \\\n",
       "2      Mississippi  28000              14.4                  106581   \n",
       "3        Louisiana  22000              13.9                  156055   \n",
       "4       New Mexico  35000              13.7                   68850   \n",
       "5    West Virginia  54000              11.9                   53672   \n",
       "6         Kentucky  21000              11.7                  133954   \n",
       "7         Arkansas   5000              11.6                   88915   \n",
       "8          Alabama   1000              11.3                  141807   \n",
       "9         Oklahoma  40000              11.0                  108707   \n",
       "11           Texas  48000              10.7                  765437   \n",
       "12  South Carolina  45000              10.2                  134309   \n",
       "13         Georgia  13000              10.0                  263451   \n",
       "14       Tennessee  47000              10.0                  176096   \n",
       "15        New York  36000               9.7                  461391   \n",
       "16  North Carolina  37000               9.5                  252021   \n",
       "17            Ohio  39000               9.3                  274036   \n",
       "18         Arizona   4000               9.2                  163902   \n",
       "19         Florida  12000               9.1                  492413   \n",
       "20          Nevada  32000               9.0                   67110   \n",
       "21        Michigan  26000               8.8                  222032   \n",
       "22      California   6000               8.5                  776066   \n",
       "23        Missouri  29000               8.5                  131020   \n",
       "24         Indiana  18000               8.5                  143800   \n",
       "25        Illinois  17000               8.2                  256079   \n",
       "26    Pennsylvania  42000               8.0                  262184   \n",
       "27          Kansas  20000               7.6                   56045   \n",
       "28    South Dakota  46000               7.5                   16445   \n",
       "29        Delaware  10000               7.5                   18950   \n",
       "30         Montana  30000               7.3                   19812   \n",
       "31           Idaho  16000               7.3                   33802   \n",
       "32          Oregon  41000               7.3                   75694   \n",
       "33    Rhode Island  44000               7.2                   19196   \n",
       "34          Alaska   2900               7.2                   12256   \n",
       "35            Iowa  19000               7.0                   56617   \n",
       "36      New Jersey  34000               6.9                  162445   \n",
       "37     Connecticut   9000               6.8                   62426   \n",
       "38         Wyoming  56000               6.8                   10055   \n",
       "39        Virginia  51000               6.8                  145980   \n",
       "40        Nebraska  31000               6.7                   32681   \n",
       "41       Wisconsin  55000               6.6                   98072   \n",
       "42          Hawaii  15000               6.5                   21700   \n",
       "43   Massachusetts  25000               6.5                  111966   \n",
       "44           Maine  23000               6.4                   22666   \n",
       "45      Washington  53000               6.3                  121312   \n",
       "46        Maryland  24000               6.2                   94779   \n",
       "47    North Dakota  38000               6.1                   11567   \n",
       "48        Colorado   8000               6.0                   84990   \n",
       "49         Vermont  50000               5.9                    9229   \n",
       "50            Utah  49000               5.7                   44250   \n",
       "51       Minnesota  27000               5.5                   78687   \n",
       "52   New Hampshire  33000               4.4                   15526   \n",
       "\n",
       "    Rank within US  \n",
       "2               51  \n",
       "3               50  \n",
       "4               49  \n",
       "5               48  \n",
       "6               47  \n",
       "7               46  \n",
       "8               45  \n",
       "9               44  \n",
       "11              42  \n",
       "12              41  \n",
       "13              40  \n",
       "14              39  \n",
       "15              38  \n",
       "16              37  \n",
       "17              36  \n",
       "18              35  \n",
       "19              34  \n",
       "20              33  \n",
       "21              32  \n",
       "22              31  \n",
       "23              30  \n",
       "24              29  \n",
       "25              28  \n",
       "26              27  \n",
       "27              26  \n",
       "28              25  \n",
       "29              24  \n",
       "30              23  \n",
       "31              22  \n",
       "32              21  \n",
       "33              20  \n",
       "34              19  \n",
       "35              18  \n",
       "36              17  \n",
       "37              16  \n",
       "38              15  \n",
       "39              14  \n",
       "40              13  \n",
       "41              12  \n",
       "42              11  \n",
       "43              10  \n",
       "44               9  \n",
       "45               8  \n",
       "46               7  \n",
       "47               6  \n",
       "48               5  \n",
       "49               4  \n",
       "50               3  \n",
       "51               2  \n",
       "52               1  "
      ]
     },
     "execution_count": 16,
     "metadata": {},
     "output_type": "execute_result"
    }
   ],
   "source": [
    "poverty_data = pd.read_csv(poverty_file, encoding='ISO-8859-1') #used GPT for this line\n",
    "\n",
    "poverty_cleaned = poverty_data.iloc[3:].reset_index(drop=True) #used GPT for this line\n",
    "poverty_cleaned.columns = [\n",
    "    \"State\",\n",
    "    \"FIPS\",\n",
    "    \"Poverty Rate (%)\",\n",
    "    \"Families Below Poverty\",\n",
    "    \"Rank within US\"\n",
    "]\n",
    "\n",
    "poverty_cleaned = poverty_cleaned[poverty_cleaned[\"State\"] != \"State\"].reset_index(drop=True) #used gpt for this line\n",
    "\n",
    "valid_states = [\n",
    "    'Alabama', 'Alaska', 'Arizona', 'Arkansas', 'California', 'Colorado',\n",
    "    'Connecticut', 'Delaware', 'Florida', 'Georgia', 'Hawaii', 'Idaho',\n",
    "    'Illinois', 'Indiana', 'Iowa', 'Kansas', 'Kentucky', 'Louisiana',\n",
    "    'Maine', 'Maryland', 'Massachusetts', 'Michigan', 'Minnesota',\n",
    "    'Mississippi', 'Missouri', 'Montana', 'Nebraska', 'Nevada',\n",
    "    'New Hampshire', 'New Jersey', 'New Mexico', 'New York',\n",
    "    'North Carolina', 'North Dakota', 'Ohio', 'Oklahoma', 'Oregon',\n",
    "    'Pennsylvania', 'Rhode Island', 'South Carolina', 'South Dakota',\n",
    "    'Tennessee', 'Texas', 'Utah', 'Vermont', 'Virginia', 'Washington',\n",
    "    'West Virginia', 'Wisconsin', 'Wyoming'\n",
    "]\n",
    "poverty_cleaned = poverty_cleaned[poverty_cleaned[\"State\"].isin(valid_states)] #had GPT help with this one\n",
    "\n",
    "poverty_cleaned[\"Poverty Rate (%)\"] = pd.to_numeric(poverty_cleaned[\"Poverty Rate (%)\"], errors=\"coerce\") #used GPT for errors=\"coerce\"\n",
    "poverty_cleaned[\"Families Below Poverty\"] = pd.to_numeric(poverty_cleaned[\"Families Below Poverty\"], errors=\"coerce\")\n",
    "poverty_cleaned[\"Rank within US\"] = pd.to_numeric(poverty_cleaned[\"Rank within US\"], errors=\"coerce\")\n",
    "\n",
    "poverty_cleaned\n"
   ]
  },
  {
   "cell_type": "markdown",
   "metadata": {
    "id": "SOlQDSvb38IQ"
   },
   "source": [
    "# Step 3:\n",
    "I created a bar chart looking at the poverty rate by state with my cleaned data."
   ]
  },
  {
   "cell_type": "code",
   "execution_count": 17,
   "metadata": {
    "colab": {
     "base_uri": "https://localhost:8080/",
     "height": 807
    },
    "id": "9C8EfRi2bZ3B",
    "outputId": "f1eb3e25-dee3-498f-bd1f-0b63caad547b"
   },
   "outputs": [
    {
     "data": {
      "image/png": "[encoded data removed]",
      "text/plain": [
       "<Figure size 1200x800 with 1 Axes>"
      ]
     },
     "metadata": {},
     "output_type": "display_data"
    }
   ],
   "source": [
    "import matplotlib.pyplot as plt\n",
    "\n",
    "poverty_cleaned_sorted = poverty_cleaned.sort_values(by=\"Poverty Rate (%)\", ascending=False)\n",
    "\n",
    "plt.figure(figsize=(12, 8)) #used GPT for this line\n",
    "plt.barh(poverty_cleaned_sorted[\"State\"], poverty_cleaned_sorted[\"Poverty Rate (%)\"], color='skyblue')\n",
    "plt.xlabel(\"Poverty Rate (%)\")\n",
    "plt.ylabel(\"State\")\n",
    "plt.title(\"Poverty Rate by State\")\n",
    "plt.gca().invert_yaxis()  # Invert y-axis for better readability--used GPT for this line\n",
    "plt.tight_layout() #used GPT for this line\n",
    "plt.show()\n"
   ]
  },
  {
   "cell_type": "markdown",
   "metadata": {
    "id": "dRPRRe_I4IoT"
   },
   "source": [
    "# Step 4:\n",
    "\n",
    "I uploaded the FBI's hate crime data and created a data frame with specific columns that were interesting for me."
   ]
  },
  {
   "cell_type": "code",
   "execution_count": 18,
   "metadata": {
    "colab": {
     "base_uri": "https://localhost:8080/",
     "height": 424
    },
    "id": "WoW9Yd0jYV2U",
    "outputId": "d0e053e0-828e-4237-c518-ecff74d3b3cd"
   },
   "outputs": [
    {
     "data": {
      "text/html": [
       "<div>\n",
       "<style scoped>\n",
       "    .dataframe tbody tr th:only-of-type {\n",
       "        vertical-align: middle;\n",
       "    }\n",
       "\n",
       "    .dataframe tbody tr th {\n",
       "        vertical-align: top;\n",
       "    }\n",
       "\n",
       "    .dataframe thead th {\n",
       "        text-align: right;\n",
       "    }\n",
       "</style>\n",
       "<table border=\"1\" class=\"dataframe\">\n",
       "  <thead>\n",
       "    <tr style=\"text-align: right;\">\n",
       "      <th></th>\n",
       "      <th>State</th>\n",
       "      <th>Participating Agencies</th>\n",
       "      <th>Population Covered</th>\n",
       "      <th>Submitting Agencies</th>\n",
       "      <th>Total Incidents Reported</th>\n",
       "    </tr>\n",
       "  </thead>\n",
       "  <tbody>\n",
       "    <tr>\n",
       "      <th>0</th>\n",
       "      <td>Total</td>\n",
       "      <td>16,009</td>\n",
       "      <td>318,788,491</td>\n",
       "      <td>3,161</td>\n",
       "      <td>11,862</td>\n",
       "    </tr>\n",
       "    <tr>\n",
       "      <th>1</th>\n",
       "      <td>Alabama</td>\n",
       "      <td>408</td>\n",
       "      <td>4,715,066</td>\n",
       "      <td>74</td>\n",
       "      <td>182</td>\n",
       "    </tr>\n",
       "    <tr>\n",
       "      <th>2</th>\n",
       "      <td>Alaska</td>\n",
       "      <td>32</td>\n",
       "      <td>728,197</td>\n",
       "      <td>8</td>\n",
       "      <td>20</td>\n",
       "    </tr>\n",
       "    <tr>\n",
       "      <th>3</th>\n",
       "      <td>Arizona</td>\n",
       "      <td>107</td>\n",
       "      <td>6,826,055</td>\n",
       "      <td>42</td>\n",
       "      <td>230</td>\n",
       "    </tr>\n",
       "    <tr>\n",
       "      <th>4</th>\n",
       "      <td>Arkansas</td>\n",
       "      <td>298</td>\n",
       "      <td>2,981,249</td>\n",
       "      <td>15</td>\n",
       "      <td>28</td>\n",
       "    </tr>\n",
       "    <tr>\n",
       "      <th>...</th>\n",
       "      <td>...</td>\n",
       "      <td>...</td>\n",
       "      <td>...</td>\n",
       "      <td>...</td>\n",
       "      <td>...</td>\n",
       "    </tr>\n",
       "    <tr>\n",
       "      <th>107</th>\n",
       "      <td>United States Postal Service, Office of Inspec...</td>\n",
       "      <td>1</td>\n",
       "      <td>NaN</td>\n",
       "      <td>0</td>\n",
       "      <td>0</td>\n",
       "    </tr>\n",
       "    <tr>\n",
       "      <th>108</th>\n",
       "      <td>United States Railroad Retirement Board, Offic...</td>\n",
       "      <td>1</td>\n",
       "      <td>NaN</td>\n",
       "      <td>0</td>\n",
       "      <td>0</td>\n",
       "    </tr>\n",
       "    <tr>\n",
       "      <th>109</th>\n",
       "      <td>United States Securities and Exchange Commissi...</td>\n",
       "      <td>1</td>\n",
       "      <td>NaN</td>\n",
       "      <td>0</td>\n",
       "      <td>0</td>\n",
       "    </tr>\n",
       "    <tr>\n",
       "      <th>110</th>\n",
       "      <td>United States Treasury Inspector General for T...</td>\n",
       "      <td>1</td>\n",
       "      <td>NaN</td>\n",
       "      <td>1</td>\n",
       "      <td>3</td>\n",
       "    </tr>\n",
       "    <tr>\n",
       "      <th>111</th>\n",
       "      <td>1 Population estimates are not attributed to t...</td>\n",
       "      <td>NaN</td>\n",
       "      <td>NaN</td>\n",
       "      <td>NaN</td>\n",
       "      <td>NaN</td>\n",
       "    </tr>\n",
       "  </tbody>\n",
       "</table>\n",
       "<p>112 rows × 5 columns</p>\n",
       "</div>"
      ],
      "text/plain": [
       "                                                 State Participating Agencies  \\\n",
       "0                                                Total                 16,009   \n",
       "1                                              Alabama                    408   \n",
       "2                                               Alaska                     32   \n",
       "3                                              Arizona                    107   \n",
       "4                                             Arkansas                    298   \n",
       "..                                                 ...                    ...   \n",
       "107  United States Postal Service, Office of Inspec...                      1   \n",
       "108  United States Railroad Retirement Board, Offic...                      1   \n",
       "109  United States Securities and Exchange Commissi...                      1   \n",
       "110  United States Treasury Inspector General for T...                      1   \n",
       "111  1 Population estimates are not attributed to t...                    NaN   \n",
       "\n",
       "    Population Covered Submitting Agencies Total Incidents Reported  \n",
       "0          318,788,491               3,161                   11,862  \n",
       "1            4,715,066                  74                      182  \n",
       "2              728,197                   8                       20  \n",
       "3            6,826,055                  42                      230  \n",
       "4            2,981,249                  15                       28  \n",
       "..                 ...                 ...                      ...  \n",
       "107                NaN                   0                        0  \n",
       "108                NaN                   0                        0  \n",
       "109                NaN                   0                        0  \n",
       "110                NaN                   1                        3  \n",
       "111                NaN                 NaN                      NaN  \n",
       "\n",
       "[112 rows x 5 columns]"
      ]
     },
     "execution_count": 18,
     "metadata": {},
     "output_type": "execute_result"
    }
   ],
   "source": [
    "hate_crime_data = pd.read_csv(hate_crime_file, header=2)  # Skipping top two rows, used GPT for header=2\n",
    "hate_crime_data.columns = [\n",
    "    \"State\",\n",
    "    \"Participating Agencies\",\n",
    "    \"Population Covered\",\n",
    "    \"Submitting Agencies\",\n",
    "    \"Total Incidents Reported\"\n",
    "]\n",
    "hate_crime_data"
   ]
  },
  {
   "cell_type": "markdown",
   "metadata": {
    "id": "eA3zcaCY5EeN"
   },
   "source": [
    "# Step 5:\n",
    "\n",
    "I cleaned the hate crime data by mapping again, using the correct encoding, and changing the specific values into floats.\n"
   ]
  },
  {
   "cell_type": "code",
   "execution_count": 19,
   "metadata": {
    "colab": {
     "base_uri": "https://localhost:8080/",
     "height": 1000
    },
    "collapsed": true,
    "id": "zfk_5e4kaE2j",
    "outputId": "1828dc4d-5258-46a0-cdb3-1eaec7ffa426"
   },
   "outputs": [
    {
     "data": {
      "text/html": [
       "<div>\n",
       "<style scoped>\n",
       "    .dataframe tbody tr th:only-of-type {\n",
       "        vertical-align: middle;\n",
       "    }\n",
       "\n",
       "    .dataframe tbody tr th {\n",
       "        vertical-align: top;\n",
       "    }\n",
       "\n",
       "    .dataframe thead th {\n",
       "        text-align: right;\n",
       "    }\n",
       "</style>\n",
       "<table border=\"1\" class=\"dataframe\">\n",
       "  <thead>\n",
       "    <tr style=\"text-align: right;\">\n",
       "      <th></th>\n",
       "      <th>State</th>\n",
       "      <th>Participating Agencies</th>\n",
       "      <th>Population Covered</th>\n",
       "      <th>Submitting Agencies</th>\n",
       "      <th>Total Incidents Reported</th>\n",
       "    </tr>\n",
       "  </thead>\n",
       "  <tbody>\n",
       "    <tr>\n",
       "      <th>0</th>\n",
       "      <td>Alabama</td>\n",
       "      <td>408.0</td>\n",
       "      <td>4715066.0</td>\n",
       "      <td>74.0</td>\n",
       "      <td>182.0</td>\n",
       "    </tr>\n",
       "    <tr>\n",
       "      <th>1</th>\n",
       "      <td>Alaska</td>\n",
       "      <td>32.0</td>\n",
       "      <td>728197.0</td>\n",
       "      <td>8.0</td>\n",
       "      <td>20.0</td>\n",
       "    </tr>\n",
       "    <tr>\n",
       "      <th>2</th>\n",
       "      <td>Arizona</td>\n",
       "      <td>107.0</td>\n",
       "      <td>6826055.0</td>\n",
       "      <td>42.0</td>\n",
       "      <td>230.0</td>\n",
       "    </tr>\n",
       "    <tr>\n",
       "      <th>3</th>\n",
       "      <td>Arkansas</td>\n",
       "      <td>298.0</td>\n",
       "      <td>2981249.0</td>\n",
       "      <td>15.0</td>\n",
       "      <td>28.0</td>\n",
       "    </tr>\n",
       "    <tr>\n",
       "      <th>4</th>\n",
       "      <td>California</td>\n",
       "      <td>842.0</td>\n",
       "      <td>38771948.0</td>\n",
       "      <td>334.0</td>\n",
       "      <td>1970.0</td>\n",
       "    </tr>\n",
       "    <tr>\n",
       "      <th>5</th>\n",
       "      <td>Colorado</td>\n",
       "      <td>224.0</td>\n",
       "      <td>5822451.0</td>\n",
       "      <td>55.0</td>\n",
       "      <td>272.0</td>\n",
       "    </tr>\n",
       "    <tr>\n",
       "      <th>6</th>\n",
       "      <td>Connecticut</td>\n",
       "      <td>108.0</td>\n",
       "      <td>3617176.0</td>\n",
       "      <td>53.0</td>\n",
       "      <td>103.0</td>\n",
       "    </tr>\n",
       "    <tr>\n",
       "      <th>7</th>\n",
       "      <td>Delaware</td>\n",
       "      <td>63.0</td>\n",
       "      <td>1031890.0</td>\n",
       "      <td>10.0</td>\n",
       "      <td>19.0</td>\n",
       "    </tr>\n",
       "    <tr>\n",
       "      <th>9</th>\n",
       "      <td>Florida</td>\n",
       "      <td>249.0</td>\n",
       "      <td>18148836.0</td>\n",
       "      <td>61.0</td>\n",
       "      <td>234.0</td>\n",
       "    </tr>\n",
       "    <tr>\n",
       "      <th>10</th>\n",
       "      <td>Georgia</td>\n",
       "      <td>447.0</td>\n",
       "      <td>10098610.0</td>\n",
       "      <td>57.0</td>\n",
       "      <td>138.0</td>\n",
       "    </tr>\n",
       "    <tr>\n",
       "      <th>11</th>\n",
       "      <td>Hawaii</td>\n",
       "      <td>3.0</td>\n",
       "      <td>1270885.0</td>\n",
       "      <td>2.0</td>\n",
       "      <td>25.0</td>\n",
       "    </tr>\n",
       "    <tr>\n",
       "      <th>12</th>\n",
       "      <td>Idaho</td>\n",
       "      <td>109.0</td>\n",
       "      <td>1957679.0</td>\n",
       "      <td>19.0</td>\n",
       "      <td>49.0</td>\n",
       "    </tr>\n",
       "    <tr>\n",
       "      <th>13</th>\n",
       "      <td>Illinois</td>\n",
       "      <td>626.0</td>\n",
       "      <td>11210798.0</td>\n",
       "      <td>86.0</td>\n",
       "      <td>319.0</td>\n",
       "    </tr>\n",
       "    <tr>\n",
       "      <th>14</th>\n",
       "      <td>Indiana</td>\n",
       "      <td>227.0</td>\n",
       "      <td>5854222.0</td>\n",
       "      <td>60.0</td>\n",
       "      <td>180.0</td>\n",
       "    </tr>\n",
       "    <tr>\n",
       "      <th>15</th>\n",
       "      <td>Iowa</td>\n",
       "      <td>252.0</td>\n",
       "      <td>2998687.0</td>\n",
       "      <td>34.0</td>\n",
       "      <td>63.0</td>\n",
       "    </tr>\n",
       "    <tr>\n",
       "      <th>16</th>\n",
       "      <td>Kansas</td>\n",
       "      <td>317.0</td>\n",
       "      <td>2705648.0</td>\n",
       "      <td>70.0</td>\n",
       "      <td>121.0</td>\n",
       "    </tr>\n",
       "    <tr>\n",
       "      <th>17</th>\n",
       "      <td>Kentucky</td>\n",
       "      <td>427.0</td>\n",
       "      <td>4524497.0</td>\n",
       "      <td>64.0</td>\n",
       "      <td>143.0</td>\n",
       "    </tr>\n",
       "    <tr>\n",
       "      <th>18</th>\n",
       "      <td>Louisiana</td>\n",
       "      <td>145.0</td>\n",
       "      <td>3423421.0</td>\n",
       "      <td>32.0</td>\n",
       "      <td>52.0</td>\n",
       "    </tr>\n",
       "    <tr>\n",
       "      <th>19</th>\n",
       "      <td>Maine</td>\n",
       "      <td>131.0</td>\n",
       "      <td>1395722.0</td>\n",
       "      <td>30.0</td>\n",
       "      <td>53.0</td>\n",
       "    </tr>\n",
       "    <tr>\n",
       "      <th>20</th>\n",
       "      <td>Maryland</td>\n",
       "      <td>134.0</td>\n",
       "      <td>5986435.0</td>\n",
       "      <td>53.0</td>\n",
       "      <td>248.0</td>\n",
       "    </tr>\n",
       "    <tr>\n",
       "      <th>21</th>\n",
       "      <td>Massachusetts</td>\n",
       "      <td>386.0</td>\n",
       "      <td>6971044.0</td>\n",
       "      <td>104.0</td>\n",
       "      <td>552.0</td>\n",
       "    </tr>\n",
       "    <tr>\n",
       "      <th>22</th>\n",
       "      <td>Michigan</td>\n",
       "      <td>595.0</td>\n",
       "      <td>9517887.0</td>\n",
       "      <td>155.0</td>\n",
       "      <td>365.0</td>\n",
       "    </tr>\n",
       "    <tr>\n",
       "      <th>23</th>\n",
       "      <td>Minnesota</td>\n",
       "      <td>406.0</td>\n",
       "      <td>5732979.0</td>\n",
       "      <td>66.0</td>\n",
       "      <td>181.0</td>\n",
       "    </tr>\n",
       "    <tr>\n",
       "      <th>24</th>\n",
       "      <td>Mississippi</td>\n",
       "      <td>156.0</td>\n",
       "      <td>1711605.0</td>\n",
       "      <td>14.0</td>\n",
       "      <td>17.0</td>\n",
       "    </tr>\n",
       "    <tr>\n",
       "      <th>25</th>\n",
       "      <td>Missouri</td>\n",
       "      <td>505.0</td>\n",
       "      <td>6100091.0</td>\n",
       "      <td>82.0</td>\n",
       "      <td>187.0</td>\n",
       "    </tr>\n",
       "    <tr>\n",
       "      <th>26</th>\n",
       "      <td>Montana</td>\n",
       "      <td>111.0</td>\n",
       "      <td>1131954.0</td>\n",
       "      <td>10.0</td>\n",
       "      <td>11.0</td>\n",
       "    </tr>\n",
       "    <tr>\n",
       "      <th>27</th>\n",
       "      <td>Nebraska</td>\n",
       "      <td>247.0</td>\n",
       "      <td>1902679.0</td>\n",
       "      <td>16.0</td>\n",
       "      <td>49.0</td>\n",
       "    </tr>\n",
       "    <tr>\n",
       "      <th>28</th>\n",
       "      <td>Nevada</td>\n",
       "      <td>58.0</td>\n",
       "      <td>3181298.0</td>\n",
       "      <td>20.0</td>\n",
       "      <td>105.0</td>\n",
       "    </tr>\n",
       "    <tr>\n",
       "      <th>29</th>\n",
       "      <td>New Hampshire</td>\n",
       "      <td>204.0</td>\n",
       "      <td>1361616.0</td>\n",
       "      <td>27.0</td>\n",
       "      <td>37.0</td>\n",
       "    </tr>\n",
       "    <tr>\n",
       "      <th>30</th>\n",
       "      <td>New Jersey</td>\n",
       "      <td>488.0</td>\n",
       "      <td>8864303.0</td>\n",
       "      <td>224.0</td>\n",
       "      <td>1234.0</td>\n",
       "    </tr>\n",
       "    <tr>\n",
       "      <th>31</th>\n",
       "      <td>New Mexico</td>\n",
       "      <td>100.0</td>\n",
       "      <td>1885968.0</td>\n",
       "      <td>22.0</td>\n",
       "      <td>40.0</td>\n",
       "    </tr>\n",
       "    <tr>\n",
       "      <th>32</th>\n",
       "      <td>New York</td>\n",
       "      <td>564.0</td>\n",
       "      <td>19487932.0</td>\n",
       "      <td>115.0</td>\n",
       "      <td>961.0</td>\n",
       "    </tr>\n",
       "    <tr>\n",
       "      <th>33</th>\n",
       "      <td>North Carolina</td>\n",
       "      <td>400.0</td>\n",
       "      <td>10421456.0</td>\n",
       "      <td>108.0</td>\n",
       "      <td>271.0</td>\n",
       "    </tr>\n",
       "    <tr>\n",
       "      <th>34</th>\n",
       "      <td>North Dakota</td>\n",
       "      <td>111.0</td>\n",
       "      <td>783926.0</td>\n",
       "      <td>13.0</td>\n",
       "      <td>20.0</td>\n",
       "    </tr>\n",
       "    <tr>\n",
       "      <th>35</th>\n",
       "      <td>Ohio</td>\n",
       "      <td>637.0</td>\n",
       "      <td>11239743.0</td>\n",
       "      <td>159.0</td>\n",
       "      <td>437.0</td>\n",
       "    </tr>\n",
       "    <tr>\n",
       "      <th>36</th>\n",
       "      <td>Oklahoma</td>\n",
       "      <td>460.0</td>\n",
       "      <td>4053824.0</td>\n",
       "      <td>39.0</td>\n",
       "      <td>75.0</td>\n",
       "    </tr>\n",
       "    <tr>\n",
       "      <th>37</th>\n",
       "      <td>Oregon</td>\n",
       "      <td>207.0</td>\n",
       "      <td>4175772.0</td>\n",
       "      <td>60.0</td>\n",
       "      <td>282.0</td>\n",
       "    </tr>\n",
       "    <tr>\n",
       "      <th>38</th>\n",
       "      <td>Pennsylvania</td>\n",
       "      <td>1199.0</td>\n",
       "      <td>12441342.0</td>\n",
       "      <td>79.0</td>\n",
       "      <td>271.0</td>\n",
       "    </tr>\n",
       "    <tr>\n",
       "      <th>39</th>\n",
       "      <td>Rhode Island</td>\n",
       "      <td>48.0</td>\n",
       "      <td>1094548.0</td>\n",
       "      <td>11.0</td>\n",
       "      <td>28.0</td>\n",
       "    </tr>\n",
       "    <tr>\n",
       "      <th>40</th>\n",
       "      <td>South Carolina</td>\n",
       "      <td>489.0</td>\n",
       "      <td>5363912.0</td>\n",
       "      <td>60.0</td>\n",
       "      <td>111.0</td>\n",
       "    </tr>\n",
       "    <tr>\n",
       "      <th>41</th>\n",
       "      <td>South Dakota</td>\n",
       "      <td>107.0</td>\n",
       "      <td>844189.0</td>\n",
       "      <td>8.0</td>\n",
       "      <td>11.0</td>\n",
       "    </tr>\n",
       "    <tr>\n",
       "      <th>42</th>\n",
       "      <td>Tennessee</td>\n",
       "      <td>398.0</td>\n",
       "      <td>7121949.0</td>\n",
       "      <td>53.0</td>\n",
       "      <td>90.0</td>\n",
       "    </tr>\n",
       "    <tr>\n",
       "      <th>43</th>\n",
       "      <td>Texas</td>\n",
       "      <td>1359.0</td>\n",
       "      <td>30161963.0</td>\n",
       "      <td>182.0</td>\n",
       "      <td>499.0</td>\n",
       "    </tr>\n",
       "    <tr>\n",
       "      <th>44</th>\n",
       "      <td>Utah</td>\n",
       "      <td>138.0</td>\n",
       "      <td>3399787.0</td>\n",
       "      <td>57.0</td>\n",
       "      <td>181.0</td>\n",
       "    </tr>\n",
       "    <tr>\n",
       "      <th>45</th>\n",
       "      <td>Vermont</td>\n",
       "      <td>87.0</td>\n",
       "      <td>647464.0</td>\n",
       "      <td>30.0</td>\n",
       "      <td>60.0</td>\n",
       "    </tr>\n",
       "    <tr>\n",
       "      <th>46</th>\n",
       "      <td>Virginia</td>\n",
       "      <td>416.0</td>\n",
       "      <td>8715117.0</td>\n",
       "      <td>54.0</td>\n",
       "      <td>271.0</td>\n",
       "    </tr>\n",
       "    <tr>\n",
       "      <th>47</th>\n",
       "      <td>Washington</td>\n",
       "      <td>245.0</td>\n",
       "      <td>7758180.0</td>\n",
       "      <td>98.0</td>\n",
       "      <td>557.0</td>\n",
       "    </tr>\n",
       "    <tr>\n",
       "      <th>48</th>\n",
       "      <td>West Virginia</td>\n",
       "      <td>248.0</td>\n",
       "      <td>1555284.0</td>\n",
       "      <td>36.0</td>\n",
       "      <td>66.0</td>\n",
       "    </tr>\n",
       "    <tr>\n",
       "      <th>49</th>\n",
       "      <td>Wisconsin</td>\n",
       "      <td>383.0</td>\n",
       "      <td>5743277.0</td>\n",
       "      <td>77.0</td>\n",
       "      <td>136.0</td>\n",
       "    </tr>\n",
       "    <tr>\n",
       "      <th>50</th>\n",
       "      <td>Wyoming</td>\n",
       "      <td>52.0</td>\n",
       "      <td>515122.0</td>\n",
       "      <td>13.0</td>\n",
       "      <td>20.0</td>\n",
       "    </tr>\n",
       "  </tbody>\n",
       "</table>\n",
       "</div>"
      ],
      "text/plain": [
       "             State  Participating Agencies  Population Covered  \\\n",
       "0          Alabama                   408.0           4715066.0   \n",
       "1           Alaska                    32.0            728197.0   \n",
       "2          Arizona                   107.0           6826055.0   \n",
       "3         Arkansas                   298.0           2981249.0   \n",
       "4       California                   842.0          38771948.0   \n",
       "5         Colorado                   224.0           5822451.0   \n",
       "6      Connecticut                   108.0           3617176.0   \n",
       "7         Delaware                    63.0           1031890.0   \n",
       "9          Florida                   249.0          18148836.0   \n",
       "10         Georgia                   447.0          10098610.0   \n",
       "11          Hawaii                     3.0           1270885.0   \n",
       "12           Idaho                   109.0           1957679.0   \n",
       "13        Illinois                   626.0          11210798.0   \n",
       "14         Indiana                   227.0           5854222.0   \n",
       "15            Iowa                   252.0           2998687.0   \n",
       "16          Kansas                   317.0           2705648.0   \n",
       "17        Kentucky                   427.0           4524497.0   \n",
       "18       Louisiana                   145.0           3423421.0   \n",
       "19           Maine                   131.0           1395722.0   \n",
       "20        Maryland                   134.0           5986435.0   \n",
       "21   Massachusetts                   386.0           6971044.0   \n",
       "22        Michigan                   595.0           9517887.0   \n",
       "23       Minnesota                   406.0           5732979.0   \n",
       "24     Mississippi                   156.0           1711605.0   \n",
       "25        Missouri                   505.0           6100091.0   \n",
       "26         Montana                   111.0           1131954.0   \n",
       "27        Nebraska                   247.0           1902679.0   \n",
       "28          Nevada                    58.0           3181298.0   \n",
       "29   New Hampshire                   204.0           1361616.0   \n",
       "30      New Jersey                   488.0           8864303.0   \n",
       "31      New Mexico                   100.0           1885968.0   \n",
       "32        New York                   564.0          19487932.0   \n",
       "33  North Carolina                   400.0          10421456.0   \n",
       "34    North Dakota                   111.0            783926.0   \n",
       "35            Ohio                   637.0          11239743.0   \n",
       "36        Oklahoma                   460.0           4053824.0   \n",
       "37          Oregon                   207.0           4175772.0   \n",
       "38    Pennsylvania                  1199.0          12441342.0   \n",
       "39    Rhode Island                    48.0           1094548.0   \n",
       "40  South Carolina                   489.0           5363912.0   \n",
       "41    South Dakota                   107.0            844189.0   \n",
       "42       Tennessee                   398.0           7121949.0   \n",
       "43           Texas                  1359.0          30161963.0   \n",
       "44            Utah                   138.0           3399787.0   \n",
       "45         Vermont                    87.0            647464.0   \n",
       "46        Virginia                   416.0           8715117.0   \n",
       "47      Washington                   245.0           7758180.0   \n",
       "48   West Virginia                   248.0           1555284.0   \n",
       "49       Wisconsin                   383.0           5743277.0   \n",
       "50         Wyoming                    52.0            515122.0   \n",
       "\n",
       "    Submitting Agencies  Total Incidents Reported  \n",
       "0                  74.0                     182.0  \n",
       "1                   8.0                      20.0  \n",
       "2                  42.0                     230.0  \n",
       "3                  15.0                      28.0  \n",
       "4                 334.0                    1970.0  \n",
       "5                  55.0                     272.0  \n",
       "6                  53.0                     103.0  \n",
       "7                  10.0                      19.0  \n",
       "9                  61.0                     234.0  \n",
       "10                 57.0                     138.0  \n",
       "11                  2.0                      25.0  \n",
       "12                 19.0                      49.0  \n",
       "13                 86.0                     319.0  \n",
       "14                 60.0                     180.0  \n",
       "15                 34.0                      63.0  \n",
       "16                 70.0                     121.0  \n",
       "17                 64.0                     143.0  \n",
       "18                 32.0                      52.0  \n",
       "19                 30.0                      53.0  \n",
       "20                 53.0                     248.0  \n",
       "21                104.0                     552.0  \n",
       "22                155.0                     365.0  \n",
       "23                 66.0                     181.0  \n",
       "24                 14.0                      17.0  \n",
       "25                 82.0                     187.0  \n",
       "26                 10.0                      11.0  \n",
       "27                 16.0                      49.0  \n",
       "28                 20.0                     105.0  \n",
       "29                 27.0                      37.0  \n",
       "30                224.0                    1234.0  \n",
       "31                 22.0                      40.0  \n",
       "32                115.0                     961.0  \n",
       "33                108.0                     271.0  \n",
       "34                 13.0                      20.0  \n",
       "35                159.0                     437.0  \n",
       "36                 39.0                      75.0  \n",
       "37                 60.0                     282.0  \n",
       "38                 79.0                     271.0  \n",
       "39                 11.0                      28.0  \n",
       "40                 60.0                     111.0  \n",
       "41                  8.0                      11.0  \n",
       "42                 53.0                      90.0  \n",
       "43                182.0                     499.0  \n",
       "44                 57.0                     181.0  \n",
       "45                 30.0                      60.0  \n",
       "46                 54.0                     271.0  \n",
       "47                 98.0                     557.0  \n",
       "48                 36.0                      66.0  \n",
       "49                 77.0                     136.0  \n",
       "50                 13.0                      20.0  "
      ]
     },
     "execution_count": 19,
     "metadata": {},
     "output_type": "execute_result"
    }
   ],
   "source": [
    "hate_crime_data = pd.read_csv(hate_crime_file, encoding='ISO-8859-1') #used gpt for this line\n",
    "\n",
    "hate_crime_cleaned = hate_crime_data.iloc[3:].reset_index(drop=True) #used gpt for this line\n",
    "hate_crime_cleaned.columns = [\n",
    "    \"State\",\n",
    "    \"Participating Agencies\",\n",
    "    \"Population Covered\",\n",
    "    \"Submitting Agencies\",\n",
    "    \"Total Incidents Reported\"\n",
    "]\n",
    "valid_states = [\n",
    "    'Alabama', 'Alaska', 'Arizona', 'Arkansas', 'California', 'Colorado',\n",
    "    'Connecticut', 'Delaware', 'Florida', 'Georgia', 'Hawaii', 'Idaho',\n",
    "    'Illinois', 'Indiana', 'Iowa', 'Kansas', 'Kentucky', 'Louisiana',\n",
    "    'Maine', 'Maryland', 'Massachusetts', 'Michigan', 'Minnesota',\n",
    "    'Mississippi', 'Missouri', 'Montana', 'Nebraska', 'Nevada',\n",
    "    'New Hampshire', 'New Jersey', 'New Mexico', 'New York',\n",
    "    'North Carolina', 'North Dakota', 'Ohio', 'Oklahoma', 'Oregon',\n",
    "    'Pennsylvania', 'Rhode Island', 'South Carolina', 'South Dakota',\n",
    "    'Tennessee', 'Texas', 'Utah', 'Vermont', 'Virginia', 'Washington',\n",
    "    'West Virginia', 'Wisconsin', 'Wyoming'\n",
    "]\n",
    "hate_crime_cleaned = hate_crime_cleaned[hate_crime_cleaned[\"State\"].isin(valid_states)] #had GPT help with this one\n",
    "\n",
    "numeric_columns = [\n",
    "    \"Participating Agencies\",\n",
    "    \"Population Covered\",\n",
    "    \"Submitting Agencies\",\n",
    "    \"Total Incidents Reported\"\n",
    "]\n",
    "for col in numeric_columns:\n",
    "    hate_crime_cleaned[col] = hate_crime_cleaned[col].str.replace(\",\", \"\").astype(float) #wanted to clean the data and make the strings a float value (also replace commas with nothing)\n",
    "\n",
    "hate_crime_cleaned\n"
   ]
  },
  {
   "cell_type": "markdown",
   "metadata": {
    "id": "0NO-p1Ts6BTN"
   },
   "source": [
    "# Step 6:\n",
    "I created a bar chart looking at the hate crime data per state."
   ]
  },
  {
   "cell_type": "code",
   "execution_count": 20,
   "metadata": {
    "colab": {
     "base_uri": "https://localhost:8080/",
     "height": 807
    },
    "id": "c4Q9tACLbfrS",
    "outputId": "3af02a29-9e45-4606-a666-1f84fda6dea4"
   },
   "outputs": [
    {
     "data": {
      "image/png": "[encoded data removed]",
      "text/plain": [
       "<Figure size 1200x800 with 1 Axes>"
      ]
     },
     "metadata": {},
     "output_type": "display_data"
    }
   ],
   "source": [
    "import matplotlib.pyplot as plt\n",
    "\n",
    "hate_crime_cleaned_sorted = hate_crime_cleaned.sort_values(by=\"Total Incidents Reported\", ascending=False)\n",
    "\n",
    "plt.figure(figsize=(12, 8)) #used GPT for this line\n",
    "plt.barh(hate_crime_cleaned_sorted[\"State\"], hate_crime_cleaned_sorted[\"Total Incidents Reported\"], color='salmon')\n",
    "plt.xlabel(\"Total Hate Crime Incidents Reported\")\n",
    "plt.ylabel(\"State\")\n",
    "plt.title(\"Hate Crime Incidents by State\")\n",
    "plt.gca().invert_yaxis() #used GPT for this line\n",
    "plt.tight_layout() #used GPT for this line\n",
    "plt.show()\n"
   ]
  },
  {
   "cell_type": "markdown",
   "metadata": {
    "id": "tVYjJHfo6QAc"
   },
   "source": [
    "# Step 7:\n",
    "\n",
    "I merged the poverty data and the hate crime data into one data frame. I used an inner merge on state."
   ]
  },
  {
   "cell_type": "code",
   "execution_count": 21,
   "metadata": {
    "colab": {
     "base_uri": "https://localhost:8080/",
     "height": 1000
    },
    "collapsed": true,
    "id": "LkdNqjwHbq43",
    "outputId": "f3727303-9af1-461b-c498-8c60975cca31"
   },
   "outputs": [
    {
     "data": {
      "text/html": [
       "<div>\n",
       "<style scoped>\n",
       "    .dataframe tbody tr th:only-of-type {\n",
       "        vertical-align: middle;\n",
       "    }\n",
       "\n",
       "    .dataframe tbody tr th {\n",
       "        vertical-align: top;\n",
       "    }\n",
       "\n",
       "    .dataframe thead th {\n",
       "        text-align: right;\n",
       "    }\n",
       "</style>\n",
       "<table border=\"1\" class=\"dataframe\">\n",
       "  <thead>\n",
       "    <tr style=\"text-align: right;\">\n",
       "      <th></th>\n",
       "      <th>State</th>\n",
       "      <th>Poverty Rate (%)</th>\n",
       "      <th>Families Below Poverty</th>\n",
       "      <th>Rank within US</th>\n",
       "      <th>Total Incidents Reported</th>\n",
       "      <th>Participating Agencies</th>\n",
       "      <th>Population Covered</th>\n",
       "    </tr>\n",
       "  </thead>\n",
       "  <tbody>\n",
       "    <tr>\n",
       "      <th>0</th>\n",
       "      <td>Mississippi</td>\n",
       "      <td>14.4</td>\n",
       "      <td>106581</td>\n",
       "      <td>51</td>\n",
       "      <td>17.0</td>\n",
       "      <td>156.0</td>\n",
       "      <td>1711605.0</td>\n",
       "    </tr>\n",
       "    <tr>\n",
       "      <th>1</th>\n",
       "      <td>Louisiana</td>\n",
       "      <td>13.9</td>\n",
       "      <td>156055</td>\n",
       "      <td>50</td>\n",
       "      <td>52.0</td>\n",
       "      <td>145.0</td>\n",
       "      <td>3423421.0</td>\n",
       "    </tr>\n",
       "    <tr>\n",
       "      <th>2</th>\n",
       "      <td>New Mexico</td>\n",
       "      <td>13.7</td>\n",
       "      <td>68850</td>\n",
       "      <td>49</td>\n",
       "      <td>40.0</td>\n",
       "      <td>100.0</td>\n",
       "      <td>1885968.0</td>\n",
       "    </tr>\n",
       "    <tr>\n",
       "      <th>3</th>\n",
       "      <td>West Virginia</td>\n",
       "      <td>11.9</td>\n",
       "      <td>53672</td>\n",
       "      <td>48</td>\n",
       "      <td>66.0</td>\n",
       "      <td>248.0</td>\n",
       "      <td>1555284.0</td>\n",
       "    </tr>\n",
       "    <tr>\n",
       "      <th>4</th>\n",
       "      <td>Kentucky</td>\n",
       "      <td>11.7</td>\n",
       "      <td>133954</td>\n",
       "      <td>47</td>\n",
       "      <td>143.0</td>\n",
       "      <td>427.0</td>\n",
       "      <td>4524497.0</td>\n",
       "    </tr>\n",
       "    <tr>\n",
       "      <th>5</th>\n",
       "      <td>Arkansas</td>\n",
       "      <td>11.6</td>\n",
       "      <td>88915</td>\n",
       "      <td>46</td>\n",
       "      <td>28.0</td>\n",
       "      <td>298.0</td>\n",
       "      <td>2981249.0</td>\n",
       "    </tr>\n",
       "    <tr>\n",
       "      <th>6</th>\n",
       "      <td>Alabama</td>\n",
       "      <td>11.3</td>\n",
       "      <td>141807</td>\n",
       "      <td>45</td>\n",
       "      <td>182.0</td>\n",
       "      <td>408.0</td>\n",
       "      <td>4715066.0</td>\n",
       "    </tr>\n",
       "    <tr>\n",
       "      <th>7</th>\n",
       "      <td>Oklahoma</td>\n",
       "      <td>11.0</td>\n",
       "      <td>108707</td>\n",
       "      <td>44</td>\n",
       "      <td>75.0</td>\n",
       "      <td>460.0</td>\n",
       "      <td>4053824.0</td>\n",
       "    </tr>\n",
       "    <tr>\n",
       "      <th>8</th>\n",
       "      <td>Texas</td>\n",
       "      <td>10.7</td>\n",
       "      <td>765437</td>\n",
       "      <td>42</td>\n",
       "      <td>499.0</td>\n",
       "      <td>1359.0</td>\n",
       "      <td>30161963.0</td>\n",
       "    </tr>\n",
       "    <tr>\n",
       "      <th>9</th>\n",
       "      <td>South Carolina</td>\n",
       "      <td>10.2</td>\n",
       "      <td>134309</td>\n",
       "      <td>41</td>\n",
       "      <td>111.0</td>\n",
       "      <td>489.0</td>\n",
       "      <td>5363912.0</td>\n",
       "    </tr>\n",
       "    <tr>\n",
       "      <th>10</th>\n",
       "      <td>Georgia</td>\n",
       "      <td>10.0</td>\n",
       "      <td>263451</td>\n",
       "      <td>40</td>\n",
       "      <td>138.0</td>\n",
       "      <td>447.0</td>\n",
       "      <td>10098610.0</td>\n",
       "    </tr>\n",
       "    <tr>\n",
       "      <th>11</th>\n",
       "      <td>Tennessee</td>\n",
       "      <td>10.0</td>\n",
       "      <td>176096</td>\n",
       "      <td>39</td>\n",
       "      <td>90.0</td>\n",
       "      <td>398.0</td>\n",
       "      <td>7121949.0</td>\n",
       "    </tr>\n",
       "    <tr>\n",
       "      <th>12</th>\n",
       "      <td>New York</td>\n",
       "      <td>9.7</td>\n",
       "      <td>461391</td>\n",
       "      <td>38</td>\n",
       "      <td>961.0</td>\n",
       "      <td>564.0</td>\n",
       "      <td>19487932.0</td>\n",
       "    </tr>\n",
       "    <tr>\n",
       "      <th>13</th>\n",
       "      <td>North Carolina</td>\n",
       "      <td>9.5</td>\n",
       "      <td>252021</td>\n",
       "      <td>37</td>\n",
       "      <td>271.0</td>\n",
       "      <td>400.0</td>\n",
       "      <td>10421456.0</td>\n",
       "    </tr>\n",
       "    <tr>\n",
       "      <th>14</th>\n",
       "      <td>Ohio</td>\n",
       "      <td>9.3</td>\n",
       "      <td>274036</td>\n",
       "      <td>36</td>\n",
       "      <td>437.0</td>\n",
       "      <td>637.0</td>\n",
       "      <td>11239743.0</td>\n",
       "    </tr>\n",
       "    <tr>\n",
       "      <th>15</th>\n",
       "      <td>Arizona</td>\n",
       "      <td>9.2</td>\n",
       "      <td>163902</td>\n",
       "      <td>35</td>\n",
       "      <td>230.0</td>\n",
       "      <td>107.0</td>\n",
       "      <td>6826055.0</td>\n",
       "    </tr>\n",
       "    <tr>\n",
       "      <th>16</th>\n",
       "      <td>Florida</td>\n",
       "      <td>9.1</td>\n",
       "      <td>492413</td>\n",
       "      <td>34</td>\n",
       "      <td>234.0</td>\n",
       "      <td>249.0</td>\n",
       "      <td>18148836.0</td>\n",
       "    </tr>\n",
       "    <tr>\n",
       "      <th>17</th>\n",
       "      <td>Nevada</td>\n",
       "      <td>9.0</td>\n",
       "      <td>67110</td>\n",
       "      <td>33</td>\n",
       "      <td>105.0</td>\n",
       "      <td>58.0</td>\n",
       "      <td>3181298.0</td>\n",
       "    </tr>\n",
       "    <tr>\n",
       "      <th>18</th>\n",
       "      <td>Michigan</td>\n",
       "      <td>8.8</td>\n",
       "      <td>222032</td>\n",
       "      <td>32</td>\n",
       "      <td>365.0</td>\n",
       "      <td>595.0</td>\n",
       "      <td>9517887.0</td>\n",
       "    </tr>\n",
       "    <tr>\n",
       "      <th>19</th>\n",
       "      <td>California</td>\n",
       "      <td>8.5</td>\n",
       "      <td>776066</td>\n",
       "      <td>31</td>\n",
       "      <td>1970.0</td>\n",
       "      <td>842.0</td>\n",
       "      <td>38771948.0</td>\n",
       "    </tr>\n",
       "    <tr>\n",
       "      <th>20</th>\n",
       "      <td>Missouri</td>\n",
       "      <td>8.5</td>\n",
       "      <td>131020</td>\n",
       "      <td>30</td>\n",
       "      <td>187.0</td>\n",
       "      <td>505.0</td>\n",
       "      <td>6100091.0</td>\n",
       "    </tr>\n",
       "    <tr>\n",
       "      <th>21</th>\n",
       "      <td>Indiana</td>\n",
       "      <td>8.5</td>\n",
       "      <td>143800</td>\n",
       "      <td>29</td>\n",
       "      <td>180.0</td>\n",
       "      <td>227.0</td>\n",
       "      <td>5854222.0</td>\n",
       "    </tr>\n",
       "    <tr>\n",
       "      <th>22</th>\n",
       "      <td>Illinois</td>\n",
       "      <td>8.2</td>\n",
       "      <td>256079</td>\n",
       "      <td>28</td>\n",
       "      <td>319.0</td>\n",
       "      <td>626.0</td>\n",
       "      <td>11210798.0</td>\n",
       "    </tr>\n",
       "    <tr>\n",
       "      <th>23</th>\n",
       "      <td>Pennsylvania</td>\n",
       "      <td>8.0</td>\n",
       "      <td>262184</td>\n",
       "      <td>27</td>\n",
       "      <td>271.0</td>\n",
       "      <td>1199.0</td>\n",
       "      <td>12441342.0</td>\n",
       "    </tr>\n",
       "    <tr>\n",
       "      <th>24</th>\n",
       "      <td>Kansas</td>\n",
       "      <td>7.6</td>\n",
       "      <td>56045</td>\n",
       "      <td>26</td>\n",
       "      <td>121.0</td>\n",
       "      <td>317.0</td>\n",
       "      <td>2705648.0</td>\n",
       "    </tr>\n",
       "    <tr>\n",
       "      <th>25</th>\n",
       "      <td>South Dakota</td>\n",
       "      <td>7.5</td>\n",
       "      <td>16445</td>\n",
       "      <td>25</td>\n",
       "      <td>11.0</td>\n",
       "      <td>107.0</td>\n",
       "      <td>844189.0</td>\n",
       "    </tr>\n",
       "    <tr>\n",
       "      <th>26</th>\n",
       "      <td>Delaware</td>\n",
       "      <td>7.5</td>\n",
       "      <td>18950</td>\n",
       "      <td>24</td>\n",
       "      <td>19.0</td>\n",
       "      <td>63.0</td>\n",
       "      <td>1031890.0</td>\n",
       "    </tr>\n",
       "    <tr>\n",
       "      <th>27</th>\n",
       "      <td>Montana</td>\n",
       "      <td>7.3</td>\n",
       "      <td>19812</td>\n",
       "      <td>23</td>\n",
       "      <td>11.0</td>\n",
       "      <td>111.0</td>\n",
       "      <td>1131954.0</td>\n",
       "    </tr>\n",
       "    <tr>\n",
       "      <th>28</th>\n",
       "      <td>Idaho</td>\n",
       "      <td>7.3</td>\n",
       "      <td>33802</td>\n",
       "      <td>22</td>\n",
       "      <td>49.0</td>\n",
       "      <td>109.0</td>\n",
       "      <td>1957679.0</td>\n",
       "    </tr>\n",
       "    <tr>\n",
       "      <th>29</th>\n",
       "      <td>Oregon</td>\n",
       "      <td>7.3</td>\n",
       "      <td>75694</td>\n",
       "      <td>21</td>\n",
       "      <td>282.0</td>\n",
       "      <td>207.0</td>\n",
       "      <td>4175772.0</td>\n",
       "    </tr>\n",
       "    <tr>\n",
       "      <th>30</th>\n",
       "      <td>Rhode Island</td>\n",
       "      <td>7.2</td>\n",
       "      <td>19196</td>\n",
       "      <td>20</td>\n",
       "      <td>28.0</td>\n",
       "      <td>48.0</td>\n",
       "      <td>1094548.0</td>\n",
       "    </tr>\n",
       "    <tr>\n",
       "      <th>31</th>\n",
       "      <td>Alaska</td>\n",
       "      <td>7.2</td>\n",
       "      <td>12256</td>\n",
       "      <td>19</td>\n",
       "      <td>20.0</td>\n",
       "      <td>32.0</td>\n",
       "      <td>728197.0</td>\n",
       "    </tr>\n",
       "    <tr>\n",
       "      <th>32</th>\n",
       "      <td>Iowa</td>\n",
       "      <td>7.0</td>\n",
       "      <td>56617</td>\n",
       "      <td>18</td>\n",
       "      <td>63.0</td>\n",
       "      <td>252.0</td>\n",
       "      <td>2998687.0</td>\n",
       "    </tr>\n",
       "    <tr>\n",
       "      <th>33</th>\n",
       "      <td>New Jersey</td>\n",
       "      <td>6.9</td>\n",
       "      <td>162445</td>\n",
       "      <td>17</td>\n",
       "      <td>1234.0</td>\n",
       "      <td>488.0</td>\n",
       "      <td>8864303.0</td>\n",
       "    </tr>\n",
       "    <tr>\n",
       "      <th>34</th>\n",
       "      <td>Connecticut</td>\n",
       "      <td>6.8</td>\n",
       "      <td>62426</td>\n",
       "      <td>16</td>\n",
       "      <td>103.0</td>\n",
       "      <td>108.0</td>\n",
       "      <td>3617176.0</td>\n",
       "    </tr>\n",
       "    <tr>\n",
       "      <th>35</th>\n",
       "      <td>Wyoming</td>\n",
       "      <td>6.8</td>\n",
       "      <td>10055</td>\n",
       "      <td>15</td>\n",
       "      <td>20.0</td>\n",
       "      <td>52.0</td>\n",
       "      <td>515122.0</td>\n",
       "    </tr>\n",
       "    <tr>\n",
       "      <th>36</th>\n",
       "      <td>Virginia</td>\n",
       "      <td>6.8</td>\n",
       "      <td>145980</td>\n",
       "      <td>14</td>\n",
       "      <td>271.0</td>\n",
       "      <td>416.0</td>\n",
       "      <td>8715117.0</td>\n",
       "    </tr>\n",
       "    <tr>\n",
       "      <th>37</th>\n",
       "      <td>Nebraska</td>\n",
       "      <td>6.7</td>\n",
       "      <td>32681</td>\n",
       "      <td>13</td>\n",
       "      <td>49.0</td>\n",
       "      <td>247.0</td>\n",
       "      <td>1902679.0</td>\n",
       "    </tr>\n",
       "    <tr>\n",
       "      <th>38</th>\n",
       "      <td>Wisconsin</td>\n",
       "      <td>6.6</td>\n",
       "      <td>98072</td>\n",
       "      <td>12</td>\n",
       "      <td>136.0</td>\n",
       "      <td>383.0</td>\n",
       "      <td>5743277.0</td>\n",
       "    </tr>\n",
       "    <tr>\n",
       "      <th>39</th>\n",
       "      <td>Hawaii</td>\n",
       "      <td>6.5</td>\n",
       "      <td>21700</td>\n",
       "      <td>11</td>\n",
       "      <td>25.0</td>\n",
       "      <td>3.0</td>\n",
       "      <td>1270885.0</td>\n",
       "    </tr>\n",
       "    <tr>\n",
       "      <th>40</th>\n",
       "      <td>Massachusetts</td>\n",
       "      <td>6.5</td>\n",
       "      <td>111966</td>\n",
       "      <td>10</td>\n",
       "      <td>552.0</td>\n",
       "      <td>386.0</td>\n",
       "      <td>6971044.0</td>\n",
       "    </tr>\n",
       "    <tr>\n",
       "      <th>41</th>\n",
       "      <td>Maine</td>\n",
       "      <td>6.4</td>\n",
       "      <td>22666</td>\n",
       "      <td>9</td>\n",
       "      <td>53.0</td>\n",
       "      <td>131.0</td>\n",
       "      <td>1395722.0</td>\n",
       "    </tr>\n",
       "    <tr>\n",
       "      <th>42</th>\n",
       "      <td>Washington</td>\n",
       "      <td>6.3</td>\n",
       "      <td>121312</td>\n",
       "      <td>8</td>\n",
       "      <td>557.0</td>\n",
       "      <td>245.0</td>\n",
       "      <td>7758180.0</td>\n",
       "    </tr>\n",
       "    <tr>\n",
       "      <th>43</th>\n",
       "      <td>Maryland</td>\n",
       "      <td>6.2</td>\n",
       "      <td>94779</td>\n",
       "      <td>7</td>\n",
       "      <td>248.0</td>\n",
       "      <td>134.0</td>\n",
       "      <td>5986435.0</td>\n",
       "    </tr>\n",
       "    <tr>\n",
       "      <th>44</th>\n",
       "      <td>North Dakota</td>\n",
       "      <td>6.1</td>\n",
       "      <td>11567</td>\n",
       "      <td>6</td>\n",
       "      <td>20.0</td>\n",
       "      <td>111.0</td>\n",
       "      <td>783926.0</td>\n",
       "    </tr>\n",
       "    <tr>\n",
       "      <th>45</th>\n",
       "      <td>Colorado</td>\n",
       "      <td>6.0</td>\n",
       "      <td>84990</td>\n",
       "      <td>5</td>\n",
       "      <td>272.0</td>\n",
       "      <td>224.0</td>\n",
       "      <td>5822451.0</td>\n",
       "    </tr>\n",
       "    <tr>\n",
       "      <th>46</th>\n",
       "      <td>Vermont</td>\n",
       "      <td>5.9</td>\n",
       "      <td>9229</td>\n",
       "      <td>4</td>\n",
       "      <td>60.0</td>\n",
       "      <td>87.0</td>\n",
       "      <td>647464.0</td>\n",
       "    </tr>\n",
       "    <tr>\n",
       "      <th>47</th>\n",
       "      <td>Utah</td>\n",
       "      <td>5.7</td>\n",
       "      <td>44250</td>\n",
       "      <td>3</td>\n",
       "      <td>181.0</td>\n",
       "      <td>138.0</td>\n",
       "      <td>3399787.0</td>\n",
       "    </tr>\n",
       "    <tr>\n",
       "      <th>48</th>\n",
       "      <td>Minnesota</td>\n",
       "      <td>5.5</td>\n",
       "      <td>78687</td>\n",
       "      <td>2</td>\n",
       "      <td>181.0</td>\n",
       "      <td>406.0</td>\n",
       "      <td>5732979.0</td>\n",
       "    </tr>\n",
       "    <tr>\n",
       "      <th>49</th>\n",
       "      <td>New Hampshire</td>\n",
       "      <td>4.4</td>\n",
       "      <td>15526</td>\n",
       "      <td>1</td>\n",
       "      <td>37.0</td>\n",
       "      <td>204.0</td>\n",
       "      <td>1361616.0</td>\n",
       "    </tr>\n",
       "  </tbody>\n",
       "</table>\n",
       "</div>"
      ],
      "text/plain": [
       "             State  Poverty Rate (%)  Families Below Poverty  Rank within US  \\\n",
       "0      Mississippi              14.4                  106581              51   \n",
       "1        Louisiana              13.9                  156055              50   \n",
       "2       New Mexico              13.7                   68850              49   \n",
       "3    West Virginia              11.9                   53672              48   \n",
       "4         Kentucky              11.7                  133954              47   \n",
       "5         Arkansas              11.6                   88915              46   \n",
       "6          Alabama              11.3                  141807              45   \n",
       "7         Oklahoma              11.0                  108707              44   \n",
       "8            Texas              10.7                  765437              42   \n",
       "9   South Carolina              10.2                  134309              41   \n",
       "10         Georgia              10.0                  263451              40   \n",
       "11       Tennessee              10.0                  176096              39   \n",
       "12        New York               9.7                  461391              38   \n",
       "13  North Carolina               9.5                  252021              37   \n",
       "14            Ohio               9.3                  274036              36   \n",
       "15         Arizona               9.2                  163902              35   \n",
       "16         Florida               9.1                  492413              34   \n",
       "17          Nevada               9.0                   67110              33   \n",
       "18        Michigan               8.8                  222032              32   \n",
       "19      California               8.5                  776066              31   \n",
       "20        Missouri               8.5                  131020              30   \n",
       "21         Indiana               8.5                  143800              29   \n",
       "22        Illinois               8.2                  256079              28   \n",
       "23    Pennsylvania               8.0                  262184              27   \n",
       "24          Kansas               7.6                   56045              26   \n",
       "25    South Dakota               7.5                   16445              25   \n",
       "26        Delaware               7.5                   18950              24   \n",
       "27         Montana               7.3                   19812              23   \n",
       "28           Idaho               7.3                   33802              22   \n",
       "29          Oregon               7.3                   75694              21   \n",
       "30    Rhode Island               7.2                   19196              20   \n",
       "31          Alaska               7.2                   12256              19   \n",
       "32            Iowa               7.0                   56617              18   \n",
       "33      New Jersey               6.9                  162445              17   \n",
       "34     Connecticut               6.8                   62426              16   \n",
       "35         Wyoming               6.8                   10055              15   \n",
       "36        Virginia               6.8                  145980              14   \n",
       "37        Nebraska               6.7                   32681              13   \n",
       "38       Wisconsin               6.6                   98072              12   \n",
       "39          Hawaii               6.5                   21700              11   \n",
       "40   Massachusetts               6.5                  111966              10   \n",
       "41           Maine               6.4                   22666               9   \n",
       "42      Washington               6.3                  121312               8   \n",
       "43        Maryland               6.2                   94779               7   \n",
       "44    North Dakota               6.1                   11567               6   \n",
       "45        Colorado               6.0                   84990               5   \n",
       "46         Vermont               5.9                    9229               4   \n",
       "47            Utah               5.7                   44250               3   \n",
       "48       Minnesota               5.5                   78687               2   \n",
       "49   New Hampshire               4.4                   15526               1   \n",
       "\n",
       "    Total Incidents Reported  Participating Agencies  Population Covered  \n",
       "0                       17.0                   156.0           1711605.0  \n",
       "1                       52.0                   145.0           3423421.0  \n",
       "2                       40.0                   100.0           1885968.0  \n",
       "3                       66.0                   248.0           1555284.0  \n",
       "4                      143.0                   427.0           4524497.0  \n",
       "5                       28.0                   298.0           2981249.0  \n",
       "6                      182.0                   408.0           4715066.0  \n",
       "7                       75.0                   460.0           4053824.0  \n",
       "8                      499.0                  1359.0          30161963.0  \n",
       "9                      111.0                   489.0           5363912.0  \n",
       "10                     138.0                   447.0          10098610.0  \n",
       "11                      90.0                   398.0           7121949.0  \n",
       "12                     961.0                   564.0          19487932.0  \n",
       "13                     271.0                   400.0          10421456.0  \n",
       "14                     437.0                   637.0          11239743.0  \n",
       "15                     230.0                   107.0           6826055.0  \n",
       "16                     234.0                   249.0          18148836.0  \n",
       "17                     105.0                    58.0           3181298.0  \n",
       "18                     365.0                   595.0           9517887.0  \n",
       "19                    1970.0                   842.0          38771948.0  \n",
       "20                     187.0                   505.0           6100091.0  \n",
       "21                     180.0                   227.0           5854222.0  \n",
       "22                     319.0                   626.0          11210798.0  \n",
       "23                     271.0                  1199.0          12441342.0  \n",
       "24                     121.0                   317.0           2705648.0  \n",
       "25                      11.0                   107.0            844189.0  \n",
       "26                      19.0                    63.0           1031890.0  \n",
       "27                      11.0                   111.0           1131954.0  \n",
       "28                      49.0                   109.0           1957679.0  \n",
       "29                     282.0                   207.0           4175772.0  \n",
       "30                      28.0                    48.0           1094548.0  \n",
       "31                      20.0                    32.0            728197.0  \n",
       "32                      63.0                   252.0           2998687.0  \n",
       "33                    1234.0                   488.0           8864303.0  \n",
       "34                     103.0                   108.0           3617176.0  \n",
       "35                      20.0                    52.0            515122.0  \n",
       "36                     271.0                   416.0           8715117.0  \n",
       "37                      49.0                   247.0           1902679.0  \n",
       "38                     136.0                   383.0           5743277.0  \n",
       "39                      25.0                     3.0           1270885.0  \n",
       "40                     552.0                   386.0           6971044.0  \n",
       "41                      53.0                   131.0           1395722.0  \n",
       "42                     557.0                   245.0           7758180.0  \n",
       "43                     248.0                   134.0           5986435.0  \n",
       "44                      20.0                   111.0            783926.0  \n",
       "45                     272.0                   224.0           5822451.0  \n",
       "46                      60.0                    87.0            647464.0  \n",
       "47                     181.0                   138.0           3399787.0  \n",
       "48                     181.0                   406.0           5732979.0  \n",
       "49                      37.0                   204.0           1361616.0  "
      ]
     },
     "execution_count": 21,
     "metadata": {},
     "output_type": "execute_result"
    }
   ],
   "source": [
    "merged_data = pd.merge( #had GPT help with this, but understand it\n",
    "    poverty_cleaned[[\"State\", \"Poverty Rate (%)\", \"Families Below Poverty\", \"Rank within US\"]],\n",
    "    hate_crime_cleaned[[\"State\", \"Total Incidents Reported\", \"Participating Agencies\", \"Population Covered\"]],\n",
    "    on=\"State\",\n",
    "    how=\"inner\"\n",
    ")\n",
    "\n",
    "merged_data\n"
   ]
  },
  {
   "cell_type": "markdown",
   "metadata": {
    "id": "lxOBwhFU6aMt"
   },
   "source": [
    "# Step 8:\n",
    "\n",
    "I created a scatter plot looking at the relationship between poverty rate and hate crime incidents. I included an OLS trendline."
   ]
  },
  {
   "cell_type": "code",
   "execution_count": 22,
   "metadata": {
    "colab": {
     "base_uri": "https://localhost:8080/",
     "height": 542
    },
    "collapsed": true,
    "id": "G1Q51JwWcD-5",
    "outputId": "a2beadc5-ad76-4d1b-af78-0adfc95fbc27"
   },
   "outputs": [
    {
     "data": {
      "text/html": [
       "        <script type=\"text/javascript\">\n",
       "        window.PlotlyConfig = {MathJaxConfig: 'local'};\n",
       "        if (window.MathJax && window.MathJax.Hub && window.MathJax.Hub.Config) {window.MathJax.Hub.Config({SVG: {font: \"STIX-Web\"}});}\n",
       "        if (typeof require !== 'undefined') {\n",
       "        require.undef(\"plotly\");\n",
       "        requirejs.config({\n",
       "            paths: {\n",
       "                'plotly': ['https://cdn.plot.ly/plotly-2.35.2.min']\n",
       "            }\n",
       "        });\n",
       "        require(['plotly'], function(Plotly) {\n",
       "            window._Plotly = Plotly;\n",
       "        });\n",
       "        }\n",
       "        </script>\n",
       "        "
      ]
     },
     "metadata": {},
     "output_type": "display_data"
    },
    {
     "data": {
      "application/vnd.plotly.v1+json": {
       "config": {
        "plotlyServerURL": "https://plot.ly"
       },
       "data": [
        {
         "hovertemplate": "Poverty Rate (%)=%{x}<br>Hate Crimes=%{y}<extra></extra>",
         "legendgroup": "",
         "marker": {
          "color": "#636efa",
          "symbol": "circle"
         },
         "mode": "markers",
         "name": "",
         "orientation": "v",
         "showlegend": false,
         "type": "scatter",
         "x": [
          14.4,
          13.9,
          13.7,
          11.9,
          11.7,
          11.6,
          11.3,
          11,
          10.7,
          10.2,
          10,
          10,
          9.7,
          9.5,
          9.3,
          9.2,
          9.1,
          9,
          8.8,
          8.5,
          8.5,
          8.5,
          8.2,
          8,
          7.6,
          7.5,
          7.5,
          7.3,
          7.3,
          7.3,
          7.2,
          7.2,
          7,
          6.9,
          6.8,
          6.8,
          6.8,
          6.7,
          6.6,
          6.5,
          6.5,
          6.4,
          6.3,
          6.2,
          6.1,
          6,
          5.9,
          5.7,
          5.5,
          4.4
         ],
         "xaxis": "x",
         "y": [
          17,
          52,
          40,
          66,
          143,
          28,
          182,
          75,
          499,
          111,
          138,
          90,
          961,
          271,
          437,
          230,
          234,
          105,
          365,
          1970,
          187,
          180,
          319,
          271,
          121,
          11,
          19,
          11,
          49,
          282,
          28,
          20,
          63,
          1234,
          103,
          20,
          271,
          49,
          136,
          25,
          552,
          53,
          557,
          248,
          20,
          272,
          60,
          181,
          181,
          37
         ],
         "yaxis": "y"
        },
        {
         "hovertemplate": "<b>OLS trendline</b><br>Total Incidents Reported = -6.56371 * Poverty Rate (%) + 286.445<br>R<sup>2</sup>=0.001920<br><br>Poverty Rate (%)=%{x}<br>Hate Crimes=%{y} <b>(trend)</b><extra></extra>",
         "legendgroup": "",
         "marker": {
          "color": "#636efa",
          "symbol": "circle"
         },
         "mode": "lines",
         "name": "",
         "showlegend": false,
         "type": "scatter",
         "x": [
          4.4,
          5.5,
          5.7,
          5.9,
          6,
          6.1,
          6.2,
          6.3,
          6.4,
          6.5,
          6.5,
          6.6,
          6.7,
          6.8,
          6.8,
          6.8,
          6.9,
          7,
          7.2,
          7.2,
          7.3,
          7.3,
          7.3,
          7.5,
          7.5,
          7.6,
          8,
          8.2,
          8.5,
          8.5,
          8.5,
          8.8,
          9,
          9.1,
          9.2,
          9.3,
          9.5,
          9.7,
          10,
          10,
          10.2,
          10.7,
          11,
          11.3,
          11.6,
          11.7,
          11.9,
          13.7,
          13.9,
          14.4
         ],
         "xaxis": "x",
         "y": [
          257.56419625307996,
          250.34411173410965,
          249.03136909429685,
          247.71862645448405,
          247.06225513457767,
          246.40588381467126,
          245.74951249476487,
          245.0931411748585,
          244.43676985495208,
          243.7803985350457,
          243.7803985350457,
          243.12402721513928,
          242.4676558952329,
          241.8112845753265,
          241.8112845753265,
          241.8112845753265,
          241.1549132554201,
          240.4985419355137,
          239.18579929570092,
          239.18579929570092,
          238.52942797579453,
          238.52942797579453,
          238.52942797579453,
          237.21668533598174,
          237.21668533598174,
          236.56031401607535,
          233.93482873644976,
          232.62208609663696,
          230.65297213691778,
          230.65297213691778,
          230.65297213691778,
          228.6838581771986,
          227.3711155373858,
          226.71474421747942,
          226.058372897573,
          225.40200157766662,
          224.08925893785383,
          222.77651629804103,
          220.80740233832185,
          220.80740233832185,
          219.49465969850905,
          216.21280309897708,
          214.24368913925792,
          212.27457517953872,
          210.30546121981953,
          209.64908989991315,
          208.33634726010035,
          196.52166350178524,
          195.20892086197244,
          191.92706426244047
         ],
         "yaxis": "y"
        }
       ],
       "layout": {
        "legend": {
         "tracegroupgap": 0
        },
        "template": {
         "data": {
          "bar": [
           {
            "error_x": {
             "color": "#2a3f5f"
            },
            "error_y": {
             "color": "#2a3f5f"
            },
            "marker": {
             "line": {
              "color": "#E5ECF6",
              "width": 0.5
             },
             "pattern": {
              "fillmode": "overlay",
              "size": 10,
              "solidity": 0.2
             }
            },
            "type": "bar"
           }
          ],
          "barpolar": [
           {
            "marker": {
             "line": {
              "color": "#E5ECF6",
              "width": 0.5
             },
             "pattern": {
              "fillmode": "overlay",
              "size": 10,
              "solidity": 0.2
             }
            },
            "type": "barpolar"
           }
          ],
          "carpet": [
           {
            "aaxis": {
             "endlinecolor": "#2a3f5f",
             "gridcolor": "white",
             "linecolor": "white",
             "minorgridcolor": "white",
             "startlinecolor": "#2a3f5f"
            },
            "baxis": {
             "endlinecolor": "#2a3f5f",
             "gridcolor": "white",
             "linecolor": "white",
             "minorgridcolor": "white",
             "startlinecolor": "#2a3f5f"
            },
            "type": "carpet"
           }
          ],
          "choropleth": [
           {
            "colorbar": {
             "outlinewidth": 0,
             "ticks": ""
            },
            "type": "choropleth"
           }
          ],
          "contour": [
           {
            "colorbar": {
             "outlinewidth": 0,
             "ticks": ""
            },
            "colorscale": [
             [
              0,
              "#0d0887"
             ],
             [
              0.1111111111111111,
              "#46039f"
             ],
             [
              0.2222222222222222,
              "#7201a8"
             ],
             [
              0.3333333333333333,
              "#9c179e"
             ],
             [
              0.4444444444444444,
              "#bd3786"
             ],
             [
              0.5555555555555556,
              "#d8576b"
             ],
             [
              0.6666666666666666,
              "#ed7953"
             ],
             [
              0.7777777777777778,
              "#fb9f3a"
             ],
             [
              0.8888888888888888,
              "#fdca26"
             ],
             [
              1,
              "#f0f921"
             ]
            ],
            "type": "contour"
           }
          ],
          "contourcarpet": [
           {
            "colorbar": {
             "outlinewidth": 0,
             "ticks": ""
            },
            "type": "contourcarpet"
           }
          ],
          "heatmap": [
           {
            "colorbar": {
             "outlinewidth": 0,
             "ticks": ""
            },
            "colorscale": [
             [
              0,
              "#0d0887"
             ],
             [
              0.1111111111111111,
              "#46039f"
             ],
             [
              0.2222222222222222,
              "#7201a8"
             ],
             [
              0.3333333333333333,
              "#9c179e"
             ],
             [
              0.4444444444444444,
              "#bd3786"
             ],
             [
              0.5555555555555556,
              "#d8576b"
             ],
             [
              0.6666666666666666,
              "#ed7953"
             ],
             [
              0.7777777777777778,
              "#fb9f3a"
             ],
             [
              0.8888888888888888,
              "#fdca26"
             ],
             [
              1,
              "#f0f921"
             ]
            ],
            "type": "heatmap"
           }
          ],
          "heatmapgl": [
           {
            "colorbar": {
             "outlinewidth": 0,
             "ticks": ""
            },
            "colorscale": [
             [
              0,
              "#0d0887"
             ],
             [
              0.1111111111111111,
              "#46039f"
             ],
             [
              0.2222222222222222,
              "#7201a8"
             ],
             [
              0.3333333333333333,
              "#9c179e"
             ],
             [
              0.4444444444444444,
              "#bd3786"
             ],
             [
              0.5555555555555556,
              "#d8576b"
             ],
             [
              0.6666666666666666,
              "#ed7953"
             ],
             [
              0.7777777777777778,
              "#fb9f3a"
             ],
             [
              0.8888888888888888,
              "#fdca26"
             ],
             [
              1,
              "#f0f921"
             ]
            ],
            "type": "heatmapgl"
           }
          ],
          "histogram": [
           {
            "marker": {
             "pattern": {
              "fillmode": "overlay",
              "size": 10,
              "solidity": 0.2
             }
            },
            "type": "histogram"
           }
          ],
          "histogram2d": [
           {
            "colorbar": {
             "outlinewidth": 0,
             "ticks": ""
            },
            "colorscale": [
             [
              0,
              "#0d0887"
             ],
             [
              0.1111111111111111,
              "#46039f"
             ],
             [
              0.2222222222222222,
              "#7201a8"
             ],
             [
              0.3333333333333333,
              "#9c179e"
             ],
             [
              0.4444444444444444,
              "#bd3786"
             ],
             [
              0.5555555555555556,
              "#d8576b"
             ],
             [
              0.6666666666666666,
              "#ed7953"
             ],
             [
              0.7777777777777778,
              "#fb9f3a"
             ],
             [
              0.8888888888888888,
              "#fdca26"
             ],
             [
              1,
              "#f0f921"
             ]
            ],
            "type": "histogram2d"
           }
          ],
          "histogram2dcontour": [
           {
            "colorbar": {
             "outlinewidth": 0,
             "ticks": ""
            },
            "colorscale": [
             [
              0,
              "#0d0887"
             ],
             [
              0.1111111111111111,
              "#46039f"
             ],
             [
              0.2222222222222222,
              "#7201a8"
             ],
             [
              0.3333333333333333,
              "#9c179e"
             ],
             [
              0.4444444444444444,
              "#bd3786"
             ],
             [
              0.5555555555555556,
              "#d8576b"
             ],
             [
              0.6666666666666666,
              "#ed7953"
             ],
             [
              0.7777777777777778,
              "#fb9f3a"
             ],
             [
              0.8888888888888888,
              "#fdca26"
             ],
             [
              1,
              "#f0f921"
             ]
            ],
            "type": "histogram2dcontour"
           }
          ],
          "mesh3d": [
           {
            "colorbar": {
             "outlinewidth": 0,
             "ticks": ""
            },
            "type": "mesh3d"
           }
          ],
          "parcoords": [
           {
            "line": {
             "colorbar": {
              "outlinewidth": 0,
              "ticks": ""
             }
            },
            "type": "parcoords"
           }
          ],
          "pie": [
           {
            "automargin": true,
            "type": "pie"
           }
          ],
          "scatter": [
           {
            "fillpattern": {
             "fillmode": "overlay",
             "size": 10,
             "solidity": 0.2
            },
            "type": "scatter"
           }
          ],
          "scatter3d": [
           {
            "line": {
             "colorbar": {
              "outlinewidth": 0,
              "ticks": ""
             }
            },
            "marker": {
             "colorbar": {
              "outlinewidth": 0,
              "ticks": ""
             }
            },
            "type": "scatter3d"
           }
          ],
          "scattercarpet": [
           {
            "marker": {
             "colorbar": {
              "outlinewidth": 0,
              "ticks": ""
             }
            },
            "type": "scattercarpet"
           }
          ],
          "scattergeo": [
           {
            "marker": {
             "colorbar": {
              "outlinewidth": 0,
              "ticks": ""
             }
            },
            "type": "scattergeo"
           }
          ],
          "scattergl": [
           {
            "marker": {
             "colorbar": {
              "outlinewidth": 0,
              "ticks": ""
             }
            },
            "type": "scattergl"
           }
          ],
          "scattermapbox": [
           {
            "marker": {
             "colorbar": {
              "outlinewidth": 0,
              "ticks": ""
             }
            },
            "type": "scattermapbox"
           }
          ],
          "scatterpolar": [
           {
            "marker": {
             "colorbar": {
              "outlinewidth": 0,
              "ticks": ""
             }
            },
            "type": "scatterpolar"
           }
          ],
          "scatterpolargl": [
           {
            "marker": {
             "colorbar": {
              "outlinewidth": 0,
              "ticks": ""
             }
            },
            "type": "scatterpolargl"
           }
          ],
          "scatterternary": [
           {
            "marker": {
             "colorbar": {
              "outlinewidth": 0,
              "ticks": ""
             }
            },
            "type": "scatterternary"
           }
          ],
          "surface": [
           {
            "colorbar": {
             "outlinewidth": 0,
             "ticks": ""
            },
            "colorscale": [
             [
              0,
              "#0d0887"
             ],
             [
              0.1111111111111111,
              "#46039f"
             ],
             [
              0.2222222222222222,
              "#7201a8"
             ],
             [
              0.3333333333333333,
              "#9c179e"
             ],
             [
              0.4444444444444444,
              "#bd3786"
             ],
             [
              0.5555555555555556,
              "#d8576b"
             ],
             [
              0.6666666666666666,
              "#ed7953"
             ],
             [
              0.7777777777777778,
              "#fb9f3a"
             ],
             [
              0.8888888888888888,
              "#fdca26"
             ],
             [
              1,
              "#f0f921"
             ]
            ],
            "type": "surface"
           }
          ],
          "table": [
           {
            "cells": {
             "fill": {
              "color": "#EBF0F8"
             },
             "line": {
              "color": "white"
             }
            },
            "header": {
             "fill": {
              "color": "#C8D4E3"
             },
             "line": {
              "color": "white"
             }
            },
            "type": "table"
           }
          ]
         },
         "layout": {
          "annotationdefaults": {
           "arrowcolor": "#2a3f5f",
           "arrowhead": 0,
           "arrowwidth": 1
          },
          "autotypenumbers": "strict",
          "coloraxis": {
           "colorbar": {
            "outlinewidth": 0,
            "ticks": ""
           }
          },
          "colorscale": {
           "diverging": [
            [
             0,
             "#8e0152"
            ],
            [
             0.1,
             "#c51b7d"
            ],
            [
             0.2,
             "#de77ae"
            ],
            [
             0.3,
             "#f1b6da"
            ],
            [
             0.4,
             "#fde0ef"
            ],
            [
             0.5,
             "#f7f7f7"
            ],
            [
             0.6,
             "#e6f5d0"
            ],
            [
             0.7,
             "#b8e186"
            ],
            [
             0.8,
             "#7fbc41"
            ],
            [
             0.9,
             "#4d9221"
            ],
            [
             1,
             "#276419"
            ]
           ],
           "sequential": [
            [
             0,
             "#0d0887"
            ],
            [
             0.1111111111111111,
             "#46039f"
            ],
            [
             0.2222222222222222,
             "#7201a8"
            ],
            [
             0.3333333333333333,
             "#9c179e"
            ],
            [
             0.4444444444444444,
             "#bd3786"
            ],
            [
             0.5555555555555556,
             "#d8576b"
            ],
            [
             0.6666666666666666,
             "#ed7953"
            ],
            [
             0.7777777777777778,
             "#fb9f3a"
            ],
            [
             0.8888888888888888,
             "#fdca26"
            ],
            [
             1,
             "#f0f921"
            ]
           ],
           "sequentialminus": [
            [
             0,
             "#0d0887"
            ],
            [
             0.1111111111111111,
             "#46039f"
            ],
            [
             0.2222222222222222,
             "#7201a8"
            ],
            [
             0.3333333333333333,
             "#9c179e"
            ],
            [
             0.4444444444444444,
             "#bd3786"
            ],
            [
             0.5555555555555556,
             "#d8576b"
            ],
            [
             0.6666666666666666,
             "#ed7953"
            ],
            [
             0.7777777777777778,
             "#fb9f3a"
            ],
            [
             0.8888888888888888,
             "#fdca26"
            ],
            [
             1,
             "#f0f921"
            ]
           ]
          },
          "colorway": [
           "#636efa",
           "#EF553B",
           "#00cc96",
           "#ab63fa",
           "#FFA15A",
           "#19d3f3",
           "#FF6692",
           "#B6E880",
           "#FF97FF",
           "#FECB52"
          ],
          "font": {
           "color": "#2a3f5f"
          },
          "geo": {
           "bgcolor": "white",
           "lakecolor": "white",
           "landcolor": "#E5ECF6",
           "showlakes": true,
           "showland": true,
           "subunitcolor": "white"
          },
          "hoverlabel": {
           "align": "left"
          },
          "hovermode": "closest",
          "mapbox": {
           "style": "light"
          },
          "paper_bgcolor": "white",
          "plot_bgcolor": "#E5ECF6",
          "polar": {
           "angularaxis": {
            "gridcolor": "white",
            "linecolor": "white",
            "ticks": ""
           },
           "bgcolor": "#E5ECF6",
           "radialaxis": {
            "gridcolor": "white",
            "linecolor": "white",
            "ticks": ""
           }
          },
          "scene": {
           "xaxis": {
            "backgroundcolor": "#E5ECF6",
            "gridcolor": "white",
            "gridwidth": 2,
            "linecolor": "white",
            "showbackground": true,
            "ticks": "",
            "zerolinecolor": "white"
           },
           "yaxis": {
            "backgroundcolor": "#E5ECF6",
            "gridcolor": "white",
            "gridwidth": 2,
            "linecolor": "white",
            "showbackground": true,
            "ticks": "",
            "zerolinecolor": "white"
           },
           "zaxis": {
            "backgroundcolor": "#E5ECF6",
            "gridcolor": "white",
            "gridwidth": 2,
            "linecolor": "white",
            "showbackground": true,
            "ticks": "",
            "zerolinecolor": "white"
           }
          },
          "shapedefaults": {
           "line": {
            "color": "#2a3f5f"
           }
          },
          "ternary": {
           "aaxis": {
            "gridcolor": "white",
            "linecolor": "white",
            "ticks": ""
           },
           "baxis": {
            "gridcolor": "white",
            "linecolor": "white",
            "ticks": ""
           },
           "bgcolor": "#E5ECF6",
           "caxis": {
            "gridcolor": "white",
            "linecolor": "white",
            "ticks": ""
           }
          },
          "title": {
           "x": 0.05
          },
          "xaxis": {
           "automargin": true,
           "gridcolor": "white",
           "linecolor": "white",
           "ticks": "",
           "title": {
            "standoff": 15
           },
           "zerolinecolor": "white",
           "zerolinewidth": 2
          },
          "yaxis": {
           "automargin": true,
           "gridcolor": "white",
           "linecolor": "white",
           "ticks": "",
           "title": {
            "standoff": 15
           },
           "zerolinecolor": "white",
           "zerolinewidth": 2
          }
         }
        },
        "title": {
         "text": "Relationship Between Poverty Rate and Hate Crime Incidents"
        },
        "xaxis": {
         "anchor": "y",
         "domain": [
          0,
          1
         ],
         "title": {
          "text": "Poverty Rate (%)"
         }
        },
        "yaxis": {
         "anchor": "x",
         "domain": [
          0,
          1
         ],
         "title": {
          "text": "Hate Crimes"
         }
        }
       }
      },
      "text/html": [
       "<div>                            <div id=\"53322e99-9095-413b-9bc7-02a81899f3ca\" class=\"plotly-graph-div\" style=\"height:525px; width:100%;\"></div>            <script type=\"text/javascript\">                require([\"plotly\"], function(Plotly) {                    window.PLOTLYENV=window.PLOTLYENV || {};                                    if (document.getElementById(\"53322e99-9095-413b-9bc7-02a81899f3ca\")) {                    Plotly.newPlot(                        \"53322e99-9095-413b-9bc7-02a81899f3ca\",                        [{\"hovertemplate\":\"Poverty Rate (%)=%{x}\\u003cbr\\u003eHate Crimes=%{y}\\u003cextra\\u003e\\u003c\\u002fextra\\u003e\",\"legendgroup\":\"\",\"marker\":{\"color\":\"#636efa\",\"symbol\":\"circle\"},\"mode\":\"markers\",\"name\":\"\",\"orientation\":\"v\",\"showlegend\":false,\"x\":[14.4,13.9,13.7,11.9,11.7,11.6,11.3,11.0,10.7,10.2,10.0,10.0,9.7,9.5,9.3,9.2,9.1,9.0,8.8,8.5,8.5,8.5,8.2,8.0,7.6,7.5,7.5,7.3,7.3,7.3,7.2,7.2,7.0,6.9,6.8,6.8,6.8,6.7,6.6,6.5,6.5,6.4,6.3,6.2,6.1,6.0,5.9,5.7,5.5,4.4],\"xaxis\":\"x\",\"y\":[17.0,52.0,40.0,66.0,143.0,28.0,182.0,75.0,499.0,111.0,138.0,90.0,961.0,271.0,437.0,230.0,234.0,105.0,365.0,1970.0,187.0,180.0,319.0,271.0,121.0,11.0,19.0,11.0,49.0,282.0,28.0,20.0,63.0,1234.0,103.0,20.0,271.0,49.0,136.0,25.0,552.0,53.0,557.0,248.0,20.0,272.0,60.0,181.0,181.0,37.0],\"yaxis\":\"y\",\"type\":\"scatter\"},{\"hovertemplate\":\"\\u003cb\\u003eOLS trendline\\u003c\\u002fb\\u003e\\u003cbr\\u003eTotal Incidents Reported = -6.56371 * Poverty Rate (%) + 286.445\\u003cbr\\u003eR\\u003csup\\u003e2\\u003c\\u002fsup\\u003e=0.001920\\u003cbr\\u003e\\u003cbr\\u003ePoverty Rate (%)=%{x}\\u003cbr\\u003eHate Crimes=%{y} \\u003cb\\u003e(trend)\\u003c\\u002fb\\u003e\\u003cextra\\u003e\\u003c\\u002fextra\\u003e\",\"legendgroup\":\"\",\"marker\":{\"color\":\"#636efa\",\"symbol\":\"circle\"},\"mode\":\"lines\",\"name\":\"\",\"showlegend\":false,\"x\":[4.4,5.5,5.7,5.9,6.0,6.1,6.2,6.3,6.4,6.5,6.5,6.6,6.7,6.8,6.8,6.8,6.9,7.0,7.2,7.2,7.3,7.3,7.3,7.5,7.5,7.6,8.0,8.2,8.5,8.5,8.5,8.8,9.0,9.1,9.2,9.3,9.5,9.7,10.0,10.0,10.2,10.7,11.0,11.3,11.6,11.7,11.9,13.7,13.9,14.4],\"xaxis\":\"x\",\"y\":[257.56419625307996,250.34411173410965,249.03136909429685,247.71862645448405,247.06225513457767,246.40588381467126,245.74951249476487,245.0931411748585,244.43676985495208,243.7803985350457,243.7803985350457,243.12402721513928,242.4676558952329,241.8112845753265,241.8112845753265,241.8112845753265,241.1549132554201,240.4985419355137,239.18579929570092,239.18579929570092,238.52942797579453,238.52942797579453,238.52942797579453,237.21668533598174,237.21668533598174,236.56031401607535,233.93482873644976,232.62208609663696,230.65297213691778,230.65297213691778,230.65297213691778,228.6838581771986,227.3711155373858,226.71474421747942,226.058372897573,225.40200157766662,224.08925893785383,222.77651629804103,220.80740233832185,220.80740233832185,219.49465969850905,216.21280309897708,214.24368913925792,212.27457517953872,210.30546121981953,209.64908989991315,208.33634726010035,196.52166350178524,195.20892086197244,191.92706426244047],\"yaxis\":\"y\",\"type\":\"scatter\"}],                        {\"template\":{\"data\":{\"histogram2dcontour\":[{\"type\":\"histogram2dcontour\",\"colorbar\":{\"outlinewidth\":0,\"ticks\":\"\"},\"colorscale\":[[0.0,\"#0d0887\"],[0.1111111111111111,\"#46039f\"],[0.2222222222222222,\"#7201a8\"],[0.3333333333333333,\"#9c179e\"],[0.4444444444444444,\"#bd3786\"],[0.5555555555555556,\"#d8576b\"],[0.6666666666666666,\"#ed7953\"],[0.7777777777777778,\"#fb9f3a\"],[0.8888888888888888,\"#fdca26\"],[1.0,\"#f0f921\"]]}],\"choropleth\":[{\"type\":\"choropleth\",\"colorbar\":{\"outlinewidth\":0,\"ticks\":\"\"}}],\"histogram2d\":[{\"type\":\"histogram2d\",\"colorbar\":{\"outlinewidth\":0,\"ticks\":\"\"},\"colorscale\":[[0.0,\"#0d0887\"],[0.1111111111111111,\"#46039f\"],[0.2222222222222222,\"#7201a8\"],[0.3333333333333333,\"#9c179e\"],[0.4444444444444444,\"#bd3786\"],[0.5555555555555556,\"#d8576b\"],[0.6666666666666666,\"#ed7953\"],[0.7777777777777778,\"#fb9f3a\"],[0.8888888888888888,\"#fdca26\"],[1.0,\"#f0f921\"]]}],\"heatmap\":[{\"type\":\"heatmap\",\"colorbar\":{\"outlinewidth\":0,\"ticks\":\"\"},\"colorscale\":[[0.0,\"#0d0887\"],[0.1111111111111111,\"#46039f\"],[0.2222222222222222,\"#7201a8\"],[0.3333333333333333,\"#9c179e\"],[0.4444444444444444,\"#bd3786\"],[0.5555555555555556,\"#d8576b\"],[0.6666666666666666,\"#ed7953\"],[0.7777777777777778,\"#fb9f3a\"],[0.8888888888888888,\"#fdca26\"],[1.0,\"#f0f921\"]]}],\"heatmapgl\":[{\"type\":\"heatmapgl\",\"colorbar\":{\"outlinewidth\":0,\"ticks\":\"\"},\"colorscale\":[[0.0,\"#0d0887\"],[0.1111111111111111,\"#46039f\"],[0.2222222222222222,\"#7201a8\"],[0.3333333333333333,\"#9c179e\"],[0.4444444444444444,\"#bd3786\"],[0.5555555555555556,\"#d8576b\"],[0.6666666666666666,\"#ed7953\"],[0.7777777777777778,\"#fb9f3a\"],[0.8888888888888888,\"#fdca26\"],[1.0,\"#f0f921\"]]}],\"contourcarpet\":[{\"type\":\"contourcarpet\",\"colorbar\":{\"outlinewidth\":0,\"ticks\":\"\"}}],\"contour\":[{\"type\":\"contour\",\"colorbar\":{\"outlinewidth\":0,\"ticks\":\"\"},\"colorscale\":[[0.0,\"#0d0887\"],[0.1111111111111111,\"#46039f\"],[0.2222222222222222,\"#7201a8\"],[0.3333333333333333,\"#9c179e\"],[0.4444444444444444,\"#bd3786\"],[0.5555555555555556,\"#d8576b\"],[0.6666666666666666,\"#ed7953\"],[0.7777777777777778,\"#fb9f3a\"],[0.8888888888888888,\"#fdca26\"],[1.0,\"#f0f921\"]]}],\"surface\":[{\"type\":\"surface\",\"colorbar\":{\"outlinewidth\":0,\"ticks\":\"\"},\"colorscale\":[[0.0,\"#0d0887\"],[0.1111111111111111,\"#46039f\"],[0.2222222222222222,\"#7201a8\"],[0.3333333333333333,\"#9c179e\"],[0.4444444444444444,\"#bd3786\"],[0.5555555555555556,\"#d8576b\"],[0.6666666666666666,\"#ed7953\"],[0.7777777777777778,\"#fb9f3a\"],[0.8888888888888888,\"#fdca26\"],[1.0,\"#f0f921\"]]}],\"mesh3d\":[{\"type\":\"mesh3d\",\"colorbar\":{\"outlinewidth\":0,\"ticks\":\"\"}}],\"scatter\":[{\"fillpattern\":{\"fillmode\":\"overlay\",\"size\":10,\"solidity\":0.2},\"type\":\"scatter\"}],\"parcoords\":[{\"type\":\"parcoords\",\"line\":{\"colorbar\":{\"outlinewidth\":0,\"ticks\":\"\"}}}],\"scatterpolargl\":[{\"type\":\"scatterpolargl\",\"marker\":{\"colorbar\":{\"outlinewidth\":0,\"ticks\":\"\"}}}],\"bar\":[{\"error_x\":{\"color\":\"#2a3f5f\"},\"error_y\":{\"color\":\"#2a3f5f\"},\"marker\":{\"line\":{\"color\":\"#E5ECF6\",\"width\":0.5},\"pattern\":{\"fillmode\":\"overlay\",\"size\":10,\"solidity\":0.2}},\"type\":\"bar\"}],\"scattergeo\":[{\"type\":\"scattergeo\",\"marker\":{\"colorbar\":{\"outlinewidth\":0,\"ticks\":\"\"}}}],\"scatterpolar\":[{\"type\":\"scatterpolar\",\"marker\":{\"colorbar\":{\"outlinewidth\":0,\"ticks\":\"\"}}}],\"histogram\":[{\"marker\":{\"pattern\":{\"fillmode\":\"overlay\",\"size\":10,\"solidity\":0.2}},\"type\":\"histogram\"}],\"scattergl\":[{\"type\":\"scattergl\",\"marker\":{\"colorbar\":{\"outlinewidth\":0,\"ticks\":\"\"}}}],\"scatter3d\":[{\"type\":\"scatter3d\",\"line\":{\"colorbar\":{\"outlinewidth\":0,\"ticks\":\"\"}},\"marker\":{\"colorbar\":{\"outlinewidth\":0,\"ticks\":\"\"}}}],\"scattermapbox\":[{\"type\":\"scattermapbox\",\"marker\":{\"colorbar\":{\"outlinewidth\":0,\"ticks\":\"\"}}}],\"scatterternary\":[{\"type\":\"scatterternary\",\"marker\":{\"colorbar\":{\"outlinewidth\":0,\"ticks\":\"\"}}}],\"scattercarpet\":[{\"type\":\"scattercarpet\",\"marker\":{\"colorbar\":{\"outlinewidth\":0,\"ticks\":\"\"}}}],\"carpet\":[{\"aaxis\":{\"endlinecolor\":\"#2a3f5f\",\"gridcolor\":\"white\",\"linecolor\":\"white\",\"minorgridcolor\":\"white\",\"startlinecolor\":\"#2a3f5f\"},\"baxis\":{\"endlinecolor\":\"#2a3f5f\",\"gridcolor\":\"white\",\"linecolor\":\"white\",\"minorgridcolor\":\"white\",\"startlinecolor\":\"#2a3f5f\"},\"type\":\"carpet\"}],\"table\":[{\"cells\":{\"fill\":{\"color\":\"#EBF0F8\"},\"line\":{\"color\":\"white\"}},\"header\":{\"fill\":{\"color\":\"#C8D4E3\"},\"line\":{\"color\":\"white\"}},\"type\":\"table\"}],\"barpolar\":[{\"marker\":{\"line\":{\"color\":\"#E5ECF6\",\"width\":0.5},\"pattern\":{\"fillmode\":\"overlay\",\"size\":10,\"solidity\":0.2}},\"type\":\"barpolar\"}],\"pie\":[{\"automargin\":true,\"type\":\"pie\"}]},\"layout\":{\"autotypenumbers\":\"strict\",\"colorway\":[\"#636efa\",\"#EF553B\",\"#00cc96\",\"#ab63fa\",\"#FFA15A\",\"#19d3f3\",\"#FF6692\",\"#B6E880\",\"#FF97FF\",\"#FECB52\"],\"font\":{\"color\":\"#2a3f5f\"},\"hovermode\":\"closest\",\"hoverlabel\":{\"align\":\"left\"},\"paper_bgcolor\":\"white\",\"plot_bgcolor\":\"#E5ECF6\",\"polar\":{\"bgcolor\":\"#E5ECF6\",\"angularaxis\":{\"gridcolor\":\"white\",\"linecolor\":\"white\",\"ticks\":\"\"},\"radialaxis\":{\"gridcolor\":\"white\",\"linecolor\":\"white\",\"ticks\":\"\"}},\"ternary\":{\"bgcolor\":\"#E5ECF6\",\"aaxis\":{\"gridcolor\":\"white\",\"linecolor\":\"white\",\"ticks\":\"\"},\"baxis\":{\"gridcolor\":\"white\",\"linecolor\":\"white\",\"ticks\":\"\"},\"caxis\":{\"gridcolor\":\"white\",\"linecolor\":\"white\",\"ticks\":\"\"}},\"coloraxis\":{\"colorbar\":{\"outlinewidth\":0,\"ticks\":\"\"}},\"colorscale\":{\"sequential\":[[0.0,\"#0d0887\"],[0.1111111111111111,\"#46039f\"],[0.2222222222222222,\"#7201a8\"],[0.3333333333333333,\"#9c179e\"],[0.4444444444444444,\"#bd3786\"],[0.5555555555555556,\"#d8576b\"],[0.6666666666666666,\"#ed7953\"],[0.7777777777777778,\"#fb9f3a\"],[0.8888888888888888,\"#fdca26\"],[1.0,\"#f0f921\"]],\"sequentialminus\":[[0.0,\"#0d0887\"],[0.1111111111111111,\"#46039f\"],[0.2222222222222222,\"#7201a8\"],[0.3333333333333333,\"#9c179e\"],[0.4444444444444444,\"#bd3786\"],[0.5555555555555556,\"#d8576b\"],[0.6666666666666666,\"#ed7953\"],[0.7777777777777778,\"#fb9f3a\"],[0.8888888888888888,\"#fdca26\"],[1.0,\"#f0f921\"]],\"diverging\":[[0,\"#8e0152\"],[0.1,\"#c51b7d\"],[0.2,\"#de77ae\"],[0.3,\"#f1b6da\"],[0.4,\"#fde0ef\"],[0.5,\"#f7f7f7\"],[0.6,\"#e6f5d0\"],[0.7,\"#b8e186\"],[0.8,\"#7fbc41\"],[0.9,\"#4d9221\"],[1,\"#276419\"]]},\"xaxis\":{\"gridcolor\":\"white\",\"linecolor\":\"white\",\"ticks\":\"\",\"title\":{\"standoff\":15},\"zerolinecolor\":\"white\",\"automargin\":true,\"zerolinewidth\":2},\"yaxis\":{\"gridcolor\":\"white\",\"linecolor\":\"white\",\"ticks\":\"\",\"title\":{\"standoff\":15},\"zerolinecolor\":\"white\",\"automargin\":true,\"zerolinewidth\":2},\"scene\":{\"xaxis\":{\"backgroundcolor\":\"#E5ECF6\",\"gridcolor\":\"white\",\"linecolor\":\"white\",\"showbackground\":true,\"ticks\":\"\",\"zerolinecolor\":\"white\",\"gridwidth\":2},\"yaxis\":{\"backgroundcolor\":\"#E5ECF6\",\"gridcolor\":\"white\",\"linecolor\":\"white\",\"showbackground\":true,\"ticks\":\"\",\"zerolinecolor\":\"white\",\"gridwidth\":2},\"zaxis\":{\"backgroundcolor\":\"#E5ECF6\",\"gridcolor\":\"white\",\"linecolor\":\"white\",\"showbackground\":true,\"ticks\":\"\",\"zerolinecolor\":\"white\",\"gridwidth\":2}},\"shapedefaults\":{\"line\":{\"color\":\"#2a3f5f\"}},\"annotationdefaults\":{\"arrowcolor\":\"#2a3f5f\",\"arrowhead\":0,\"arrowwidth\":1},\"geo\":{\"bgcolor\":\"white\",\"landcolor\":\"#E5ECF6\",\"subunitcolor\":\"white\",\"showland\":true,\"showlakes\":true,\"lakecolor\":\"white\"},\"title\":{\"x\":0.05},\"mapbox\":{\"style\":\"light\"}}},\"xaxis\":{\"anchor\":\"y\",\"domain\":[0.0,1.0],\"title\":{\"text\":\"Poverty Rate (%)\"}},\"yaxis\":{\"anchor\":\"x\",\"domain\":[0.0,1.0],\"title\":{\"text\":\"Hate Crimes\"}},\"legend\":{\"tracegroupgap\":0},\"title\":{\"text\":\"Relationship Between Poverty Rate and Hate Crime Incidents\"}},                        {\"responsive\": true}                    ).then(function(){\n",
       "                            \n",
       "var gd = document.getElementById('53322e99-9095-413b-9bc7-02a81899f3ca');\n",
       "var x = new MutationObserver(function (mutations, observer) {{\n",
       "        var display = window.getComputedStyle(gd).display;\n",
       "        if (!display || display === 'none') {{\n",
       "            console.log([gd, 'removed!']);\n",
       "            Plotly.purge(gd);\n",
       "            observer.disconnect();\n",
       "        }}\n",
       "}});\n",
       "\n",
       "// Listen for the removal of the full notebook cells\n",
       "var notebookContainer = gd.closest('#notebook-container');\n",
       "if (notebookContainer) {{\n",
       "    x.observe(notebookContainer, {childList: true});\n",
       "}}\n",
       "\n",
       "// Listen for the clearing of the current output cell\n",
       "var outputEl = gd.closest('.output');\n",
       "if (outputEl) {{\n",
       "    x.observe(outputEl, {childList: true});\n",
       "}}\n",
       "\n",
       "                        })                };                });            </script>        </div>"
      ]
     },
     "metadata": {},
     "output_type": "display_data"
    }
   ],
   "source": [
    "import plotly.express as px\n",
    "\n",
    "fig = px.scatter(\n",
    "    merged_data,\n",
    "    x=\"Poverty Rate (%)\",\n",
    "    y=\"Total Incidents Reported\",\n",
    "    title=\"Relationship Between Poverty Rate and Hate Crime Incidents\",\n",
    "    labels={\"Poverty Rate (%)\": \"Poverty Rate (%)\", \"Total Incidents Reported\": \"Hate Crimes\"},\n",
    "    trendline=\"ols\"\n",
    ")\n",
    "\n",
    "fig.show()"
   ]
  },
  {
   "cell_type": "markdown",
   "metadata": {
    "id": "ZjOZeeEC6i9u"
   },
   "source": [
    "# Step 9:\n",
    "\n",
    "I included the OLS results below (analysis of which will be in the conclusion section):"
   ]
  },
  {
   "cell_type": "code",
   "execution_count": 23,
   "metadata": {
    "colab": {
     "base_uri": "https://localhost:8080/"
    },
    "id": "VYD0gw24c_v2",
    "outputId": "8a3b090b-ce1b-4d8f-c18a-ae098528b066"
   },
   "outputs": [
    {
     "name": "stdout",
     "output_type": "stream",
     "text": [
      "                            OLS Regression Results                            \n",
      "==============================================================================\n",
      "Dep. Variable:                      y   R-squared:                       0.002\n",
      "Model:                            OLS   Adj. R-squared:                 -0.019\n",
      "Method:                 Least Squares   F-statistic:                   0.09234\n",
      "Date:                Sun, 08 Dec 2024   Prob (F-statistic):              0.763\n",
      "Time:                        20:21:20   Log-Likelihood:                -362.42\n",
      "No. Observations:                  50   AIC:                             728.8\n",
      "Df Residuals:                      48   BIC:                             732.7\n",
      "Df Model:                           1                                         \n",
      "Covariance Type:            nonrobust                                         \n",
      "==============================================================================\n",
      "                 coef    std err          t      P>|t|      [0.025      0.975]\n",
      "------------------------------------------------------------------------------\n",
      "const        286.4445    187.420      1.528      0.133     -90.389     663.278\n",
      "x1            -6.5637     21.600     -0.304      0.763     -49.993      36.865\n",
      "==============================================================================\n",
      "Omnibus:                       62.528   Durbin-Watson:                   1.931\n",
      "Prob(Omnibus):                  0.000   Jarque-Bera (JB):              426.646\n",
      "Skew:                           3.339   Prob(JB):                     2.27e-93\n",
      "Kurtosis:                      15.657   Cond. No.                         33.5\n",
      "==============================================================================\n",
      "\n",
      "Notes:\n",
      "[1] Standard Errors assume that the covariance matrix of the errors is correctly specified.\n"
     ]
    }
   ],
   "source": [
    "ols_results = px.get_trendline_results(fig) #used GPT for this code\n",
    "print(ols_results.iloc[0]['px_fit_results'].summary()) #used GPT for this line"
   ]
  },
  {
   "cell_type": "markdown",
   "metadata": {
    "id": "DhG2EQ0u6nZ6"
   },
   "source": [
    "# Step 10:\n",
    "I realized that I wanted to look at hate crimes per capita, so I created another column in the merged data by dividing the \"Total Incidents Reported\" column by the \"Population Covered\" column."
   ]
  },
  {
   "cell_type": "code",
   "execution_count": 24,
   "metadata": {
    "colab": {
     "base_uri": "https://localhost:8080/",
     "height": 1000
    },
    "collapsed": true,
    "id": "ExuOoJi_nKua",
    "outputId": "7565ebf5-15ba-43fe-cd74-4ec4d0488bda"
   },
   "outputs": [
    {
     "data": {
      "text/html": [
       "<div>\n",
       "<style scoped>\n",
       "    .dataframe tbody tr th:only-of-type {\n",
       "        vertical-align: middle;\n",
       "    }\n",
       "\n",
       "    .dataframe tbody tr th {\n",
       "        vertical-align: top;\n",
       "    }\n",
       "\n",
       "    .dataframe thead th {\n",
       "        text-align: right;\n",
       "    }\n",
       "</style>\n",
       "<table border=\"1\" class=\"dataframe\">\n",
       "  <thead>\n",
       "    <tr style=\"text-align: right;\">\n",
       "      <th></th>\n",
       "      <th>State</th>\n",
       "      <th>Poverty Rate (%)</th>\n",
       "      <th>Families Below Poverty</th>\n",
       "      <th>Rank within US</th>\n",
       "      <th>Total Incidents Reported</th>\n",
       "      <th>Participating Agencies</th>\n",
       "      <th>Population Covered</th>\n",
       "      <th>Hate Crimes Per Capita</th>\n",
       "    </tr>\n",
       "  </thead>\n",
       "  <tbody>\n",
       "    <tr>\n",
       "      <th>0</th>\n",
       "      <td>Mississippi</td>\n",
       "      <td>14.4</td>\n",
       "      <td>106581</td>\n",
       "      <td>51</td>\n",
       "      <td>17.0</td>\n",
       "      <td>156.0</td>\n",
       "      <td>1711605.0</td>\n",
       "      <td>0.000010</td>\n",
       "    </tr>\n",
       "    <tr>\n",
       "      <th>1</th>\n",
       "      <td>Louisiana</td>\n",
       "      <td>13.9</td>\n",
       "      <td>156055</td>\n",
       "      <td>50</td>\n",
       "      <td>52.0</td>\n",
       "      <td>145.0</td>\n",
       "      <td>3423421.0</td>\n",
       "      <td>0.000015</td>\n",
       "    </tr>\n",
       "    <tr>\n",
       "      <th>2</th>\n",
       "      <td>New Mexico</td>\n",
       "      <td>13.7</td>\n",
       "      <td>68850</td>\n",
       "      <td>49</td>\n",
       "      <td>40.0</td>\n",
       "      <td>100.0</td>\n",
       "      <td>1885968.0</td>\n",
       "      <td>0.000021</td>\n",
       "    </tr>\n",
       "    <tr>\n",
       "      <th>3</th>\n",
       "      <td>West Virginia</td>\n",
       "      <td>11.9</td>\n",
       "      <td>53672</td>\n",
       "      <td>48</td>\n",
       "      <td>66.0</td>\n",
       "      <td>248.0</td>\n",
       "      <td>1555284.0</td>\n",
       "      <td>0.000042</td>\n",
       "    </tr>\n",
       "    <tr>\n",
       "      <th>4</th>\n",
       "      <td>Kentucky</td>\n",
       "      <td>11.7</td>\n",
       "      <td>133954</td>\n",
       "      <td>47</td>\n",
       "      <td>143.0</td>\n",
       "      <td>427.0</td>\n",
       "      <td>4524497.0</td>\n",
       "      <td>0.000032</td>\n",
       "    </tr>\n",
       "    <tr>\n",
       "      <th>5</th>\n",
       "      <td>Arkansas</td>\n",
       "      <td>11.6</td>\n",
       "      <td>88915</td>\n",
       "      <td>46</td>\n",
       "      <td>28.0</td>\n",
       "      <td>298.0</td>\n",
       "      <td>2981249.0</td>\n",
       "      <td>0.000009</td>\n",
       "    </tr>\n",
       "    <tr>\n",
       "      <th>6</th>\n",
       "      <td>Alabama</td>\n",
       "      <td>11.3</td>\n",
       "      <td>141807</td>\n",
       "      <td>45</td>\n",
       "      <td>182.0</td>\n",
       "      <td>408.0</td>\n",
       "      <td>4715066.0</td>\n",
       "      <td>0.000039</td>\n",
       "    </tr>\n",
       "    <tr>\n",
       "      <th>7</th>\n",
       "      <td>Oklahoma</td>\n",
       "      <td>11.0</td>\n",
       "      <td>108707</td>\n",
       "      <td>44</td>\n",
       "      <td>75.0</td>\n",
       "      <td>460.0</td>\n",
       "      <td>4053824.0</td>\n",
       "      <td>0.000019</td>\n",
       "    </tr>\n",
       "    <tr>\n",
       "      <th>8</th>\n",
       "      <td>Texas</td>\n",
       "      <td>10.7</td>\n",
       "      <td>765437</td>\n",
       "      <td>42</td>\n",
       "      <td>499.0</td>\n",
       "      <td>1359.0</td>\n",
       "      <td>30161963.0</td>\n",
       "      <td>0.000017</td>\n",
       "    </tr>\n",
       "    <tr>\n",
       "      <th>9</th>\n",
       "      <td>South Carolina</td>\n",
       "      <td>10.2</td>\n",
       "      <td>134309</td>\n",
       "      <td>41</td>\n",
       "      <td>111.0</td>\n",
       "      <td>489.0</td>\n",
       "      <td>5363912.0</td>\n",
       "      <td>0.000021</td>\n",
       "    </tr>\n",
       "    <tr>\n",
       "      <th>10</th>\n",
       "      <td>Georgia</td>\n",
       "      <td>10.0</td>\n",
       "      <td>263451</td>\n",
       "      <td>40</td>\n",
       "      <td>138.0</td>\n",
       "      <td>447.0</td>\n",
       "      <td>10098610.0</td>\n",
       "      <td>0.000014</td>\n",
       "    </tr>\n",
       "    <tr>\n",
       "      <th>11</th>\n",
       "      <td>Tennessee</td>\n",
       "      <td>10.0</td>\n",
       "      <td>176096</td>\n",
       "      <td>39</td>\n",
       "      <td>90.0</td>\n",
       "      <td>398.0</td>\n",
       "      <td>7121949.0</td>\n",
       "      <td>0.000013</td>\n",
       "    </tr>\n",
       "    <tr>\n",
       "      <th>12</th>\n",
       "      <td>New York</td>\n",
       "      <td>9.7</td>\n",
       "      <td>461391</td>\n",
       "      <td>38</td>\n",
       "      <td>961.0</td>\n",
       "      <td>564.0</td>\n",
       "      <td>19487932.0</td>\n",
       "      <td>0.000049</td>\n",
       "    </tr>\n",
       "    <tr>\n",
       "      <th>13</th>\n",
       "      <td>North Carolina</td>\n",
       "      <td>9.5</td>\n",
       "      <td>252021</td>\n",
       "      <td>37</td>\n",
       "      <td>271.0</td>\n",
       "      <td>400.0</td>\n",
       "      <td>10421456.0</td>\n",
       "      <td>0.000026</td>\n",
       "    </tr>\n",
       "    <tr>\n",
       "      <th>14</th>\n",
       "      <td>Ohio</td>\n",
       "      <td>9.3</td>\n",
       "      <td>274036</td>\n",
       "      <td>36</td>\n",
       "      <td>437.0</td>\n",
       "      <td>637.0</td>\n",
       "      <td>11239743.0</td>\n",
       "      <td>0.000039</td>\n",
       "    </tr>\n",
       "    <tr>\n",
       "      <th>15</th>\n",
       "      <td>Arizona</td>\n",
       "      <td>9.2</td>\n",
       "      <td>163902</td>\n",
       "      <td>35</td>\n",
       "      <td>230.0</td>\n",
       "      <td>107.0</td>\n",
       "      <td>6826055.0</td>\n",
       "      <td>0.000034</td>\n",
       "    </tr>\n",
       "    <tr>\n",
       "      <th>16</th>\n",
       "      <td>Florida</td>\n",
       "      <td>9.1</td>\n",
       "      <td>492413</td>\n",
       "      <td>34</td>\n",
       "      <td>234.0</td>\n",
       "      <td>249.0</td>\n",
       "      <td>18148836.0</td>\n",
       "      <td>0.000013</td>\n",
       "    </tr>\n",
       "    <tr>\n",
       "      <th>17</th>\n",
       "      <td>Nevada</td>\n",
       "      <td>9.0</td>\n",
       "      <td>67110</td>\n",
       "      <td>33</td>\n",
       "      <td>105.0</td>\n",
       "      <td>58.0</td>\n",
       "      <td>3181298.0</td>\n",
       "      <td>0.000033</td>\n",
       "    </tr>\n",
       "    <tr>\n",
       "      <th>18</th>\n",
       "      <td>Michigan</td>\n",
       "      <td>8.8</td>\n",
       "      <td>222032</td>\n",
       "      <td>32</td>\n",
       "      <td>365.0</td>\n",
       "      <td>595.0</td>\n",
       "      <td>9517887.0</td>\n",
       "      <td>0.000038</td>\n",
       "    </tr>\n",
       "    <tr>\n",
       "      <th>19</th>\n",
       "      <td>California</td>\n",
       "      <td>8.5</td>\n",
       "      <td>776066</td>\n",
       "      <td>31</td>\n",
       "      <td>1970.0</td>\n",
       "      <td>842.0</td>\n",
       "      <td>38771948.0</td>\n",
       "      <td>0.000051</td>\n",
       "    </tr>\n",
       "    <tr>\n",
       "      <th>20</th>\n",
       "      <td>Missouri</td>\n",
       "      <td>8.5</td>\n",
       "      <td>131020</td>\n",
       "      <td>30</td>\n",
       "      <td>187.0</td>\n",
       "      <td>505.0</td>\n",
       "      <td>6100091.0</td>\n",
       "      <td>0.000031</td>\n",
       "    </tr>\n",
       "    <tr>\n",
       "      <th>21</th>\n",
       "      <td>Indiana</td>\n",
       "      <td>8.5</td>\n",
       "      <td>143800</td>\n",
       "      <td>29</td>\n",
       "      <td>180.0</td>\n",
       "      <td>227.0</td>\n",
       "      <td>5854222.0</td>\n",
       "      <td>0.000031</td>\n",
       "    </tr>\n",
       "    <tr>\n",
       "      <th>22</th>\n",
       "      <td>Illinois</td>\n",
       "      <td>8.2</td>\n",
       "      <td>256079</td>\n",
       "      <td>28</td>\n",
       "      <td>319.0</td>\n",
       "      <td>626.0</td>\n",
       "      <td>11210798.0</td>\n",
       "      <td>0.000028</td>\n",
       "    </tr>\n",
       "    <tr>\n",
       "      <th>23</th>\n",
       "      <td>Pennsylvania</td>\n",
       "      <td>8.0</td>\n",
       "      <td>262184</td>\n",
       "      <td>27</td>\n",
       "      <td>271.0</td>\n",
       "      <td>1199.0</td>\n",
       "      <td>12441342.0</td>\n",
       "      <td>0.000022</td>\n",
       "    </tr>\n",
       "    <tr>\n",
       "      <th>24</th>\n",
       "      <td>Kansas</td>\n",
       "      <td>7.6</td>\n",
       "      <td>56045</td>\n",
       "      <td>26</td>\n",
       "      <td>121.0</td>\n",
       "      <td>317.0</td>\n",
       "      <td>2705648.0</td>\n",
       "      <td>0.000045</td>\n",
       "    </tr>\n",
       "    <tr>\n",
       "      <th>25</th>\n",
       "      <td>South Dakota</td>\n",
       "      <td>7.5</td>\n",
       "      <td>16445</td>\n",
       "      <td>25</td>\n",
       "      <td>11.0</td>\n",
       "      <td>107.0</td>\n",
       "      <td>844189.0</td>\n",
       "      <td>0.000013</td>\n",
       "    </tr>\n",
       "    <tr>\n",
       "      <th>26</th>\n",
       "      <td>Delaware</td>\n",
       "      <td>7.5</td>\n",
       "      <td>18950</td>\n",
       "      <td>24</td>\n",
       "      <td>19.0</td>\n",
       "      <td>63.0</td>\n",
       "      <td>1031890.0</td>\n",
       "      <td>0.000018</td>\n",
       "    </tr>\n",
       "    <tr>\n",
       "      <th>27</th>\n",
       "      <td>Montana</td>\n",
       "      <td>7.3</td>\n",
       "      <td>19812</td>\n",
       "      <td>23</td>\n",
       "      <td>11.0</td>\n",
       "      <td>111.0</td>\n",
       "      <td>1131954.0</td>\n",
       "      <td>0.000010</td>\n",
       "    </tr>\n",
       "    <tr>\n",
       "      <th>28</th>\n",
       "      <td>Idaho</td>\n",
       "      <td>7.3</td>\n",
       "      <td>33802</td>\n",
       "      <td>22</td>\n",
       "      <td>49.0</td>\n",
       "      <td>109.0</td>\n",
       "      <td>1957679.0</td>\n",
       "      <td>0.000025</td>\n",
       "    </tr>\n",
       "    <tr>\n",
       "      <th>29</th>\n",
       "      <td>Oregon</td>\n",
       "      <td>7.3</td>\n",
       "      <td>75694</td>\n",
       "      <td>21</td>\n",
       "      <td>282.0</td>\n",
       "      <td>207.0</td>\n",
       "      <td>4175772.0</td>\n",
       "      <td>0.000068</td>\n",
       "    </tr>\n",
       "    <tr>\n",
       "      <th>30</th>\n",
       "      <td>Rhode Island</td>\n",
       "      <td>7.2</td>\n",
       "      <td>19196</td>\n",
       "      <td>20</td>\n",
       "      <td>28.0</td>\n",
       "      <td>48.0</td>\n",
       "      <td>1094548.0</td>\n",
       "      <td>0.000026</td>\n",
       "    </tr>\n",
       "    <tr>\n",
       "      <th>31</th>\n",
       "      <td>Alaska</td>\n",
       "      <td>7.2</td>\n",
       "      <td>12256</td>\n",
       "      <td>19</td>\n",
       "      <td>20.0</td>\n",
       "      <td>32.0</td>\n",
       "      <td>728197.0</td>\n",
       "      <td>0.000027</td>\n",
       "    </tr>\n",
       "    <tr>\n",
       "      <th>32</th>\n",
       "      <td>Iowa</td>\n",
       "      <td>7.0</td>\n",
       "      <td>56617</td>\n",
       "      <td>18</td>\n",
       "      <td>63.0</td>\n",
       "      <td>252.0</td>\n",
       "      <td>2998687.0</td>\n",
       "      <td>0.000021</td>\n",
       "    </tr>\n",
       "    <tr>\n",
       "      <th>33</th>\n",
       "      <td>New Jersey</td>\n",
       "      <td>6.9</td>\n",
       "      <td>162445</td>\n",
       "      <td>17</td>\n",
       "      <td>1234.0</td>\n",
       "      <td>488.0</td>\n",
       "      <td>8864303.0</td>\n",
       "      <td>0.000139</td>\n",
       "    </tr>\n",
       "    <tr>\n",
       "      <th>34</th>\n",
       "      <td>Connecticut</td>\n",
       "      <td>6.8</td>\n",
       "      <td>62426</td>\n",
       "      <td>16</td>\n",
       "      <td>103.0</td>\n",
       "      <td>108.0</td>\n",
       "      <td>3617176.0</td>\n",
       "      <td>0.000028</td>\n",
       "    </tr>\n",
       "    <tr>\n",
       "      <th>35</th>\n",
       "      <td>Wyoming</td>\n",
       "      <td>6.8</td>\n",
       "      <td>10055</td>\n",
       "      <td>15</td>\n",
       "      <td>20.0</td>\n",
       "      <td>52.0</td>\n",
       "      <td>515122.0</td>\n",
       "      <td>0.000039</td>\n",
       "    </tr>\n",
       "    <tr>\n",
       "      <th>36</th>\n",
       "      <td>Virginia</td>\n",
       "      <td>6.8</td>\n",
       "      <td>145980</td>\n",
       "      <td>14</td>\n",
       "      <td>271.0</td>\n",
       "      <td>416.0</td>\n",
       "      <td>8715117.0</td>\n",
       "      <td>0.000031</td>\n",
       "    </tr>\n",
       "    <tr>\n",
       "      <th>37</th>\n",
       "      <td>Nebraska</td>\n",
       "      <td>6.7</td>\n",
       "      <td>32681</td>\n",
       "      <td>13</td>\n",
       "      <td>49.0</td>\n",
       "      <td>247.0</td>\n",
       "      <td>1902679.0</td>\n",
       "      <td>0.000026</td>\n",
       "    </tr>\n",
       "    <tr>\n",
       "      <th>38</th>\n",
       "      <td>Wisconsin</td>\n",
       "      <td>6.6</td>\n",
       "      <td>98072</td>\n",
       "      <td>12</td>\n",
       "      <td>136.0</td>\n",
       "      <td>383.0</td>\n",
       "      <td>5743277.0</td>\n",
       "      <td>0.000024</td>\n",
       "    </tr>\n",
       "    <tr>\n",
       "      <th>39</th>\n",
       "      <td>Hawaii</td>\n",
       "      <td>6.5</td>\n",
       "      <td>21700</td>\n",
       "      <td>11</td>\n",
       "      <td>25.0</td>\n",
       "      <td>3.0</td>\n",
       "      <td>1270885.0</td>\n",
       "      <td>0.000020</td>\n",
       "    </tr>\n",
       "    <tr>\n",
       "      <th>40</th>\n",
       "      <td>Massachusetts</td>\n",
       "      <td>6.5</td>\n",
       "      <td>111966</td>\n",
       "      <td>10</td>\n",
       "      <td>552.0</td>\n",
       "      <td>386.0</td>\n",
       "      <td>6971044.0</td>\n",
       "      <td>0.000079</td>\n",
       "    </tr>\n",
       "    <tr>\n",
       "      <th>41</th>\n",
       "      <td>Maine</td>\n",
       "      <td>6.4</td>\n",
       "      <td>22666</td>\n",
       "      <td>9</td>\n",
       "      <td>53.0</td>\n",
       "      <td>131.0</td>\n",
       "      <td>1395722.0</td>\n",
       "      <td>0.000038</td>\n",
       "    </tr>\n",
       "    <tr>\n",
       "      <th>42</th>\n",
       "      <td>Washington</td>\n",
       "      <td>6.3</td>\n",
       "      <td>121312</td>\n",
       "      <td>8</td>\n",
       "      <td>557.0</td>\n",
       "      <td>245.0</td>\n",
       "      <td>7758180.0</td>\n",
       "      <td>0.000072</td>\n",
       "    </tr>\n",
       "    <tr>\n",
       "      <th>43</th>\n",
       "      <td>Maryland</td>\n",
       "      <td>6.2</td>\n",
       "      <td>94779</td>\n",
       "      <td>7</td>\n",
       "      <td>248.0</td>\n",
       "      <td>134.0</td>\n",
       "      <td>5986435.0</td>\n",
       "      <td>0.000041</td>\n",
       "    </tr>\n",
       "    <tr>\n",
       "      <th>44</th>\n",
       "      <td>North Dakota</td>\n",
       "      <td>6.1</td>\n",
       "      <td>11567</td>\n",
       "      <td>6</td>\n",
       "      <td>20.0</td>\n",
       "      <td>111.0</td>\n",
       "      <td>783926.0</td>\n",
       "      <td>0.000026</td>\n",
       "    </tr>\n",
       "    <tr>\n",
       "      <th>45</th>\n",
       "      <td>Colorado</td>\n",
       "      <td>6.0</td>\n",
       "      <td>84990</td>\n",
       "      <td>5</td>\n",
       "      <td>272.0</td>\n",
       "      <td>224.0</td>\n",
       "      <td>5822451.0</td>\n",
       "      <td>0.000047</td>\n",
       "    </tr>\n",
       "    <tr>\n",
       "      <th>46</th>\n",
       "      <td>Vermont</td>\n",
       "      <td>5.9</td>\n",
       "      <td>9229</td>\n",
       "      <td>4</td>\n",
       "      <td>60.0</td>\n",
       "      <td>87.0</td>\n",
       "      <td>647464.0</td>\n",
       "      <td>0.000093</td>\n",
       "    </tr>\n",
       "    <tr>\n",
       "      <th>47</th>\n",
       "      <td>Utah</td>\n",
       "      <td>5.7</td>\n",
       "      <td>44250</td>\n",
       "      <td>3</td>\n",
       "      <td>181.0</td>\n",
       "      <td>138.0</td>\n",
       "      <td>3399787.0</td>\n",
       "      <td>0.000053</td>\n",
       "    </tr>\n",
       "    <tr>\n",
       "      <th>48</th>\n",
       "      <td>Minnesota</td>\n",
       "      <td>5.5</td>\n",
       "      <td>78687</td>\n",
       "      <td>2</td>\n",
       "      <td>181.0</td>\n",
       "      <td>406.0</td>\n",
       "      <td>5732979.0</td>\n",
       "      <td>0.000032</td>\n",
       "    </tr>\n",
       "    <tr>\n",
       "      <th>49</th>\n",
       "      <td>New Hampshire</td>\n",
       "      <td>4.4</td>\n",
       "      <td>15526</td>\n",
       "      <td>1</td>\n",
       "      <td>37.0</td>\n",
       "      <td>204.0</td>\n",
       "      <td>1361616.0</td>\n",
       "      <td>0.000027</td>\n",
       "    </tr>\n",
       "  </tbody>\n",
       "</table>\n",
       "</div>"
      ],
      "text/plain": [
       "             State  Poverty Rate (%)  Families Below Poverty  Rank within US  \\\n",
       "0      Mississippi              14.4                  106581              51   \n",
       "1        Louisiana              13.9                  156055              50   \n",
       "2       New Mexico              13.7                   68850              49   \n",
       "3    West Virginia              11.9                   53672              48   \n",
       "4         Kentucky              11.7                  133954              47   \n",
       "5         Arkansas              11.6                   88915              46   \n",
       "6          Alabama              11.3                  141807              45   \n",
       "7         Oklahoma              11.0                  108707              44   \n",
       "8            Texas              10.7                  765437              42   \n",
       "9   South Carolina              10.2                  134309              41   \n",
       "10         Georgia              10.0                  263451              40   \n",
       "11       Tennessee              10.0                  176096              39   \n",
       "12        New York               9.7                  461391              38   \n",
       "13  North Carolina               9.5                  252021              37   \n",
       "14            Ohio               9.3                  274036              36   \n",
       "15         Arizona               9.2                  163902              35   \n",
       "16         Florida               9.1                  492413              34   \n",
       "17          Nevada               9.0                   67110              33   \n",
       "18        Michigan               8.8                  222032              32   \n",
       "19      California               8.5                  776066              31   \n",
       "20        Missouri               8.5                  131020              30   \n",
       "21         Indiana               8.5                  143800              29   \n",
       "22        Illinois               8.2                  256079              28   \n",
       "23    Pennsylvania               8.0                  262184              27   \n",
       "24          Kansas               7.6                   56045              26   \n",
       "25    South Dakota               7.5                   16445              25   \n",
       "26        Delaware               7.5                   18950              24   \n",
       "27         Montana               7.3                   19812              23   \n",
       "28           Idaho               7.3                   33802              22   \n",
       "29          Oregon               7.3                   75694              21   \n",
       "30    Rhode Island               7.2                   19196              20   \n",
       "31          Alaska               7.2                   12256              19   \n",
       "32            Iowa               7.0                   56617              18   \n",
       "33      New Jersey               6.9                  162445              17   \n",
       "34     Connecticut               6.8                   62426              16   \n",
       "35         Wyoming               6.8                   10055              15   \n",
       "36        Virginia               6.8                  145980              14   \n",
       "37        Nebraska               6.7                   32681              13   \n",
       "38       Wisconsin               6.6                   98072              12   \n",
       "39          Hawaii               6.5                   21700              11   \n",
       "40   Massachusetts               6.5                  111966              10   \n",
       "41           Maine               6.4                   22666               9   \n",
       "42      Washington               6.3                  121312               8   \n",
       "43        Maryland               6.2                   94779               7   \n",
       "44    North Dakota               6.1                   11567               6   \n",
       "45        Colorado               6.0                   84990               5   \n",
       "46         Vermont               5.9                    9229               4   \n",
       "47            Utah               5.7                   44250               3   \n",
       "48       Minnesota               5.5                   78687               2   \n",
       "49   New Hampshire               4.4                   15526               1   \n",
       "\n",
       "    Total Incidents Reported  Participating Agencies  Population Covered  \\\n",
       "0                       17.0                   156.0           1711605.0   \n",
       "1                       52.0                   145.0           3423421.0   \n",
       "2                       40.0                   100.0           1885968.0   \n",
       "3                       66.0                   248.0           1555284.0   \n",
       "4                      143.0                   427.0           4524497.0   \n",
       "5                       28.0                   298.0           2981249.0   \n",
       "6                      182.0                   408.0           4715066.0   \n",
       "7                       75.0                   460.0           4053824.0   \n",
       "8                      499.0                  1359.0          30161963.0   \n",
       "9                      111.0                   489.0           5363912.0   \n",
       "10                     138.0                   447.0          10098610.0   \n",
       "11                      90.0                   398.0           7121949.0   \n",
       "12                     961.0                   564.0          19487932.0   \n",
       "13                     271.0                   400.0          10421456.0   \n",
       "14                     437.0                   637.0          11239743.0   \n",
       "15                     230.0                   107.0           6826055.0   \n",
       "16                     234.0                   249.0          18148836.0   \n",
       "17                     105.0                    58.0           3181298.0   \n",
       "18                     365.0                   595.0           9517887.0   \n",
       "19                    1970.0                   842.0          38771948.0   \n",
       "20                     187.0                   505.0           6100091.0   \n",
       "21                     180.0                   227.0           5854222.0   \n",
       "22                     319.0                   626.0          11210798.0   \n",
       "23                     271.0                  1199.0          12441342.0   \n",
       "24                     121.0                   317.0           2705648.0   \n",
       "25                      11.0                   107.0            844189.0   \n",
       "26                      19.0                    63.0           1031890.0   \n",
       "27                      11.0                   111.0           1131954.0   \n",
       "28                      49.0                   109.0           1957679.0   \n",
       "29                     282.0                   207.0           4175772.0   \n",
       "30                      28.0                    48.0           1094548.0   \n",
       "31                      20.0                    32.0            728197.0   \n",
       "32                      63.0                   252.0           2998687.0   \n",
       "33                    1234.0                   488.0           8864303.0   \n",
       "34                     103.0                   108.0           3617176.0   \n",
       "35                      20.0                    52.0            515122.0   \n",
       "36                     271.0                   416.0           8715117.0   \n",
       "37                      49.0                   247.0           1902679.0   \n",
       "38                     136.0                   383.0           5743277.0   \n",
       "39                      25.0                     3.0           1270885.0   \n",
       "40                     552.0                   386.0           6971044.0   \n",
       "41                      53.0                   131.0           1395722.0   \n",
       "42                     557.0                   245.0           7758180.0   \n",
       "43                     248.0                   134.0           5986435.0   \n",
       "44                      20.0                   111.0            783926.0   \n",
       "45                     272.0                   224.0           5822451.0   \n",
       "46                      60.0                    87.0            647464.0   \n",
       "47                     181.0                   138.0           3399787.0   \n",
       "48                     181.0                   406.0           5732979.0   \n",
       "49                      37.0                   204.0           1361616.0   \n",
       "\n",
       "    Hate Crimes Per Capita  \n",
       "0                 0.000010  \n",
       "1                 0.000015  \n",
       "2                 0.000021  \n",
       "3                 0.000042  \n",
       "4                 0.000032  \n",
       "5                 0.000009  \n",
       "6                 0.000039  \n",
       "7                 0.000019  \n",
       "8                 0.000017  \n",
       "9                 0.000021  \n",
       "10                0.000014  \n",
       "11                0.000013  \n",
       "12                0.000049  \n",
       "13                0.000026  \n",
       "14                0.000039  \n",
       "15                0.000034  \n",
       "16                0.000013  \n",
       "17                0.000033  \n",
       "18                0.000038  \n",
       "19                0.000051  \n",
       "20                0.000031  \n",
       "21                0.000031  \n",
       "22                0.000028  \n",
       "23                0.000022  \n",
       "24                0.000045  \n",
       "25                0.000013  \n",
       "26                0.000018  \n",
       "27                0.000010  \n",
       "28                0.000025  \n",
       "29                0.000068  \n",
       "30                0.000026  \n",
       "31                0.000027  \n",
       "32                0.000021  \n",
       "33                0.000139  \n",
       "34                0.000028  \n",
       "35                0.000039  \n",
       "36                0.000031  \n",
       "37                0.000026  \n",
       "38                0.000024  \n",
       "39                0.000020  \n",
       "40                0.000079  \n",
       "41                0.000038  \n",
       "42                0.000072  \n",
       "43                0.000041  \n",
       "44                0.000026  \n",
       "45                0.000047  \n",
       "46                0.000093  \n",
       "47                0.000053  \n",
       "48                0.000032  \n",
       "49                0.000027  "
      ]
     },
     "execution_count": 24,
     "metadata": {},
     "output_type": "execute_result"
    }
   ],
   "source": [
    "merged_data[\"Hate Crimes Per Capita\"] = merged_data[\"Total Incidents Reported\"] / merged_data[\"Population Covered\"]\n",
    "merged_data"
   ]
  },
  {
   "cell_type": "markdown",
   "metadata": {
    "id": "7KNq-f7y68Dn"
   },
   "source": [
    "# Step 11:\n",
    "\n",
    "I created another scatter plot looking at the relationship between poverty rate and hate crimes per capita. I also included an OLS trendline."
   ]
  },
  {
   "cell_type": "code",
   "execution_count": 25,
   "metadata": {
    "colab": {
     "base_uri": "https://localhost:8080/",
     "height": 542
    },
    "id": "RwPzeP1wnUvx",
    "outputId": "57d3e1b0-06dc-4758-aaca-20720bf40b1d"
   },
   "outputs": [
    {
     "data": {
      "application/vnd.plotly.v1+json": {
       "config": {
        "plotlyServerURL": "https://plot.ly"
       },
       "data": [
        {
         "hovertemplate": "Poverty Rate (%)=%{x}<br>Hate Crimes Per Capita=%{y}<extra></extra>",
         "legendgroup": "",
         "marker": {
          "color": "#636efa",
          "symbol": "circle"
         },
         "mode": "markers",
         "name": "",
         "orientation": "v",
         "showlegend": false,
         "type": "scatter",
         "x": [
          14.4,
          13.9,
          13.7,
          11.9,
          11.7,
          11.6,
          11.3,
          11,
          10.7,
          10.2,
          10,
          10,
          9.7,
          9.5,
          9.3,
          9.2,
          9.1,
          9,
          8.8,
          8.5,
          8.5,
          8.5,
          8.2,
          8,
          7.6,
          7.5,
          7.5,
          7.3,
          7.3,
          7.3,
          7.2,
          7.2,
          7,
          6.9,
          6.8,
          6.8,
          6.8,
          6.7,
          6.6,
          6.5,
          6.5,
          6.4,
          6.3,
          6.2,
          6.1,
          6,
          5.9,
          5.7,
          5.5,
          4.4
         ],
         "xaxis": "x",
         "y": [
          0.000009932198141510453,
          0.000015189484436766614,
          0.00002120926760157118,
          0.00004243597953814223,
          0.000031605723243931866,
          0.000009392036693345642,
          0.00003859967177553824,
          0.00001850104987291012,
          0.000016544016050944695,
          0.000020693851800700683,
          0.000013665246999339514,
          0.000012636990239609971,
          0.00004931256944041061,
          0.000026004043964682095,
          0.00003887989253846818,
          0.000033694425257341175,
          0.000012893388865269377,
          0.000033005395910725746,
          0.00003834884780624103,
          0.000050809930932539166,
          0.000030655280388440104,
          0.000030747040341141827,
          0.000028454709468496354,
          0.000021782216098552714,
          0.00004472126455473883,
          0.000013030257442349996,
          0.000018412815319462347,
          0.000009717709376882807,
          0.00002502963969067452,
          0.00006753242274721896,
          0.000025581335857358473,
          0.000027465095297014406,
          0.000021009195024355658,
          0.00013921004279749915,
          0.000028475252517433488,
          0.000038825753899076334,
          0.00003109539435902008,
          0.00002575316172617662,
          0.000023679860818135707,
          0.00001967133139505148,
          0.00007918469600823062,
          0.0000379731780397529,
          0.00007179518907785073,
          0.00004142699285969028,
          0.00002551261215982121,
          0.000046715721609336,
          0.00009266924493099231,
          0.00005323862936119233,
          0.00003157171864749548,
          0.00002717359372980341
         ],
         "yaxis": "y"
        },
        {
         "hovertemplate": "<b>OLS trendline</b><br>Hate Crimes Per Capita = -3.55503e-06 * Poverty Rate (%) + 6.39991e-05<br>R<sup>2</sup>=0.122351<br><br>Poverty Rate (%)=%{x}<br>Hate Crimes Per Capita=%{y} <b>(trend)</b><extra></extra>",
         "legendgroup": "",
         "marker": {
          "color": "#636efa",
          "symbol": "circle"
         },
         "mode": "lines",
         "name": "",
         "showlegend": false,
         "type": "scatter",
         "x": [
          4.4,
          5.5,
          5.7,
          5.9,
          6,
          6.1,
          6.2,
          6.3,
          6.4,
          6.5,
          6.5,
          6.6,
          6.7,
          6.8,
          6.8,
          6.8,
          6.9,
          7,
          7.2,
          7.2,
          7.3,
          7.3,
          7.3,
          7.5,
          7.5,
          7.6,
          8,
          8.2,
          8.5,
          8.5,
          8.5,
          8.8,
          9,
          9.1,
          9.2,
          9.3,
          9.5,
          9.7,
          10,
          10,
          10.2,
          10.7,
          11,
          11.3,
          11.6,
          11.7,
          11.9,
          13.7,
          13.9,
          14.4
         ],
         "xaxis": "x",
         "y": [
          0.00004835697956629384,
          0.000044446451268218324,
          0.000043735446123113685,
          0.000043024440978009046,
          0.000042668938405456726,
          0.000042313435832904414,
          0.00004195793326035209,
          0.000041602430687799774,
          0.00004124692811524745,
          0.000040891425542695135,
          0.000040891425542695135,
          0.000040535922970142816,
          0.000040180420397590496,
          0.00003982491782503818,
          0.00003982491782503818,
          0.00003982491782503818,
          0.00003946941525248586,
          0.00003911391267993354,
          0.0000384029075348289,
          0.0000384029075348289,
          0.000038047404962276586,
          0.000038047404962276586,
          0.000038047404962276586,
          0.00003733639981717195,
          0.00003733639981717195,
          0.00003698089724461963,
          0.00003555888695441035,
          0.00003484788180930571,
          0.00003378137409164875,
          0.00003378137409164875,
          0.00003378137409164875,
          0.000032714866373991786,
          0.000032003861228887154,
          0.000031648358656334835,
          0.000031292856083782515,
          0.000030937353511230196,
          0.000030226348366125557,
          0.000029515343221020924,
          0.00002844883550336396,
          0.00002844883550336396,
          0.000027737830358259327,
          0.00002596031749549773,
          0.00002489380977784077,
          0.000023827302060183812,
          0.000022760794342526853,
          0.000022405291769974534,
          0.000021694286624869895,
          0.00001529524031892815,
          0.000014584235173823511,
          0.000012806722311061914
         ],
         "yaxis": "y"
        }
       ],
       "layout": {
        "legend": {
         "tracegroupgap": 0
        },
        "template": {
         "data": {
          "bar": [
           {
            "error_x": {
             "color": "#2a3f5f"
            },
            "error_y": {
             "color": "#2a3f5f"
            },
            "marker": {
             "line": {
              "color": "#E5ECF6",
              "width": 0.5
             },
             "pattern": {
              "fillmode": "overlay",
              "size": 10,
              "solidity": 0.2
             }
            },
            "type": "bar"
           }
          ],
          "barpolar": [
           {
            "marker": {
             "line": {
              "color": "#E5ECF6",
              "width": 0.5
             },
             "pattern": {
              "fillmode": "overlay",
              "size": 10,
              "solidity": 0.2
             }
            },
            "type": "barpolar"
           }
          ],
          "carpet": [
           {
            "aaxis": {
             "endlinecolor": "#2a3f5f",
             "gridcolor": "white",
             "linecolor": "white",
             "minorgridcolor": "white",
             "startlinecolor": "#2a3f5f"
            },
            "baxis": {
             "endlinecolor": "#2a3f5f",
             "gridcolor": "white",
             "linecolor": "white",
             "minorgridcolor": "white",
             "startlinecolor": "#2a3f5f"
            },
            "type": "carpet"
           }
          ],
          "choropleth": [
           {
            "colorbar": {
             "outlinewidth": 0,
             "ticks": ""
            },
            "type": "choropleth"
           }
          ],
          "contour": [
           {
            "colorbar": {
             "outlinewidth": 0,
             "ticks": ""
            },
            "colorscale": [
             [
              0,
              "#0d0887"
             ],
             [
              0.1111111111111111,
              "#46039f"
             ],
             [
              0.2222222222222222,
              "#7201a8"
             ],
             [
              0.3333333333333333,
              "#9c179e"
             ],
             [
              0.4444444444444444,
              "#bd3786"
             ],
             [
              0.5555555555555556,
              "#d8576b"
             ],
             [
              0.6666666666666666,
              "#ed7953"
             ],
             [
              0.7777777777777778,
              "#fb9f3a"
             ],
             [
              0.8888888888888888,
              "#fdca26"
             ],
             [
              1,
              "#f0f921"
             ]
            ],
            "type": "contour"
           }
          ],
          "contourcarpet": [
           {
            "colorbar": {
             "outlinewidth": 0,
             "ticks": ""
            },
            "type": "contourcarpet"
           }
          ],
          "heatmap": [
           {
            "colorbar": {
             "outlinewidth": 0,
             "ticks": ""
            },
            "colorscale": [
             [
              0,
              "#0d0887"
             ],
             [
              0.1111111111111111,
              "#46039f"
             ],
             [
              0.2222222222222222,
              "#7201a8"
             ],
             [
              0.3333333333333333,
              "#9c179e"
             ],
             [
              0.4444444444444444,
              "#bd3786"
             ],
             [
              0.5555555555555556,
              "#d8576b"
             ],
             [
              0.6666666666666666,
              "#ed7953"
             ],
             [
              0.7777777777777778,
              "#fb9f3a"
             ],
             [
              0.8888888888888888,
              "#fdca26"
             ],
             [
              1,
              "#f0f921"
             ]
            ],
            "type": "heatmap"
           }
          ],
          "heatmapgl": [
           {
            "colorbar": {
             "outlinewidth": 0,
             "ticks": ""
            },
            "colorscale": [
             [
              0,
              "#0d0887"
             ],
             [
              0.1111111111111111,
              "#46039f"
             ],
             [
              0.2222222222222222,
              "#7201a8"
             ],
             [
              0.3333333333333333,
              "#9c179e"
             ],
             [
              0.4444444444444444,
              "#bd3786"
             ],
             [
              0.5555555555555556,
              "#d8576b"
             ],
             [
              0.6666666666666666,
              "#ed7953"
             ],
             [
              0.7777777777777778,
              "#fb9f3a"
             ],
             [
              0.8888888888888888,
              "#fdca26"
             ],
             [
              1,
              "#f0f921"
             ]
            ],
            "type": "heatmapgl"
           }
          ],
          "histogram": [
           {
            "marker": {
             "pattern": {
              "fillmode": "overlay",
              "size": 10,
              "solidity": 0.2
             }
            },
            "type": "histogram"
           }
          ],
          "histogram2d": [
           {
            "colorbar": {
             "outlinewidth": 0,
             "ticks": ""
            },
            "colorscale": [
             [
              0,
              "#0d0887"
             ],
             [
              0.1111111111111111,
              "#46039f"
             ],
             [
              0.2222222222222222,
              "#7201a8"
             ],
             [
              0.3333333333333333,
              "#9c179e"
             ],
             [
              0.4444444444444444,
              "#bd3786"
             ],
             [
              0.5555555555555556,
              "#d8576b"
             ],
             [
              0.6666666666666666,
              "#ed7953"
             ],
             [
              0.7777777777777778,
              "#fb9f3a"
             ],
             [
              0.8888888888888888,
              "#fdca26"
             ],
             [
              1,
              "#f0f921"
             ]
            ],
            "type": "histogram2d"
           }
          ],
          "histogram2dcontour": [
           {
            "colorbar": {
             "outlinewidth": 0,
             "ticks": ""
            },
            "colorscale": [
             [
              0,
              "#0d0887"
             ],
             [
              0.1111111111111111,
              "#46039f"
             ],
             [
              0.2222222222222222,
              "#7201a8"
             ],
             [
              0.3333333333333333,
              "#9c179e"
             ],
             [
              0.4444444444444444,
              "#bd3786"
             ],
             [
              0.5555555555555556,
              "#d8576b"
             ],
             [
              0.6666666666666666,
              "#ed7953"
             ],
             [
              0.7777777777777778,
              "#fb9f3a"
             ],
             [
              0.8888888888888888,
              "#fdca26"
             ],
             [
              1,
              "#f0f921"
             ]
            ],
            "type": "histogram2dcontour"
           }
          ],
          "mesh3d": [
           {
            "colorbar": {
             "outlinewidth": 0,
             "ticks": ""
            },
            "type": "mesh3d"
           }
          ],
          "parcoords": [
           {
            "line": {
             "colorbar": {
              "outlinewidth": 0,
              "ticks": ""
             }
            },
            "type": "parcoords"
           }
          ],
          "pie": [
           {
            "automargin": true,
            "type": "pie"
           }
          ],
          "scatter": [
           {
            "fillpattern": {
             "fillmode": "overlay",
             "size": 10,
             "solidity": 0.2
            },
            "type": "scatter"
           }
          ],
          "scatter3d": [
           {
            "line": {
             "colorbar": {
              "outlinewidth": 0,
              "ticks": ""
             }
            },
            "marker": {
             "colorbar": {
              "outlinewidth": 0,
              "ticks": ""
             }
            },
            "type": "scatter3d"
           }
          ],
          "scattercarpet": [
           {
            "marker": {
             "colorbar": {
              "outlinewidth": 0,
              "ticks": ""
             }
            },
            "type": "scattercarpet"
           }
          ],
          "scattergeo": [
           {
            "marker": {
             "colorbar": {
              "outlinewidth": 0,
              "ticks": ""
             }
            },
            "type": "scattergeo"
           }
          ],
          "scattergl": [
           {
            "marker": {
             "colorbar": {
              "outlinewidth": 0,
              "ticks": ""
             }
            },
            "type": "scattergl"
           }
          ],
          "scattermapbox": [
           {
            "marker": {
             "colorbar": {
              "outlinewidth": 0,
              "ticks": ""
             }
            },
            "type": "scattermapbox"
           }
          ],
          "scatterpolar": [
           {
            "marker": {
             "colorbar": {
              "outlinewidth": 0,
              "ticks": ""
             }
            },
            "type": "scatterpolar"
           }
          ],
          "scatterpolargl": [
           {
            "marker": {
             "colorbar": {
              "outlinewidth": 0,
              "ticks": ""
             }
            },
            "type": "scatterpolargl"
           }
          ],
          "scatterternary": [
           {
            "marker": {
             "colorbar": {
              "outlinewidth": 0,
              "ticks": ""
             }
            },
            "type": "scatterternary"
           }
          ],
          "surface": [
           {
            "colorbar": {
             "outlinewidth": 0,
             "ticks": ""
            },
            "colorscale": [
             [
              0,
              "#0d0887"
             ],
             [
              0.1111111111111111,
              "#46039f"
             ],
             [
              0.2222222222222222,
              "#7201a8"
             ],
             [
              0.3333333333333333,
              "#9c179e"
             ],
             [
              0.4444444444444444,
              "#bd3786"
             ],
             [
              0.5555555555555556,
              "#d8576b"
             ],
             [
              0.6666666666666666,
              "#ed7953"
             ],
             [
              0.7777777777777778,
              "#fb9f3a"
             ],
             [
              0.8888888888888888,
              "#fdca26"
             ],
             [
              1,
              "#f0f921"
             ]
            ],
            "type": "surface"
           }
          ],
          "table": [
           {
            "cells": {
             "fill": {
              "color": "#EBF0F8"
             },
             "line": {
              "color": "white"
             }
            },
            "header": {
             "fill": {
              "color": "#C8D4E3"
             },
             "line": {
              "color": "white"
             }
            },
            "type": "table"
           }
          ]
         },
         "layout": {
          "annotationdefaults": {
           "arrowcolor": "#2a3f5f",
           "arrowhead": 0,
           "arrowwidth": 1
          },
          "autotypenumbers": "strict",
          "coloraxis": {
           "colorbar": {
            "outlinewidth": 0,
            "ticks": ""
           }
          },
          "colorscale": {
           "diverging": [
            [
             0,
             "#8e0152"
            ],
            [
             0.1,
             "#c51b7d"
            ],
            [
             0.2,
             "#de77ae"
            ],
            [
             0.3,
             "#f1b6da"
            ],
            [
             0.4,
             "#fde0ef"
            ],
            [
             0.5,
             "#f7f7f7"
            ],
            [
             0.6,
             "#e6f5d0"
            ],
            [
             0.7,
             "#b8e186"
            ],
            [
             0.8,
             "#7fbc41"
            ],
            [
             0.9,
             "#4d9221"
            ],
            [
             1,
             "#276419"
            ]
           ],
           "sequential": [
            [
             0,
             "#0d0887"
            ],
            [
             0.1111111111111111,
             "#46039f"
            ],
            [
             0.2222222222222222,
             "#7201a8"
            ],
            [
             0.3333333333333333,
             "#9c179e"
            ],
            [
             0.4444444444444444,
             "#bd3786"
            ],
            [
             0.5555555555555556,
             "#d8576b"
            ],
            [
             0.6666666666666666,
             "#ed7953"
            ],
            [
             0.7777777777777778,
             "#fb9f3a"
            ],
            [
             0.8888888888888888,
             "#fdca26"
            ],
            [
             1,
             "#f0f921"
            ]
           ],
           "sequentialminus": [
            [
             0,
             "#0d0887"
            ],
            [
             0.1111111111111111,
             "#46039f"
            ],
            [
             0.2222222222222222,
             "#7201a8"
            ],
            [
             0.3333333333333333,
             "#9c179e"
            ],
            [
             0.4444444444444444,
             "#bd3786"
            ],
            [
             0.5555555555555556,
             "#d8576b"
            ],
            [
             0.6666666666666666,
             "#ed7953"
            ],
            [
             0.7777777777777778,
             "#fb9f3a"
            ],
            [
             0.8888888888888888,
             "#fdca26"
            ],
            [
             1,
             "#f0f921"
            ]
           ]
          },
          "colorway": [
           "#636efa",
           "#EF553B",
           "#00cc96",
           "#ab63fa",
           "#FFA15A",
           "#19d3f3",
           "#FF6692",
           "#B6E880",
           "#FF97FF",
           "#FECB52"
          ],
          "font": {
           "color": "#2a3f5f"
          },
          "geo": {
           "bgcolor": "white",
           "lakecolor": "white",
           "landcolor": "#E5ECF6",
           "showlakes": true,
           "showland": true,
           "subunitcolor": "white"
          },
          "hoverlabel": {
           "align": "left"
          },
          "hovermode": "closest",
          "mapbox": {
           "style": "light"
          },
          "paper_bgcolor": "white",
          "plot_bgcolor": "#E5ECF6",
          "polar": {
           "angularaxis": {
            "gridcolor": "white",
            "linecolor": "white",
            "ticks": ""
           },
           "bgcolor": "#E5ECF6",
           "radialaxis": {
            "gridcolor": "white",
            "linecolor": "white",
            "ticks": ""
           }
          },
          "scene": {
           "xaxis": {
            "backgroundcolor": "#E5ECF6",
            "gridcolor": "white",
            "gridwidth": 2,
            "linecolor": "white",
            "showbackground": true,
            "ticks": "",
            "zerolinecolor": "white"
           },
           "yaxis": {
            "backgroundcolor": "#E5ECF6",
            "gridcolor": "white",
            "gridwidth": 2,
            "linecolor": "white",
            "showbackground": true,
            "ticks": "",
            "zerolinecolor": "white"
           },
           "zaxis": {
            "backgroundcolor": "#E5ECF6",
            "gridcolor": "white",
            "gridwidth": 2,
            "linecolor": "white",
            "showbackground": true,
            "ticks": "",
            "zerolinecolor": "white"
           }
          },
          "shapedefaults": {
           "line": {
            "color": "#2a3f5f"
           }
          },
          "ternary": {
           "aaxis": {
            "gridcolor": "white",
            "linecolor": "white",
            "ticks": ""
           },
           "baxis": {
            "gridcolor": "white",
            "linecolor": "white",
            "ticks": ""
           },
           "bgcolor": "#E5ECF6",
           "caxis": {
            "gridcolor": "white",
            "linecolor": "white",
            "ticks": ""
           }
          },
          "title": {
           "x": 0.05
          },
          "xaxis": {
           "automargin": true,
           "gridcolor": "white",
           "linecolor": "white",
           "ticks": "",
           "title": {
            "standoff": 15
           },
           "zerolinecolor": "white",
           "zerolinewidth": 2
          },
          "yaxis": {
           "automargin": true,
           "gridcolor": "white",
           "linecolor": "white",
           "ticks": "",
           "title": {
            "standoff": 15
           },
           "zerolinecolor": "white",
           "zerolinewidth": 2
          }
         }
        },
        "title": {
         "text": "Relationship Between Poverty Rate and Hate Crimes Per Capita"
        },
        "xaxis": {
         "anchor": "y",
         "domain": [
          0,
          1
         ],
         "title": {
          "text": "Poverty Rate (%)"
         }
        },
        "yaxis": {
         "anchor": "x",
         "domain": [
          0,
          1
         ],
         "title": {
          "text": "Hate Crimes Per Capita"
         }
        }
       }
      },
      "text/html": [
       "<div>                            <div id=\"45a5f45d-1b0b-404e-a4b3-7c37edf92564\" class=\"plotly-graph-div\" style=\"height:525px; width:100%;\"></div>            <script type=\"text/javascript\">                require([\"plotly\"], function(Plotly) {                    window.PLOTLYENV=window.PLOTLYENV || {};                                    if (document.getElementById(\"45a5f45d-1b0b-404e-a4b3-7c37edf92564\")) {                    Plotly.newPlot(                        \"45a5f45d-1b0b-404e-a4b3-7c37edf92564\",                        [{\"hovertemplate\":\"Poverty Rate (%)=%{x}\\u003cbr\\u003eHate Crimes Per Capita=%{y}\\u003cextra\\u003e\\u003c\\u002fextra\\u003e\",\"legendgroup\":\"\",\"marker\":{\"color\":\"#636efa\",\"symbol\":\"circle\"},\"mode\":\"markers\",\"name\":\"\",\"orientation\":\"v\",\"showlegend\":false,\"x\":[14.4,13.9,13.7,11.9,11.7,11.6,11.3,11.0,10.7,10.2,10.0,10.0,9.7,9.5,9.3,9.2,9.1,9.0,8.8,8.5,8.5,8.5,8.2,8.0,7.6,7.5,7.5,7.3,7.3,7.3,7.2,7.2,7.0,6.9,6.8,6.8,6.8,6.7,6.6,6.5,6.5,6.4,6.3,6.2,6.1,6.0,5.9,5.7,5.5,4.4],\"xaxis\":\"x\",\"y\":[9.932198141510453e-06,1.5189484436766614e-05,2.120926760157118e-05,4.243597953814223e-05,3.1605723243931866e-05,9.392036693345642e-06,3.859967177553824e-05,1.850104987291012e-05,1.6544016050944695e-05,2.0693851800700683e-05,1.3665246999339514e-05,1.2636990239609971e-05,4.931256944041061e-05,2.6004043964682095e-05,3.887989253846818e-05,3.3694425257341175e-05,1.2893388865269377e-05,3.3005395910725746e-05,3.834884780624103e-05,5.0809930932539166e-05,3.0655280388440104e-05,3.0747040341141827e-05,2.8454709468496354e-05,2.1782216098552714e-05,4.472126455473883e-05,1.3030257442349996e-05,1.8412815319462347e-05,9.717709376882807e-06,2.502963969067452e-05,6.753242274721896e-05,2.5581335857358473e-05,2.7465095297014406e-05,2.1009195024355658e-05,0.00013921004279749915,2.8475252517433488e-05,3.8825753899076334e-05,3.109539435902008e-05,2.575316172617662e-05,2.3679860818135707e-05,1.967133139505148e-05,7.918469600823062e-05,3.79731780397529e-05,7.179518907785073e-05,4.142699285969028e-05,2.551261215982121e-05,4.6715721609336e-05,9.266924493099231e-05,5.323862936119233e-05,3.157171864749548e-05,2.717359372980341e-05],\"yaxis\":\"y\",\"type\":\"scatter\"},{\"hovertemplate\":\"\\u003cb\\u003eOLS trendline\\u003c\\u002fb\\u003e\\u003cbr\\u003eHate Crimes Per Capita = -3.55503e-06 * Poverty Rate (%) + 6.39991e-05\\u003cbr\\u003eR\\u003csup\\u003e2\\u003c\\u002fsup\\u003e=0.122351\\u003cbr\\u003e\\u003cbr\\u003ePoverty Rate (%)=%{x}\\u003cbr\\u003eHate Crimes Per Capita=%{y} \\u003cb\\u003e(trend)\\u003c\\u002fb\\u003e\\u003cextra\\u003e\\u003c\\u002fextra\\u003e\",\"legendgroup\":\"\",\"marker\":{\"color\":\"#636efa\",\"symbol\":\"circle\"},\"mode\":\"lines\",\"name\":\"\",\"showlegend\":false,\"x\":[4.4,5.5,5.7,5.9,6.0,6.1,6.2,6.3,6.4,6.5,6.5,6.6,6.7,6.8,6.8,6.8,6.9,7.0,7.2,7.2,7.3,7.3,7.3,7.5,7.5,7.6,8.0,8.2,8.5,8.5,8.5,8.8,9.0,9.1,9.2,9.3,9.5,9.7,10.0,10.0,10.2,10.7,11.0,11.3,11.6,11.7,11.9,13.7,13.9,14.4],\"xaxis\":\"x\",\"y\":[4.835697956629384e-05,4.4446451268218324e-05,4.3735446123113685e-05,4.3024440978009046e-05,4.2668938405456726e-05,4.2313435832904414e-05,4.195793326035209e-05,4.1602430687799774e-05,4.124692811524745e-05,4.0891425542695135e-05,4.0891425542695135e-05,4.0535922970142816e-05,4.0180420397590496e-05,3.982491782503818e-05,3.982491782503818e-05,3.982491782503818e-05,3.946941525248586e-05,3.911391267993354e-05,3.84029075348289e-05,3.84029075348289e-05,3.8047404962276586e-05,3.8047404962276586e-05,3.8047404962276586e-05,3.733639981717195e-05,3.733639981717195e-05,3.698089724461963e-05,3.555888695441035e-05,3.484788180930571e-05,3.378137409164875e-05,3.378137409164875e-05,3.378137409164875e-05,3.2714866373991786e-05,3.2003861228887154e-05,3.1648358656334835e-05,3.1292856083782515e-05,3.0937353511230196e-05,3.0226348366125557e-05,2.9515343221020924e-05,2.844883550336396e-05,2.844883550336396e-05,2.7737830358259327e-05,2.596031749549773e-05,2.489380977784077e-05,2.3827302060183812e-05,2.2760794342526853e-05,2.2405291769974534e-05,2.1694286624869895e-05,1.529524031892815e-05,1.4584235173823511e-05,1.2806722311061914e-05],\"yaxis\":\"y\",\"type\":\"scatter\"}],                        {\"template\":{\"data\":{\"histogram2dcontour\":[{\"type\":\"histogram2dcontour\",\"colorbar\":{\"outlinewidth\":0,\"ticks\":\"\"},\"colorscale\":[[0.0,\"#0d0887\"],[0.1111111111111111,\"#46039f\"],[0.2222222222222222,\"#7201a8\"],[0.3333333333333333,\"#9c179e\"],[0.4444444444444444,\"#bd3786\"],[0.5555555555555556,\"#d8576b\"],[0.6666666666666666,\"#ed7953\"],[0.7777777777777778,\"#fb9f3a\"],[0.8888888888888888,\"#fdca26\"],[1.0,\"#f0f921\"]]}],\"choropleth\":[{\"type\":\"choropleth\",\"colorbar\":{\"outlinewidth\":0,\"ticks\":\"\"}}],\"histogram2d\":[{\"type\":\"histogram2d\",\"colorbar\":{\"outlinewidth\":0,\"ticks\":\"\"},\"colorscale\":[[0.0,\"#0d0887\"],[0.1111111111111111,\"#46039f\"],[0.2222222222222222,\"#7201a8\"],[0.3333333333333333,\"#9c179e\"],[0.4444444444444444,\"#bd3786\"],[0.5555555555555556,\"#d8576b\"],[0.6666666666666666,\"#ed7953\"],[0.7777777777777778,\"#fb9f3a\"],[0.8888888888888888,\"#fdca26\"],[1.0,\"#f0f921\"]]}],\"heatmap\":[{\"type\":\"heatmap\",\"colorbar\":{\"outlinewidth\":0,\"ticks\":\"\"},\"colorscale\":[[0.0,\"#0d0887\"],[0.1111111111111111,\"#46039f\"],[0.2222222222222222,\"#7201a8\"],[0.3333333333333333,\"#9c179e\"],[0.4444444444444444,\"#bd3786\"],[0.5555555555555556,\"#d8576b\"],[0.6666666666666666,\"#ed7953\"],[0.7777777777777778,\"#fb9f3a\"],[0.8888888888888888,\"#fdca26\"],[1.0,\"#f0f921\"]]}],\"heatmapgl\":[{\"type\":\"heatmapgl\",\"colorbar\":{\"outlinewidth\":0,\"ticks\":\"\"},\"colorscale\":[[0.0,\"#0d0887\"],[0.1111111111111111,\"#46039f\"],[0.2222222222222222,\"#7201a8\"],[0.3333333333333333,\"#9c179e\"],[0.4444444444444444,\"#bd3786\"],[0.5555555555555556,\"#d8576b\"],[0.6666666666666666,\"#ed7953\"],[0.7777777777777778,\"#fb9f3a\"],[0.8888888888888888,\"#fdca26\"],[1.0,\"#f0f921\"]]}],\"contourcarpet\":[{\"type\":\"contourcarpet\",\"colorbar\":{\"outlinewidth\":0,\"ticks\":\"\"}}],\"contour\":[{\"type\":\"contour\",\"colorbar\":{\"outlinewidth\":0,\"ticks\":\"\"},\"colorscale\":[[0.0,\"#0d0887\"],[0.1111111111111111,\"#46039f\"],[0.2222222222222222,\"#7201a8\"],[0.3333333333333333,\"#9c179e\"],[0.4444444444444444,\"#bd3786\"],[0.5555555555555556,\"#d8576b\"],[0.6666666666666666,\"#ed7953\"],[0.7777777777777778,\"#fb9f3a\"],[0.8888888888888888,\"#fdca26\"],[1.0,\"#f0f921\"]]}],\"surface\":[{\"type\":\"surface\",\"colorbar\":{\"outlinewidth\":0,\"ticks\":\"\"},\"colorscale\":[[0.0,\"#0d0887\"],[0.1111111111111111,\"#46039f\"],[0.2222222222222222,\"#7201a8\"],[0.3333333333333333,\"#9c179e\"],[0.4444444444444444,\"#bd3786\"],[0.5555555555555556,\"#d8576b\"],[0.6666666666666666,\"#ed7953\"],[0.7777777777777778,\"#fb9f3a\"],[0.8888888888888888,\"#fdca26\"],[1.0,\"#f0f921\"]]}],\"mesh3d\":[{\"type\":\"mesh3d\",\"colorbar\":{\"outlinewidth\":0,\"ticks\":\"\"}}],\"scatter\":[{\"fillpattern\":{\"fillmode\":\"overlay\",\"size\":10,\"solidity\":0.2},\"type\":\"scatter\"}],\"parcoords\":[{\"type\":\"parcoords\",\"line\":{\"colorbar\":{\"outlinewidth\":0,\"ticks\":\"\"}}}],\"scatterpolargl\":[{\"type\":\"scatterpolargl\",\"marker\":{\"colorbar\":{\"outlinewidth\":0,\"ticks\":\"\"}}}],\"bar\":[{\"error_x\":{\"color\":\"#2a3f5f\"},\"error_y\":{\"color\":\"#2a3f5f\"},\"marker\":{\"line\":{\"color\":\"#E5ECF6\",\"width\":0.5},\"pattern\":{\"fillmode\":\"overlay\",\"size\":10,\"solidity\":0.2}},\"type\":\"bar\"}],\"scattergeo\":[{\"type\":\"scattergeo\",\"marker\":{\"colorbar\":{\"outlinewidth\":0,\"ticks\":\"\"}}}],\"scatterpolar\":[{\"type\":\"scatterpolar\",\"marker\":{\"colorbar\":{\"outlinewidth\":0,\"ticks\":\"\"}}}],\"histogram\":[{\"marker\":{\"pattern\":{\"fillmode\":\"overlay\",\"size\":10,\"solidity\":0.2}},\"type\":\"histogram\"}],\"scattergl\":[{\"type\":\"scattergl\",\"marker\":{\"colorbar\":{\"outlinewidth\":0,\"ticks\":\"\"}}}],\"scatter3d\":[{\"type\":\"scatter3d\",\"line\":{\"colorbar\":{\"outlinewidth\":0,\"ticks\":\"\"}},\"marker\":{\"colorbar\":{\"outlinewidth\":0,\"ticks\":\"\"}}}],\"scattermapbox\":[{\"type\":\"scattermapbox\",\"marker\":{\"colorbar\":{\"outlinewidth\":0,\"ticks\":\"\"}}}],\"scatterternary\":[{\"type\":\"scatterternary\",\"marker\":{\"colorbar\":{\"outlinewidth\":0,\"ticks\":\"\"}}}],\"scattercarpet\":[{\"type\":\"scattercarpet\",\"marker\":{\"colorbar\":{\"outlinewidth\":0,\"ticks\":\"\"}}}],\"carpet\":[{\"aaxis\":{\"endlinecolor\":\"#2a3f5f\",\"gridcolor\":\"white\",\"linecolor\":\"white\",\"minorgridcolor\":\"white\",\"startlinecolor\":\"#2a3f5f\"},\"baxis\":{\"endlinecolor\":\"#2a3f5f\",\"gridcolor\":\"white\",\"linecolor\":\"white\",\"minorgridcolor\":\"white\",\"startlinecolor\":\"#2a3f5f\"},\"type\":\"carpet\"}],\"table\":[{\"cells\":{\"fill\":{\"color\":\"#EBF0F8\"},\"line\":{\"color\":\"white\"}},\"header\":{\"fill\":{\"color\":\"#C8D4E3\"},\"line\":{\"color\":\"white\"}},\"type\":\"table\"}],\"barpolar\":[{\"marker\":{\"line\":{\"color\":\"#E5ECF6\",\"width\":0.5},\"pattern\":{\"fillmode\":\"overlay\",\"size\":10,\"solidity\":0.2}},\"type\":\"barpolar\"}],\"pie\":[{\"automargin\":true,\"type\":\"pie\"}]},\"layout\":{\"autotypenumbers\":\"strict\",\"colorway\":[\"#636efa\",\"#EF553B\",\"#00cc96\",\"#ab63fa\",\"#FFA15A\",\"#19d3f3\",\"#FF6692\",\"#B6E880\",\"#FF97FF\",\"#FECB52\"],\"font\":{\"color\":\"#2a3f5f\"},\"hovermode\":\"closest\",\"hoverlabel\":{\"align\":\"left\"},\"paper_bgcolor\":\"white\",\"plot_bgcolor\":\"#E5ECF6\",\"polar\":{\"bgcolor\":\"#E5ECF6\",\"angularaxis\":{\"gridcolor\":\"white\",\"linecolor\":\"white\",\"ticks\":\"\"},\"radialaxis\":{\"gridcolor\":\"white\",\"linecolor\":\"white\",\"ticks\":\"\"}},\"ternary\":{\"bgcolor\":\"#E5ECF6\",\"aaxis\":{\"gridcolor\":\"white\",\"linecolor\":\"white\",\"ticks\":\"\"},\"baxis\":{\"gridcolor\":\"white\",\"linecolor\":\"white\",\"ticks\":\"\"},\"caxis\":{\"gridcolor\":\"white\",\"linecolor\":\"white\",\"ticks\":\"\"}},\"coloraxis\":{\"colorbar\":{\"outlinewidth\":0,\"ticks\":\"\"}},\"colorscale\":{\"sequential\":[[0.0,\"#0d0887\"],[0.1111111111111111,\"#46039f\"],[0.2222222222222222,\"#7201a8\"],[0.3333333333333333,\"#9c179e\"],[0.4444444444444444,\"#bd3786\"],[0.5555555555555556,\"#d8576b\"],[0.6666666666666666,\"#ed7953\"],[0.7777777777777778,\"#fb9f3a\"],[0.8888888888888888,\"#fdca26\"],[1.0,\"#f0f921\"]],\"sequentialminus\":[[0.0,\"#0d0887\"],[0.1111111111111111,\"#46039f\"],[0.2222222222222222,\"#7201a8\"],[0.3333333333333333,\"#9c179e\"],[0.4444444444444444,\"#bd3786\"],[0.5555555555555556,\"#d8576b\"],[0.6666666666666666,\"#ed7953\"],[0.7777777777777778,\"#fb9f3a\"],[0.8888888888888888,\"#fdca26\"],[1.0,\"#f0f921\"]],\"diverging\":[[0,\"#8e0152\"],[0.1,\"#c51b7d\"],[0.2,\"#de77ae\"],[0.3,\"#f1b6da\"],[0.4,\"#fde0ef\"],[0.5,\"#f7f7f7\"],[0.6,\"#e6f5d0\"],[0.7,\"#b8e186\"],[0.8,\"#7fbc41\"],[0.9,\"#4d9221\"],[1,\"#276419\"]]},\"xaxis\":{\"gridcolor\":\"white\",\"linecolor\":\"white\",\"ticks\":\"\",\"title\":{\"standoff\":15},\"zerolinecolor\":\"white\",\"automargin\":true,\"zerolinewidth\":2},\"yaxis\":{\"gridcolor\":\"white\",\"linecolor\":\"white\",\"ticks\":\"\",\"title\":{\"standoff\":15},\"zerolinecolor\":\"white\",\"automargin\":true,\"zerolinewidth\":2},\"scene\":{\"xaxis\":{\"backgroundcolor\":\"#E5ECF6\",\"gridcolor\":\"white\",\"linecolor\":\"white\",\"showbackground\":true,\"ticks\":\"\",\"zerolinecolor\":\"white\",\"gridwidth\":2},\"yaxis\":{\"backgroundcolor\":\"#E5ECF6\",\"gridcolor\":\"white\",\"linecolor\":\"white\",\"showbackground\":true,\"ticks\":\"\",\"zerolinecolor\":\"white\",\"gridwidth\":2},\"zaxis\":{\"backgroundcolor\":\"#E5ECF6\",\"gridcolor\":\"white\",\"linecolor\":\"white\",\"showbackground\":true,\"ticks\":\"\",\"zerolinecolor\":\"white\",\"gridwidth\":2}},\"shapedefaults\":{\"line\":{\"color\":\"#2a3f5f\"}},\"annotationdefaults\":{\"arrowcolor\":\"#2a3f5f\",\"arrowhead\":0,\"arrowwidth\":1},\"geo\":{\"bgcolor\":\"white\",\"landcolor\":\"#E5ECF6\",\"subunitcolor\":\"white\",\"showland\":true,\"showlakes\":true,\"lakecolor\":\"white\"},\"title\":{\"x\":0.05},\"mapbox\":{\"style\":\"light\"}}},\"xaxis\":{\"anchor\":\"y\",\"domain\":[0.0,1.0],\"title\":{\"text\":\"Poverty Rate (%)\"}},\"yaxis\":{\"anchor\":\"x\",\"domain\":[0.0,1.0],\"title\":{\"text\":\"Hate Crimes Per Capita\"}},\"legend\":{\"tracegroupgap\":0},\"title\":{\"text\":\"Relationship Between Poverty Rate and Hate Crimes Per Capita\"}},                        {\"responsive\": true}                    ).then(function(){\n",
       "                            \n",
       "var gd = document.getElementById('45a5f45d-1b0b-404e-a4b3-7c37edf92564');\n",
       "var x = new MutationObserver(function (mutations, observer) {{\n",
       "        var display = window.getComputedStyle(gd).display;\n",
       "        if (!display || display === 'none') {{\n",
       "            console.log([gd, 'removed!']);\n",
       "            Plotly.purge(gd);\n",
       "            observer.disconnect();\n",
       "        }}\n",
       "}});\n",
       "\n",
       "// Listen for the removal of the full notebook cells\n",
       "var notebookContainer = gd.closest('#notebook-container');\n",
       "if (notebookContainer) {{\n",
       "    x.observe(notebookContainer, {childList: true});\n",
       "}}\n",
       "\n",
       "// Listen for the clearing of the current output cell\n",
       "var outputEl = gd.closest('.output');\n",
       "if (outputEl) {{\n",
       "    x.observe(outputEl, {childList: true});\n",
       "}}\n",
       "\n",
       "                        })                };                });            </script>        </div>"
      ]
     },
     "metadata": {},
     "output_type": "display_data"
    }
   ],
   "source": [
    "import plotly.express as px\n",
    "\n",
    "fig = px.scatter(\n",
    "    merged_data,\n",
    "    x=\"Poverty Rate (%)\",\n",
    "    y=\"Hate Crimes Per Capita\",\n",
    "    title=\"Relationship Between Poverty Rate and Hate Crimes Per Capita\",\n",
    "    labels={\"Poverty Rate (%)\": \"Poverty Rate (%)\", \"Hate Crimes Per Capita\": \"Hate Crimes Per Capita\"},\n",
    "    trendline=\"ols\"\n",
    ")\n",
    "\n",
    "fig.show()\n"
   ]
  },
  {
   "cell_type": "markdown",
   "metadata": {
    "id": "Z9rqHeu27HEd"
   },
   "source": [
    "# Step 12:\n",
    "\n",
    "I also included the OLS results from this data. See discussion in the conclusion section."
   ]
  },
  {
   "cell_type": "code",
   "execution_count": 26,
   "metadata": {
    "colab": {
     "base_uri": "https://localhost:8080/"
    },
    "collapsed": true,
    "id": "i2JzbZ6knxEc",
    "outputId": "a1b8c9f2-0ac6-4431-f542-7ed0669846a3"
   },
   "outputs": [
    {
     "name": "stdout",
     "output_type": "stream",
     "text": [
      "                            OLS Regression Results                            \n",
      "==============================================================================\n",
      "Dep. Variable:                      y   R-squared:                       0.122\n",
      "Model:                            OLS   Adj. R-squared:                  0.104\n",
      "Method:                 Least Squares   F-statistic:                     6.692\n",
      "Date:                Sun, 08 Dec 2024   Prob (F-statistic):             0.0128\n",
      "Time:                        20:21:20   Log-Likelihood:                 466.09\n",
      "No. Observations:                  50   AIC:                            -928.2\n",
      "Df Residuals:                      48   BIC:                            -924.4\n",
      "Df Model:                           1                                         \n",
      "Covariance Type:            nonrobust                                         \n",
      "==============================================================================\n",
      "                 coef    std err          t      P>|t|      [0.025      0.975]\n",
      "------------------------------------------------------------------------------\n",
      "const         6.4e-05   1.19e-05      5.367      0.000       4e-05     8.8e-05\n",
      "x1         -3.555e-06   1.37e-06     -2.587      0.013   -6.32e-06   -7.92e-07\n",
      "==============================================================================\n",
      "Omnibus:                       42.111   Durbin-Watson:                   2.107\n",
      "Prob(Omnibus):                  0.000   Jarque-Bera (JB):              149.144\n",
      "Skew:                           2.249   Prob(JB):                     4.11e-33\n",
      "Kurtosis:                      10.167   Cond. No.                         33.5\n",
      "==============================================================================\n",
      "\n",
      "Notes:\n",
      "[1] Standard Errors assume that the covariance matrix of the errors is correctly specified.\n"
     ]
    }
   ],
   "source": [
    "ols_results2 = px.get_trendline_results(fig) #Copied from above--GPT helped\n",
    "print(ols_results2.iloc[0][\"px_fit_results\"].summary()) #Copied from above--GPT helped"
   ]
  },
  {
   "cell_type": "markdown",
   "metadata": {
    "id": "yuOGDLro7Om7"
   },
   "source": [
    "# Conclusion:"
   ]
  },
  {
   "cell_type": "markdown",
   "metadata": {
    "id": "VR3haw75vaDG"
   },
   "source": [
    "So, the final output is the one visualization that I want to show. Namely the relationship between poverty rate and hate crimes per capita. I used the Census Bureau (from the National Institute on Monetary Health and Health Disparities) for the poverty rate data. I used FBI data for the hate crimes data. First I loaded in and then cleaned up the data. I needed to encode it correctly and used GPT for help on that section. I then needed to eliminate all the extra, excess information in the data that I did not need. So I essentially labled the valid states and droped all the other stuff not in that list. I then created two bar charts looking at the data and making sure it came out clean. I then merged the data set and looked at the relationship poverty rate and hate crime incidents using OLS. This was not statistically significant and not really a useful metric to look at because different states have different populations. So I created a column with hate crimes per capita and then looked at another scatter chart with OLS. The key takeaways are interesting for this one (Relationship between Poverty Rate and Hate Crimes Per Capita):\n",
    "\n",
    "1.   There is a statistically significant negative relationship between poverty rate and hate cries per capita. A higher poverty rate is associated with lower hate crimes per capita. This is surprising.\n",
    "2.   Although there is a statistical significance, I hestitate to draw causal conclusions from the data. There is a lot of omitted variable bias. For example, states that are more culturally homogeneous could be poorer.\n",
    "\n",
    "I printed the OLS regression output for both graphs, but for the purpose of this project, the most important visualization is the scatter plot of Relationship between Poverty Rate and Hate Crimes Per Capita.\n"
   ]
  }
 ],
 "metadata": {
  "colab": {
   "provenance": []
  },
  "kernelspec": {
   "display_name": "base",
   "language": "python",
   "name": "python3"
  },
  "language_info": {
   "codemirror_mode": {
    "name": "ipython",
    "version": 3
   },
   "file_extension": ".py",
   "mimetype": "text/x-python",
   "name": "python",
   "nbconvert_exporter": "python",
   "pygments_lexer": "ipython3",
   "version": "3.12.2"
  }
 },
 "nbformat": 4,
 "nbformat_minor": 0
}
