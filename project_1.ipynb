{
 "cells": [
  {
   "cell_type": "markdown",
   "metadata": {
    "id": "E4b5nSeJIs4c"
   },
   "source": [
    "# Project 1 Nareg Balian nsb2165"
   ]
  },
  {
   "cell_type": "markdown",
   "metadata": {
    "id": "18XrFF-v2EYT"
   },
   "source": [
    "# Step 1:\n",
    "I used an NYC Dog Licensing Dataset. The description is as follows: \"Active Dog Licenses.\n",
    "\n",
    "All dog owners residing in NYC are required by law to license their dogs. The data is sourced from the DOHMH Dog Licensing System (https://a816-healthpsi.nyc.gov/DogLicense), where owners can apply for and renew dog licenses. Each record represents a unique dog license that was active during the year, but not necessarily a unique record per dog, since a license that is renewed during the year results in a separate record of an active license period. Each record stands as a unique license period for the dog over the course of the yearlong time frame.\""
   ]
  },
  {
   "cell_type": "code",
   "execution_count": 1,
   "metadata": {
    "colab": {
     "base_uri": "https://localhost:8080/",
     "height": 601
    },
    "executionInfo": {
     "elapsed": 1456,
     "status": "ok",
     "timestamp": 1733685633654,
     "user": {
      "displayName": "Nareg Stepan Sheram Balian",
      "userId": "00187683591774982606"
     },
     "user_tz": 300
    },
    "id": "1_y3q-CEDk7v",
    "outputId": "9e7f2c29-fb64-43ba-b559-0e99acdba8c4"
   },
   "outputs": [
    {
     "name": "stderr",
     "output_type": "stream",
     "text": [
      "/var/folders/wc/8d_myqrn3rv03frmdd2qvv600000gn/T/ipykernel_54188/2521731737.py:2: DtypeWarning: Columns (2) have mixed types. Specify dtype option on import or set low_memory=False.\n",
      "  df = pd.read_csv('NYC_Dog_Licensing_Dataset.csv')\n"
     ]
    },
    {
     "data": {
      "text/html": [
       "<div>\n",
       "<style scoped>\n",
       "    .dataframe tbody tr th:only-of-type {\n",
       "        vertical-align: middle;\n",
       "    }\n",
       "\n",
       "    .dataframe tbody tr th {\n",
       "        vertical-align: top;\n",
       "    }\n",
       "\n",
       "    .dataframe thead th {\n",
       "        text-align: right;\n",
       "    }\n",
       "</style>\n",
       "<table border=\"1\" class=\"dataframe\">\n",
       "  <thead>\n",
       "    <tr style=\"text-align: right;\">\n",
       "      <th></th>\n",
       "      <th>AnimalName</th>\n",
       "      <th>AnimalGender</th>\n",
       "      <th>AnimalBirthYear</th>\n",
       "      <th>BreedName</th>\n",
       "      <th>ZipCode</th>\n",
       "      <th>LicenseIssuedDate</th>\n",
       "      <th>LicenseExpiredDate</th>\n",
       "      <th>Extract Year</th>\n",
       "    </tr>\n",
       "  </thead>\n",
       "  <tbody>\n",
       "    <tr>\n",
       "      <th>0</th>\n",
       "      <td>PAIGE</td>\n",
       "      <td>F</td>\n",
       "      <td>2014</td>\n",
       "      <td>American Pit Bull Mix / Pit Bull Mix</td>\n",
       "      <td>10035.0</td>\n",
       "      <td>09/12/2014</td>\n",
       "      <td>09/12/2017</td>\n",
       "      <td>2016</td>\n",
       "    </tr>\n",
       "    <tr>\n",
       "      <th>1</th>\n",
       "      <td>YOGI</td>\n",
       "      <td>M</td>\n",
       "      <td>2010</td>\n",
       "      <td>Boxer</td>\n",
       "      <td>10465.0</td>\n",
       "      <td>09/12/2014</td>\n",
       "      <td>10/02/2017</td>\n",
       "      <td>2016</td>\n",
       "    </tr>\n",
       "    <tr>\n",
       "      <th>2</th>\n",
       "      <td>ALI</td>\n",
       "      <td>M</td>\n",
       "      <td>2014</td>\n",
       "      <td>Basenji</td>\n",
       "      <td>10013.0</td>\n",
       "      <td>09/12/2014</td>\n",
       "      <td>09/12/2019</td>\n",
       "      <td>2016</td>\n",
       "    </tr>\n",
       "    <tr>\n",
       "      <th>3</th>\n",
       "      <td>QUEEN</td>\n",
       "      <td>F</td>\n",
       "      <td>2013</td>\n",
       "      <td>Akita Crossbreed</td>\n",
       "      <td>10013.0</td>\n",
       "      <td>09/12/2014</td>\n",
       "      <td>09/12/2017</td>\n",
       "      <td>2016</td>\n",
       "    </tr>\n",
       "    <tr>\n",
       "      <th>4</th>\n",
       "      <td>LOLA</td>\n",
       "      <td>F</td>\n",
       "      <td>2009</td>\n",
       "      <td>Maltese</td>\n",
       "      <td>10028.0</td>\n",
       "      <td>09/12/2014</td>\n",
       "      <td>10/09/2017</td>\n",
       "      <td>2016</td>\n",
       "    </tr>\n",
       "    <tr>\n",
       "      <th>...</th>\n",
       "      <td>...</td>\n",
       "      <td>...</td>\n",
       "      <td>...</td>\n",
       "      <td>...</td>\n",
       "      <td>...</td>\n",
       "      <td>...</td>\n",
       "      <td>...</td>\n",
       "      <td>...</td>\n",
       "    </tr>\n",
       "    <tr>\n",
       "      <th>616885</th>\n",
       "      <td>SKYE</td>\n",
       "      <td>F</td>\n",
       "      <td>2016</td>\n",
       "      <td>Great Pyrenees</td>\n",
       "      <td>11218.0</td>\n",
       "      <td>11/01/2023</td>\n",
       "      <td>12/02/2024</td>\n",
       "      <td>2023</td>\n",
       "    </tr>\n",
       "    <tr>\n",
       "      <th>616886</th>\n",
       "      <td>UNKNOWN</td>\n",
       "      <td>F</td>\n",
       "      <td>2023</td>\n",
       "      <td>Shih Tzu Crossbreed</td>\n",
       "      <td>10022.0</td>\n",
       "      <td>11/01/2023</td>\n",
       "      <td>11/01/2024</td>\n",
       "      <td>2023</td>\n",
       "    </tr>\n",
       "    <tr>\n",
       "      <th>616887</th>\n",
       "      <td>MUNYU</td>\n",
       "      <td>M</td>\n",
       "      <td>2009</td>\n",
       "      <td>Poodle, Toy</td>\n",
       "      <td>11355.0</td>\n",
       "      <td>11/01/2023</td>\n",
       "      <td>11/24/2024</td>\n",
       "      <td>2023</td>\n",
       "    </tr>\n",
       "    <tr>\n",
       "      <th>616888</th>\n",
       "      <td>SAINT</td>\n",
       "      <td>M</td>\n",
       "      <td>2021</td>\n",
       "      <td>Unknown</td>\n",
       "      <td>11412.0</td>\n",
       "      <td>11/01/2023</td>\n",
       "      <td>11/01/2024</td>\n",
       "      <td>2023</td>\n",
       "    </tr>\n",
       "    <tr>\n",
       "      <th>616889</th>\n",
       "      <td>BABY</td>\n",
       "      <td>F</td>\n",
       "      <td>2021</td>\n",
       "      <td>Unknown</td>\n",
       "      <td>10473.0</td>\n",
       "      <td>11/01/2023</td>\n",
       "      <td>11/01/2024</td>\n",
       "      <td>2023</td>\n",
       "    </tr>\n",
       "  </tbody>\n",
       "</table>\n",
       "<p>616890 rows × 8 columns</p>\n",
       "</div>"
      ],
      "text/plain": [
       "       AnimalName AnimalGender AnimalBirthYear  \\\n",
       "0           PAIGE            F            2014   \n",
       "1            YOGI            M            2010   \n",
       "2             ALI            M            2014   \n",
       "3           QUEEN            F            2013   \n",
       "4            LOLA            F            2009   \n",
       "...           ...          ...             ...   \n",
       "616885       SKYE            F            2016   \n",
       "616886    UNKNOWN            F            2023   \n",
       "616887      MUNYU            M            2009   \n",
       "616888      SAINT            M            2021   \n",
       "616889       BABY            F            2021   \n",
       "\n",
       "                                   BreedName  ZipCode LicenseIssuedDate  \\\n",
       "0       American Pit Bull Mix / Pit Bull Mix  10035.0        09/12/2014   \n",
       "1                                      Boxer  10465.0        09/12/2014   \n",
       "2                                    Basenji  10013.0        09/12/2014   \n",
       "3                           Akita Crossbreed  10013.0        09/12/2014   \n",
       "4                                    Maltese  10028.0        09/12/2014   \n",
       "...                                      ...      ...               ...   \n",
       "616885                        Great Pyrenees  11218.0        11/01/2023   \n",
       "616886                   Shih Tzu Crossbreed  10022.0        11/01/2023   \n",
       "616887                           Poodle, Toy  11355.0        11/01/2023   \n",
       "616888                               Unknown  11412.0        11/01/2023   \n",
       "616889                               Unknown  10473.0        11/01/2023   \n",
       "\n",
       "       LicenseExpiredDate  Extract Year  \n",
       "0              09/12/2017          2016  \n",
       "1              10/02/2017          2016  \n",
       "2              09/12/2019          2016  \n",
       "3              09/12/2017          2016  \n",
       "4              10/09/2017          2016  \n",
       "...                   ...           ...  \n",
       "616885         12/02/2024          2023  \n",
       "616886         11/01/2024          2023  \n",
       "616887         11/24/2024          2023  \n",
       "616888         11/01/2024          2023  \n",
       "616889         11/01/2024          2023  \n",
       "\n",
       "[616890 rows x 8 columns]"
      ]
     },
     "execution_count": 1,
     "metadata": {},
     "output_type": "execute_result"
    }
   ],
   "source": [
    "import pandas as pd\n",
    "df = pd.read_csv('NYC_Dog_Licensing_Dataset.csv')\n",
    "df"
   ]
  },
  {
   "cell_type": "markdown",
   "metadata": {
    "id": "AQFzma192VNk"
   },
   "source": [
    "# Steps 2-4:\n",
    "I picked the Animal Birth Year as my numeric column. I cut out the errors and cleaned the data set and then used pandas to compute the mean, median, and mode."
   ]
  },
  {
   "cell_type": "code",
   "execution_count": 2,
   "metadata": {
    "colab": {
     "base_uri": "https://localhost:8080/"
    },
    "executionInfo": {
     "elapsed": 886,
     "status": "ok",
     "timestamp": 1733685637096,
     "user": {
      "displayName": "Nareg Stepan Sheram Balian",
      "userId": "00187683591774982606"
     },
     "user_tz": 300
    },
    "id": "9vujnyKiKueU",
    "outputId": "04e67fef-2189-4d86-8d98-837ea7dc1090"
   },
   "outputs": [
    {
     "name": "stdout",
     "output_type": "stream",
     "text": [
      "Mean: 2013.9584070939923\n",
      "Median: 2015.0\n",
      "Mode: 2020\n"
     ]
    }
   ],
   "source": [
    "errors = ['ERROR: #VALUE!', 'ERROR: #DIV/0!', 'ERROR: #REF!'] #used Gemini for this line to account for all the errors\n",
    "df['AnimalBirthYear'] = pd.to_numeric(df['AnimalBirthYear'], errors='coerce').astype('Int64') #used Gemini for \"errors='coerce'.astype('Int64')\"\n",
    "mean = df['AnimalBirthYear'].mean()\n",
    "median = df['AnimalBirthYear'].median()\n",
    "mode = df['AnimalBirthYear'].mode() [0] #asked Gemini how to get 1 mode the \"[0]\"\n",
    "\n",
    "print(f\"Mean: {mean}\")\n",
    "print(f\"Median: {median}\")\n",
    "print(f\"Mode: {mode}\")"
   ]
  },
  {
   "cell_type": "markdown",
   "metadata": {
    "id": "gGiNKU9h2ku-"
   },
   "source": [
    "# Step 5:\n",
    "I computed the mean, median, and mode only using the python library. I used list comprehension extensively. I computed the mean easily. The median I approached how I would do it by hand. I sorted the data and then created a variable n that gave me the length of the data. I used Gemini to help me with the last step of finding the \"middle number.\" Finally, for the mode, I looked at frequency values and used a for loop. Gemini also helped me with this step."
   ]
  },
  {
   "cell_type": "code",
   "execution_count": 4,
   "metadata": {
    "colab": {
     "base_uri": "https://localhost:8080/"
    },
    "executionInfo": {
     "elapsed": 2446,
     "status": "ok",
     "timestamp": 1733685641504,
     "user": {
      "displayName": "Nareg Stepan Sheram Balian",
      "userId": "00187683591774982606"
     },
     "user_tz": 300
    },
    "id": "ZHGPhblbNqyp",
    "outputId": "6cde1c8a-7a78-4cd9-a35c-ca93901b51db"
   },
   "outputs": [
    {
     "name": "stdout",
     "output_type": "stream",
     "text": [
      "Mean: 2013.9584070939923\n",
      "Median: 2015.0\n",
      "Mode: 2020\n"
     ]
    }
   ],
   "source": [
    "import csv\n",
    "\n",
    "file_path = 'NYC_Dog_Licensing_Dataset.csv'\n",
    "with open(file_path, 'r') as file:\n",
    "    reader = csv.DictReader(file)\n",
    "    data_list = [int(row['AnimalBirthYear']) for row in reader if row['AnimalBirthYear'].isdigit()] #mostly did this, but asked Gemini to check it. It added the \"int\"\n",
    "\n",
    "mean = sum(data_list) / len(data_list)\n",
    "\n",
    "data_list.sort()\n",
    "n = len(data_list)\n",
    "median = (data_list[n // 2] + data_list[(n - 1) // 2]) / 2 #used Gemini for this line \"median = (data_list[n // 2] + data_list[(n - 1) // 2]) / 2\"\n",
    "\n",
    "frequency = {}\n",
    "for num in data_list:\n",
    "    frequency[num] = frequency.get(num, 0) + 1\n",
    "\n",
    "max_frequency = max(frequency.values())\n",
    "mode = [num for num, freq in frequency.items() if freq == max_frequency][0] #starting from frequency={} until mode = [num for num, freq in frequency.items() if freq == max_frequency][0] is Gemini\n",
    "print(f\"Mean: {mean}\")\n",
    "print(f\"Median: {median}\")\n",
    "print(f\"Mode: {mode}\")"
   ]
  },
  {
   "cell_type": "markdown",
   "metadata": {
    "id": "1IKO5dpE36ut"
   },
   "source": [
    "# Step 6:\n",
    "I wanted to visualize the Animal Birth Year in a way that made sense. So, using a value counts, I (with some Gemini help) created a bar chart with a visual aspect to it using Python's standard library."
   ]
  },
  {
   "cell_type": "code",
   "execution_count": null,
   "metadata": {
    "colab": {
     "base_uri": "https://localhost:8080/"
    },
    "executionInfo": {
     "elapsed": 239,
     "status": "ok",
     "timestamp": 1733685689053,
     "user": {
      "displayName": "Nareg Stepan Sheram Balian",
      "userId": "00187683591774982606"
     },
     "user_tz": 300
    },
    "id": "266nbD7MkBGx",
    "outputId": "de051740-e326-4ed4-a329-43b5264b1161"
   },
   "outputs": [
    {
     "name": "stdout",
     "output_type": "stream",
     "text": [
      "Distribution of Animal Birth Years\n",
      "2020: ███████ (7.71%)\n",
      "2016: ███████ (7.36%)\n",
      "2015: ███████ (7.28%)\n",
      "2017: ███████ (7.01%)\n",
      "2019: ██████ (6.84%)\n",
      "2018: ██████ (6.66%)\n",
      "2014: ██████ (6.66%)\n",
      "2013: ██████ (6.14%)\n",
      "2012: █████ (5.71%)\n",
      "2011: █████ (5.29%)\n",
      "2010: █████ (5.12%)\n",
      "2009: ████ (4.66%)\n",
      "2021: ████ (4.17%)\n",
      "2008: ████ (4.05%)\n",
      "2007: ███ (3.43%)\n",
      "2006: ██ (2.68%)\n",
      "2022: ██ (2.39%)\n",
      "2005: ██ (2.06%)\n",
      "2004: █ (1.45%)\n",
      "2003: █ (1.02%)\n",
      "2023:  (0.86%)\n",
      "2002:  (0.61%)\n",
      "2001:  (0.39%)\n",
      "2000:  (0.29%)\n",
      "1999:  (0.09%)\n",
      "1998:  (0.04%)\n",
      "1997:  (0.02%)\n",
      "1996:  (0.01%)\n",
      "1995:  (0.00%)\n",
      "1993:  (0.00%)\n",
      "1991:  (0.00%)\n",
      "1992:  (0.00%)\n",
      "1994:  (0.00%)\n",
      "1973:  (0.00%)\n",
      "1920:  (0.00%)\n",
      "1989:  (0.00%)\n",
      "1934:  (0.00%)\n",
      "1987:  (0.00%)\n",
      "1921:  (0.00%)\n",
      "1912:  (0.00%)\n",
      "1922:  (0.00%)\n",
      "1986:  (0.00%)\n",
      "1990:  (0.00%)\n",
      "1930:  (0.00%)\n",
      "1923:  (0.00%)\n"
     ]
    }
   ],
   "source": [
    "frequency = df['AnimalBirthYear'].value_counts(normalize=True) #used Gemini for \".value_counts(normalize=True)\"\n",
    "percentages = frequency * 100\n",
    "bar_char = '█'\n",
    "\n",
    "print(\"Distribution of Animal Birth Years\")\n",
    "\n",
    "for year, percentage in percentages.items(): #used Gemini for the next few lines \"for year... bar= bar_car*bar_length\"\n",
    "    bar_length = int(percentage)\n",
    "    bar = bar_char * bar_length\n",
    "    print(f\"{year}: {bar} ({percentage:.2f}%)\")"
   ]
  }
 ],
 "metadata": {
  "colab": {
   "authorship_tag": "ABX9TyPiM0G9LjilKNU0eSNNIGIH",
   "provenance": []
  },
  "kernelspec": {
   "display_name": "base",
   "language": "python",
   "name": "python3"
  },
  "language_info": {
   "codemirror_mode": {
    "name": "ipython",
    "version": 3
   },
   "file_extension": ".py",
   "mimetype": "text/x-python",
   "name": "python",
   "nbconvert_exporter": "python",
   "pygments_lexer": "ipython3",
   "version": "3.12.2"
  }
 },
 "nbformat": 4,
 "nbformat_minor": 0
}
